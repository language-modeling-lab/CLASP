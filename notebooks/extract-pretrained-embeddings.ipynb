{
 "cells": [
  {
   "cell_type": "code",
   "execution_count": null,
   "metadata": {
    "_cell_guid": "b1076dfc-b9ad-4769-8c92-a6c4dae69d19",
    "_uuid": "8f2839f25d086af736a60e9eeb907d3b93b6e0e5",
    "execution": {
     "iopub.execute_input": "2023-10-15T17:42:37.337989Z",
     "iopub.status.busy": "2023-10-15T17:42:37.336994Z",
     "iopub.status.idle": "2023-10-15T17:43:18.942250Z",
     "shell.execute_reply": "2023-10-15T17:43:18.940987Z",
     "shell.execute_reply.started": "2023-10-15T17:42:37.337924Z"
    },
    "trusted": true
   },
   "outputs": [],
   "source": [
    "!pip install transformers\n",
    "!pip install opendatasets\n",
    "!pip install pydub\n",
    "!pip install gdown\n",
    "!pip install -U sentence-transformers"
   ]
  },
  {
   "cell_type": "code",
   "execution_count": null,
   "metadata": {
    "execution": {
     "iopub.execute_input": "2023-10-15T17:43:18.945291Z",
     "iopub.status.busy": "2023-10-15T17:43:18.944542Z",
     "iopub.status.idle": "2023-10-15T17:43:33.454686Z",
     "shell.execute_reply": "2023-10-15T17:43:33.453523Z",
     "shell.execute_reply.started": "2023-10-15T17:43:18.945251Z"
    },
    "trusted": true
   },
   "outputs": [],
   "source": [
    "import torch\n",
    "from transformers import AutoProcessor, Wav2Vec2Model\n",
    "from datasets import load_dataset\n",
    "from transformers import AutoTokenizer, AutoModel\n",
    "import numpy as np\n",
    "import torch.nn.functional as F\n",
    "import torch.nn as nn\n",
    "from tqdm import tqdm\n",
    "from torch.utils.data import Dataset, DataLoader, random_split\n",
    "from sklearn.model_selection import train_test_split\n",
    "from time import time\n",
    "from matplotlib import pyplot as plt\n",
    "from sklearn.metrics import accuracy_score\n",
    "import os\n",
    "from pydub import AudioSegment\n",
    "import opendatasets as od\n",
    "import pandas as pd\n",
    "import gc\n",
    "import random\n",
    "import pickle\n",
    "import gdown\n",
    "import json\n",
    "from nltk import word_tokenize\n",
    "import string\n",
    "from zipfile import ZipFile\n",
    "from torch.nn.functional import cosine_similarity\n",
    "from tabulate import tabulate\n",
    "from sklearn.metrics import precision_score, recall_score, f1_score, accuracy_score\n",
    "import librosa\n",
    "import librosa.display\n",
    "import matplotlib.pyplot as plt\n",
    "import torchvision.models as models\n",
    "import torchvision.transforms.functional as F\n",
    "from PIL import Image\n",
    "import cv2\n",
    "from sentence_transformers import SentenceTransformer\n",
    "from IPython.display import FileLink\n",
    "from shutil import rmtree\n",
    "from datasets import load_dataset\n",
    "from IPython.display import Audio, display\n",
    "import torchaudio"
   ]
  },
  {
   "cell_type": "markdown",
   "metadata": {},
   "source": [
    "# Brown (add Spectogram, Wav2vec2, Labse)"
   ]
  },
  {
   "cell_type": "code",
   "execution_count": null,
   "metadata": {
    "execution": {
     "iopub.execute_input": "2023-10-15T17:43:33.458457Z",
     "iopub.status.busy": "2023-10-15T17:43:33.456167Z",
     "iopub.status.idle": "2023-10-15T17:43:33.546234Z",
     "shell.execute_reply": "2023-10-15T17:43:33.545226Z",
     "shell.execute_reply.started": "2023-10-15T17:43:33.458422Z"
    },
    "trusted": true
   },
   "outputs": [],
   "source": [
    "device = torch.device(\"cuda\" if torch.cuda.is_available() else \"cpu\")\n",
    "device"
   ]
  },
  {
   "cell_type": "code",
   "execution_count": null,
   "metadata": {
    "execution": {
     "iopub.execute_input": "2023-07-17T05:13:02.836954Z",
     "iopub.status.busy": "2023-07-17T05:13:02.836357Z",
     "iopub.status.idle": "2023-07-17T05:13:06.785188Z",
     "shell.execute_reply": "2023-07-17T05:13:06.783999Z",
     "shell.execute_reply.started": "2023-07-17T05:13:02.836919Z"
    },
    "trusted": true
   },
   "outputs": [],
   "source": [
    "url = \"https://drive.google.com/file/d/1MWRTrInoCkdGF-Hj3f8iv0TnzYtGDhkc/view?usp=share_link\"\n",
    "output = \"localized_metadata.json\"\n",
    "gdown.download(url, output, quiet=False, fuzzy=True)"
   ]
  },
  {
   "cell_type": "code",
   "execution_count": null,
   "metadata": {
    "execution": {
     "iopub.execute_input": "2023-07-18T06:55:01.751398Z",
     "iopub.status.busy": "2023-07-18T06:55:01.750384Z",
     "iopub.status.idle": "2023-07-18T06:55:01.864515Z",
     "shell.execute_reply": "2023-07-18T06:55:01.863520Z",
     "shell.execute_reply.started": "2023-07-18T06:55:01.751369Z"
    },
    "trusted": true
   },
   "outputs": [],
   "source": [
    "with open('localized_metadata.json', 'r') as f:\n",
    "    localized_metdata = json.load(f)\n",
    "localized_metdata.keys()"
   ]
  },
  {
   "cell_type": "code",
   "execution_count": null,
   "metadata": {
    "execution": {
     "iopub.status.busy": "2023-08-09T16:26:17.859574Z",
     "iopub.status.idle": "2023-08-09T16:26:17.860121Z",
     "shell.execute_reply": "2023-08-09T16:26:17.859910Z",
     "shell.execute_reply.started": "2023-08-09T16:26:17.859883Z"
    },
    "trusted": true
   },
   "outputs": [],
   "source": [
    "def download_data_part(url, output):\n",
    "    gdown.download(url, output, quiet=False, fuzzy=True)\n",
    "    with ZipFile(output, 'r') as zip_ref:\n",
    "        zip_ref.extractall(output.split('.')[0])\n",
    "    os.remove(output)"
   ]
  },
  {
   "cell_type": "code",
   "execution_count": null,
   "metadata": {
    "execution": {
     "iopub.execute_input": "2023-07-23T18:07:53.873563Z",
     "iopub.status.busy": "2023-07-23T18:07:53.872952Z",
     "iopub.status.idle": "2023-07-23T18:08:21.453596Z",
     "shell.execute_reply": "2023-07-23T18:08:21.452601Z",
     "shell.execute_reply.started": "2023-07-23T18:07:53.873529Z"
    },
    "trusted": true
   },
   "outputs": [],
   "source": [
    "audio_processor = AutoProcessor.from_pretrained(\"facebook/wav2vec2-base-960h\")\n",
    "audio_model = Wav2Vec2Model.from_pretrained(\"facebook/wav2vec2-base-960h\").to(device)"
   ]
  },
  {
   "cell_type": "code",
   "execution_count": null,
   "metadata": {
    "execution": {
     "iopub.execute_input": "2023-07-23T18:08:21.455550Z",
     "iopub.status.busy": "2023-07-23T18:08:21.455081Z",
     "iopub.status.idle": "2023-07-23T18:08:36.425722Z",
     "shell.execute_reply": "2023-07-23T18:08:36.424712Z",
     "shell.execute_reply.started": "2023-07-23T18:08:21.455513Z"
    },
    "trusted": true
   },
   "outputs": [],
   "source": [
    "vision_model = models.efficientnet_b7(pretrained=True)\n",
    "vision_model.cuda()\n",
    "_ = vision_model.eval()"
   ]
  },
  {
   "cell_type": "code",
   "execution_count": null,
   "metadata": {
    "execution": {
     "iopub.execute_input": "2023-07-23T18:08:36.427543Z",
     "iopub.status.busy": "2023-07-23T18:08:36.427106Z",
     "iopub.status.idle": "2023-07-23T18:10:24.427660Z",
     "shell.execute_reply": "2023-07-23T18:10:24.426642Z",
     "shell.execute_reply.started": "2023-07-23T18:08:36.427510Z"
    },
    "trusted": true
   },
   "outputs": [],
   "source": [
    "text_model = SentenceTransformer('sentence-transformers/LaBSE').to(device)"
   ]
  },
  {
   "cell_type": "code",
   "execution_count": null,
   "metadata": {
    "execution": {
     "iopub.execute_input": "2023-07-23T18:39:15.794254Z",
     "iopub.status.busy": "2023-07-23T18:39:15.793881Z",
     "iopub.status.idle": "2023-07-23T18:39:15.801059Z",
     "shell.execute_reply": "2023-07-23T18:39:15.800051Z",
     "shell.execute_reply.started": "2023-07-23T18:39:15.794225Z"
    },
    "trusted": true
   },
   "outputs": [],
   "source": [
    "def get_image_embedding(path):\n",
    "    image = cv2.imread(path)\n",
    "    image_tensor = torch.from_numpy(image)\n",
    "    image_tensor = image_tensor.unsqueeze(0)\n",
    "    image_tensor = image_tensor.permute(0, 3, 1, 2)\n",
    "    image_tensor = image_tensor.to(device)\n",
    "    image_tensor = image_tensor.float()\n",
    "    with torch.no_grad():\n",
    "        output = vision_model(image_tensor)\n",
    "        embedding = output[0].cpu()\n",
    "        return embedding"
   ]
  },
  {
   "cell_type": "code",
   "execution_count": null,
   "metadata": {
    "execution": {
     "iopub.execute_input": "2023-07-17T20:48:05.670631Z",
     "iopub.status.busy": "2023-07-17T20:48:05.669943Z",
     "iopub.status.idle": "2023-07-17T20:48:05.693180Z",
     "shell.execute_reply": "2023-07-17T20:48:05.692115Z",
     "shell.execute_reply.started": "2023-07-17T20:48:05.670578Z"
    },
    "trusted": true
   },
   "outputs": [],
   "source": [
    "def pipeline(part_id):\n",
    "    embeddings_data = {}\n",
    "    valid_ids = []\n",
    "    for audio_idx in tqdm(range(len(localized_metdata[f'part{part_id}']))):\n",
    "        if audio_idx % 100 == 0:\n",
    "            torch.cuda.empty_cache()\n",
    "            gc.collect()\n",
    "            torch.cuda.ipc_collect()\n",
    "        try:\n",
    "            file_path = f'dataset_part{part_id}'+'/audios/' + localized_metdata[f'part{part_id}'][audio_idx]['file_path'].split('/')[-1]\n",
    "\n",
    "            audio_file = AudioSegment.from_file(file_path)\n",
    "            samples = np.array(audio_file.get_array_of_samples())\n",
    "            samples = samples.reshape(-1, audio_file.channels)\n",
    "            samples = samples / np.max(np.abs(samples))\n",
    "            samples = samples.squeeze()\n",
    "\n",
    "            audio = torch.from_numpy(samples)\n",
    "            inputs = audio_processor(audio, sampling_rate=16000, return_tensors=\"pt\").to(device)\n",
    "            with torch.no_grad():\n",
    "                outputs = audio_model(**inputs)\n",
    "            last_hidden_states = outputs.last_hidden_state.squeeze(0)\n",
    "            embeddings = last_hidden_states.mean(dim=0)\n",
    "            embeddings_data[localized_metdata[f'part{part_id}'][audio_idx]['id']] = []\n",
    "            embeddings_data[localized_metdata[f'part{part_id}'][audio_idx]['id']].append(embeddings)\n",
    "        except Exception as e:\n",
    "            print(localized_metdata[f'part{part_id}'][audio_idx]['id'])\n",
    "            continue\n",
    "        valid_ids.append(localized_metdata[f'part{part_id}'][audio_idx]['id'])\n",
    "\n",
    "    final_valid_ids = []\n",
    "    for audio_idx in tqdm(range(len(localized_metdata[f'part{part_id}']))):\n",
    "        if localized_metdata[f'part{part_id}'][audio_idx]['id'] not in valid_ids:\n",
    "             continue\n",
    "                \n",
    "        if audio_idx % 100 == 0:\n",
    "            torch.cuda.empty_cache()\n",
    "            gc.collect()\n",
    "            torch.cuda.ipc_collect()\n",
    "        try:\n",
    "            file_path = f'dataset_part{part_id}'+'/audios/' + localized_metdata[f'part{part_id}'][audio_idx]['file_path'].split('/')[-1]\n",
    "            y, sr = librosa.load(file_path)\n",
    "            spec = librosa.stft(y)\n",
    "            spec_db = librosa.amplitude_to_db(abs(spec))\n",
    "            \n",
    "            plt.clf()\n",
    "            librosa.display.specshow(spec_db, x_axis='time', y_axis='log')\n",
    "            plt.xlabel('')\n",
    "            plt.ylabel('')\n",
    "            plt.tight_layout()\n",
    "\n",
    "            _id = localized_metdata[f'part{part_id}'][audio_idx]['id']\n",
    "            saved_path = f'spec.png'\n",
    "            plt.savefig(saved_path, bbox_inches='tight', pad_inches=0)\n",
    "            image_embeddings = get_image_embedding(saved_path)\n",
    "            embeddings_data[_id].append(image_embeddings)\n",
    "\n",
    "        except Exception as e:\n",
    "            print(localized_metdata[f'part{part_id}'][audio_idx]['id'])\n",
    "            continue\n",
    "        final_valid_ids.append(localized_metdata[f'part{part_id}'][audio_idx]['id'])\n",
    "    final_ids = []\n",
    "    for audio_idx in tqdm(range(len(localized_metdata[f'part{part_id}']))):\n",
    "        if localized_metdata[f'part{part_id}'][audio_idx]['id'] not in final_valid_ids:\n",
    "            continue\n",
    "        try:\n",
    "            _id = localized_metdata[f'part{part_id}'][audio_idx]['id']\n",
    "            text_embeddings = text_model.encode(localized_metdata[f'part{part_id}'][audio_idx]['text'])\n",
    "            embeddings_data[_id].append(text_embeddings)\n",
    "        except Exception as e:\n",
    "            print(localized_metdata[f'part{part_id}'][audio_idx]['id'])\n",
    "            continue\n",
    "        final_ids.append(localized_metdata[f'part{part_id}'][audio_idx]['id'])\n",
    "    final_embeddings_data = {}\n",
    "    for key in embeddings_data.keys():\n",
    "        if key not in final_ids:\n",
    "            continue\n",
    "        final_embeddings_data[key] = embeddings_data[key]\n",
    "        final_embeddings_data[key][2] = torch.tensor(final_embeddings_data[key][2])\n",
    "        final_embeddings_data[key][0] = final_embeddings_data[key][0].cpu()\n",
    "    \n",
    "    with open(f'pretrained_embeddings_part{part_id}.pkl', 'wb') as f:\n",
    "        pickle.dump(final_embeddings_data, f)\n"
   ]
  },
  {
   "cell_type": "code",
   "execution_count": null,
   "metadata": {
    "execution": {
     "iopub.status.busy": "2023-08-09T16:26:17.861911Z",
     "iopub.status.idle": "2023-08-09T16:26:17.862498Z",
     "shell.execute_reply": "2023-08-09T16:26:17.862227Z",
     "shell.execute_reply.started": "2023-08-09T16:26:17.862189Z"
    },
    "trusted": true
   },
   "outputs": [],
   "source": [
    "download_data_part('https://drive.google.com/file/d/1GkXhLbzHrobM4GaGX80PzRHl-TBPg8h4/view?usp=drive_link','dataset_part1.zip')"
   ]
  },
  {
   "cell_type": "code",
   "execution_count": null,
   "metadata": {
    "trusted": true
   },
   "outputs": [],
   "source": [
    "# pipeline(1)"
   ]
  },
  {
   "cell_type": "code",
   "execution_count": null,
   "metadata": {
    "execution": {
     "iopub.execute_input": "2023-07-17T05:30:51.666181Z",
     "iopub.status.busy": "2023-07-17T05:30:51.665770Z",
     "iopub.status.idle": "2023-07-17T05:31:41.138820Z",
     "shell.execute_reply": "2023-07-17T05:31:41.137738Z",
     "shell.execute_reply.started": "2023-07-17T05:30:51.666147Z"
    },
    "trusted": true
   },
   "outputs": [],
   "source": [
    "# part 2\n",
    "# download_data_part('https://drive.google.com/file/d/1n_xxsblXrw5tCVk7ZP6_kRtubjMOuC2l/view?usp=drive_link','dataset_part2.zip')"
   ]
  },
  {
   "cell_type": "code",
   "execution_count": null,
   "metadata": {
    "trusted": true
   },
   "outputs": [],
   "source": [
    "# pipeline(2)"
   ]
  },
  {
   "cell_type": "code",
   "execution_count": null,
   "metadata": {
    "execution": {
     "iopub.execute_input": "2023-07-17T10:18:47.381772Z",
     "iopub.status.busy": "2023-07-17T10:18:47.381340Z",
     "iopub.status.idle": "2023-07-17T10:19:39.044421Z",
     "shell.execute_reply": "2023-07-17T10:19:39.042762Z",
     "shell.execute_reply.started": "2023-07-17T10:18:47.381734Z"
    },
    "trusted": true
   },
   "outputs": [],
   "source": [
    "# part 3\n",
    "# download_data_part('https://drive.google.com/file/d/14-Tvd3jvgY2Ge5-cxOsX7Arx6esfUxeN/view?usp=drive_link','dataset_part3.zip')"
   ]
  },
  {
   "cell_type": "code",
   "execution_count": null,
   "metadata": {
    "trusted": true
   },
   "outputs": [],
   "source": [
    "# pipeline(3)"
   ]
  },
  {
   "cell_type": "code",
   "execution_count": null,
   "metadata": {},
   "outputs": [],
   "source": [
    "# part 4\n",
    "# download_data_part('https://drive.google.com/file/d/1fId6jAxD5UzObg4zu30GPpcP-P9F7TSL/view?usp=drive_link','dataset_part4.zip')"
   ]
  },
  {
   "cell_type": "code",
   "execution_count": null,
   "metadata": {},
   "outputs": [],
   "source": [
    "# pipeline(4)"
   ]
  },
  {
   "cell_type": "code",
   "execution_count": null,
   "metadata": {},
   "outputs": [],
   "source": [
    "# part 5\n",
    "# download_data_part('https://drive.google.com/file/d/1VssFVfqgnXy7JpgUKpTWEVg11bqYK2bn/view?usp=drive_link','dataset_part5.zip')"
   ]
  },
  {
   "cell_type": "code",
   "execution_count": null,
   "metadata": {},
   "outputs": [],
   "source": [
    "# pipeline(5)"
   ]
  },
  {
   "cell_type": "code",
   "execution_count": null,
   "metadata": {},
   "outputs": [],
   "source": [
    "# part 6\n",
    "# download_data_part('https://drive.google.com/file/d/11vhiU4lV8w3IYTXebTDr-9j7834ig6OU/view?usp=drive_link','dataset_part6.zip')"
   ]
  },
  {
   "cell_type": "code",
   "execution_count": null,
   "metadata": {},
   "outputs": [],
   "source": [
    "# pipeline(6)"
   ]
  },
  {
   "cell_type": "code",
   "execution_count": null,
   "metadata": {
    "execution": {
     "iopub.execute_input": "2023-07-17T20:48:37.880725Z",
     "iopub.status.busy": "2023-07-17T20:48:37.879627Z",
     "iopub.status.idle": "2023-07-17T20:49:38.728418Z",
     "shell.execute_reply": "2023-07-17T20:49:38.727222Z",
     "shell.execute_reply.started": "2023-07-17T20:48:37.880687Z"
    },
    "trusted": true
   },
   "outputs": [],
   "source": [
    "# part 7\n",
    "# download_data_part('https://drive.google.com/file/d/1FbPz9VnDgU9Bj7sxtxOb7Etx1_dnobmH/view?usp=drive_link','dataset_part7.zip')"
   ]
  },
  {
   "cell_type": "code",
   "execution_count": null,
   "metadata": {
    "trusted": true
   },
   "outputs": [],
   "source": [
    "# pipeline(7)"
   ]
  },
  {
   "cell_type": "code",
   "execution_count": null,
   "metadata": {
    "execution": {
     "iopub.execute_input": "2023-07-17T22:42:17.917694Z",
     "iopub.status.busy": "2023-07-17T22:42:17.916613Z",
     "iopub.status.idle": "2023-07-17T22:42:18.994874Z",
     "shell.execute_reply": "2023-07-17T22:42:18.993766Z",
     "shell.execute_reply.started": "2023-07-17T22:42:17.917642Z"
    },
    "trusted": true
   },
   "outputs": [],
   "source": [
    "# from shutil import rmtree\n",
    "# rmtree('dataset_part6')\n",
    "# rmtree('dataset_part7')"
   ]
  },
  {
   "cell_type": "code",
   "execution_count": null,
   "metadata": {
    "execution": {
     "iopub.execute_input": "2023-07-17T22:42:49.398658Z",
     "iopub.status.busy": "2023-07-17T22:42:49.398185Z",
     "iopub.status.idle": "2023-07-17T22:43:31.247940Z",
     "shell.execute_reply": "2023-07-17T22:43:31.246679Z",
     "shell.execute_reply.started": "2023-07-17T22:42:49.398591Z"
    },
    "trusted": true
   },
   "outputs": [],
   "source": [
    "# part 8\n",
    "# download_data_part('https://drive.google.com/file/d/1E_UWK88hWwhwKI8kiND3OCtdo3tnlOu5/view?usp=drive_link','dataset_part8.zip')"
   ]
  },
  {
   "cell_type": "code",
   "execution_count": null,
   "metadata": {
    "trusted": true
   },
   "outputs": [],
   "source": [
    "# pipeline(8)"
   ]
  },
  {
   "cell_type": "code",
   "execution_count": null,
   "metadata": {
    "execution": {
     "iopub.execute_input": "2023-07-17T22:43:31.252192Z",
     "iopub.status.busy": "2023-07-17T22:43:31.251744Z",
     "iopub.status.idle": "2023-07-17T22:44:26.031451Z",
     "shell.execute_reply": "2023-07-17T22:44:26.029421Z",
     "shell.execute_reply.started": "2023-07-17T22:43:31.252161Z"
    },
    "trusted": true
   },
   "outputs": [],
   "source": [
    "# part 9\n",
    "# download_data_part('https://drive.google.com/file/d/17PC8U5HYQ8r9wGlpQoeptjMyA7rK6PrZ/view?usp=drive_link','dataset_part9.zip')"
   ]
  },
  {
   "cell_type": "code",
   "execution_count": null,
   "metadata": {
    "trusted": true
   },
   "outputs": [],
   "source": [
    "# pipeline(9)"
   ]
  },
  {
   "cell_type": "code",
   "execution_count": null,
   "metadata": {
    "execution": {
     "iopub.execute_input": "2023-07-17T22:44:26.033684Z",
     "iopub.status.busy": "2023-07-17T22:44:26.033242Z",
     "iopub.status.idle": "2023-07-17T22:45:15.949725Z",
     "shell.execute_reply": "2023-07-17T22:45:15.948446Z",
     "shell.execute_reply.started": "2023-07-17T22:44:26.033635Z"
    },
    "trusted": true
   },
   "outputs": [],
   "source": [
    "# part 10\n",
    "# download_data_part('https://drive.google.com/file/d/1TQI49qhcDKSX0222sAQxDsQZVbZnjlBP/view?usp=drive_link','dataset_part10.zip')"
   ]
  },
  {
   "cell_type": "code",
   "execution_count": null,
   "metadata": {
    "trusted": true
   },
   "outputs": [],
   "source": [
    "# pipeline(10)"
   ]
  },
  {
   "cell_type": "code",
   "execution_count": null,
   "metadata": {
    "execution": {
     "iopub.execute_input": "2023-07-18T06:55:01.866393Z",
     "iopub.status.busy": "2023-07-18T06:55:01.866045Z",
     "iopub.status.idle": "2023-07-18T06:55:01.872759Z",
     "shell.execute_reply": "2023-07-18T06:55:01.871834Z",
     "shell.execute_reply.started": "2023-07-18T06:55:01.866360Z"
    },
    "trusted": true
   },
   "outputs": [],
   "source": [
    "FileLink('pretrained_embeddings_part8.pkl')"
   ]
  },
  {
   "cell_type": "code",
   "execution_count": null,
   "metadata": {
    "execution": {
     "iopub.execute_input": "2023-07-18T06:55:01.874735Z",
     "iopub.status.busy": "2023-07-18T06:55:01.874136Z",
     "iopub.status.idle": "2023-07-18T06:55:01.888419Z",
     "shell.execute_reply": "2023-07-18T06:55:01.887455Z",
     "shell.execute_reply.started": "2023-07-18T06:55:01.874701Z"
    },
    "trusted": true
   },
   "outputs": [],
   "source": [
    "FileLink('pretrained_embeddings_part9.pkl')"
   ]
  },
  {
   "cell_type": "code",
   "execution_count": null,
   "metadata": {
    "execution": {
     "iopub.execute_input": "2023-07-18T06:55:01.892197Z",
     "iopub.status.busy": "2023-07-18T06:55:01.891869Z",
     "iopub.status.idle": "2023-07-18T06:55:01.898184Z",
     "shell.execute_reply": "2023-07-18T06:55:01.897240Z",
     "shell.execute_reply.started": "2023-07-18T06:55:01.892169Z"
    },
    "trusted": true
   },
   "outputs": [],
   "source": [
    "FileLink('pretrained_embeddings_part10.pkl')"
   ]
  },
  {
   "cell_type": "code",
   "execution_count": null,
   "metadata": {
    "execution": {
     "iopub.execute_input": "2023-07-17T07:31:20.864509Z",
     "iopub.status.busy": "2023-07-17T07:31:20.863802Z",
     "iopub.status.idle": "2023-07-17T07:31:22.446669Z",
     "shell.execute_reply": "2023-07-17T07:31:22.445712Z",
     "shell.execute_reply.started": "2023-07-17T07:31:20.864474Z"
    },
    "trusted": true
   },
   "outputs": [],
   "source": [
    "with open('pretrained_embeddings_part2.pkl', 'rb') as f:\n",
    "    pretrained_embeddings_part1 = pickle.load(f)\n",
    "print(len(pretrained_embeddings_part1.keys()))\n",
    "# print type of embeddings\n",
    "sample_key = list(pretrained_embeddings_part1.keys())[0]\n",
    "print('audio', type(pretrained_embeddings_part1[sample_key][0]))\n",
    "print('image', type(pretrained_embeddings_part1[sample_key][1]))\n",
    "print('text', type(pretrained_embeddings_part1[sample_key][2]))"
   ]
  },
  {
   "cell_type": "code",
   "execution_count": null,
   "metadata": {
    "execution": {
     "iopub.execute_input": "2023-07-17T05:27:35.925803Z",
     "iopub.status.busy": "2023-07-17T05:27:35.925410Z",
     "iopub.status.idle": "2023-07-17T05:27:36.119523Z",
     "shell.execute_reply": "2023-07-17T05:27:36.118544Z",
     "shell.execute_reply.started": "2023-07-17T05:27:35.925772Z"
    },
    "trusted": true
   },
   "outputs": [],
   "source": [
    "# changes <class 'numpy.ndarray'> for text to tensor\n",
    "for key in pretrained_embeddings_part1.keys():\n",
    "    pretrained_embeddings_part1[key][2] = torch.tensor(pretrained_embeddings_part1[key][2])\n",
    "    # also change the type of device for audio and remove cuda\n",
    "    pretrained_embeddings_part1[key][0] = pretrained_embeddings_part1[key][0].cpu()"
   ]
  },
  {
   "cell_type": "code",
   "execution_count": null,
   "metadata": {
    "execution": {
     "iopub.execute_input": "2023-07-17T05:27:42.226124Z",
     "iopub.status.busy": "2023-07-17T05:27:42.225579Z",
     "iopub.status.idle": "2023-07-17T05:27:42.239787Z",
     "shell.execute_reply": "2023-07-17T05:27:42.238787Z",
     "shell.execute_reply.started": "2023-07-17T05:27:42.226082Z"
    },
    "trusted": true
   },
   "outputs": [],
   "source": [
    "sample_key = list(pretrained_embeddings_part1.keys())[0]\n",
    "print('audio', type(pretrained_embeddings_part1[sample_key][0]))\n",
    "print('image', type(pretrained_embeddings_part1[sample_key][1]))\n",
    "print('text', type(pretrained_embeddings_part1[sample_key][2]))"
   ]
  },
  {
   "cell_type": "code",
   "execution_count": null,
   "metadata": {
    "execution": {
     "iopub.execute_input": "2023-07-18T07:02:40.945941Z",
     "iopub.status.busy": "2023-07-18T07:02:40.945534Z",
     "iopub.status.idle": "2023-07-18T07:02:43.994438Z",
     "shell.execute_reply": "2023-07-18T07:02:43.993302Z",
     "shell.execute_reply.started": "2023-07-18T07:02:40.945908Z"
    },
    "trusted": true
   },
   "outputs": [],
   "source": [
    "# store all embeddings files into a zip \n",
    "with ZipFile('pretrained_embeddings.zip', 'w') as zipObj:\n",
    "    for part_id in range(1, 11):\n",
    "        zipObj.write(f'pretrained_embeddings_part{part_id}.pkl')"
   ]
  },
  {
   "cell_type": "code",
   "execution_count": null,
   "metadata": {
    "execution": {
     "iopub.execute_input": "2023-07-18T07:02:56.497576Z",
     "iopub.status.busy": "2023-07-18T07:02:56.496517Z",
     "iopub.status.idle": "2023-07-18T07:02:57.940525Z",
     "shell.execute_reply": "2023-07-18T07:02:57.939376Z",
     "shell.execute_reply.started": "2023-07-18T07:02:56.497505Z"
    },
    "trusted": true
   },
   "outputs": [],
   "source": [
    "# now read it to be sure\n",
    "with ZipFile('pretrained_embeddings.zip', 'r') as zipObj:\n",
    "    zipObj.extractall('pretrained_embeddings')"
   ]
  },
  {
   "cell_type": "code",
   "execution_count": null,
   "metadata": {
    "execution": {
     "iopub.execute_input": "2023-07-18T07:03:33.156488Z",
     "iopub.status.busy": "2023-07-18T07:03:33.156102Z",
     "iopub.status.idle": "2023-07-18T07:03:34.447180Z",
     "shell.execute_reply": "2023-07-18T07:03:34.446160Z",
     "shell.execute_reply.started": "2023-07-18T07:03:33.156454Z"
    },
    "trusted": true
   },
   "outputs": [],
   "source": [
    "rmtree('dataset_part8')\n",
    "rmtree('dataset_part9')\n",
    "rmtree('dataset_part10')"
   ]
  },
  {
   "cell_type": "code",
   "execution_count": null,
   "metadata": {
    "execution": {
     "iopub.execute_input": "2023-07-18T07:03:49.696920Z",
     "iopub.status.busy": "2023-07-18T07:03:49.696527Z",
     "iopub.status.idle": "2023-07-18T07:03:49.703903Z",
     "shell.execute_reply": "2023-07-18T07:03:49.702850Z",
     "shell.execute_reply.started": "2023-07-18T07:03:49.696890Z"
    },
    "trusted": true
   },
   "outputs": [],
   "source": [
    "FileLink('pretrained_embeddings.zip')"
   ]
  },
  {
   "cell_type": "code",
   "execution_count": null,
   "metadata": {
    "execution": {
     "iopub.execute_input": "2023-07-18T07:49:26.556707Z",
     "iopub.status.busy": "2023-07-18T07:49:26.556206Z",
     "iopub.status.idle": "2023-07-18T07:49:49.961689Z",
     "shell.execute_reply": "2023-07-18T07:49:49.960612Z",
     "shell.execute_reply.started": "2023-07-18T07:49:26.556669Z"
    },
    "trusted": true
   },
   "outputs": [],
   "source": [
    "# create_new_localized_metadata\n",
    "new_localized_metadata = {}\n",
    "all_valid_ids = []\n",
    "for part_id in range(1, 11):\n",
    "    with open(f'pretrained_embeddings_part{part_id}.pkl', 'rb') as f:\n",
    "        pretrained_embeddings_part = pickle.load(f)\n",
    "    all_valid_ids.extend(list(pretrained_embeddings_part.keys()))"
   ]
  },
  {
   "cell_type": "code",
   "execution_count": null,
   "metadata": {
    "execution": {
     "iopub.execute_input": "2023-07-18T07:49:49.968005Z",
     "iopub.status.busy": "2023-07-18T07:49:49.967702Z",
     "iopub.status.idle": "2023-07-18T07:49:49.974293Z",
     "shell.execute_reply": "2023-07-18T07:49:49.973370Z",
     "shell.execute_reply.started": "2023-07-18T07:49:49.967979Z"
    },
    "trusted": true
   },
   "outputs": [],
   "source": [
    "len(all_valid_ids)"
   ]
  },
  {
   "cell_type": "code",
   "execution_count": null,
   "metadata": {
    "execution": {
     "iopub.execute_input": "2023-07-18T07:50:22.698052Z",
     "iopub.status.busy": "2023-07-18T07:50:22.697695Z",
     "iopub.status.idle": "2023-07-18T07:50:37.823480Z",
     "shell.execute_reply": "2023-07-18T07:50:37.822465Z",
     "shell.execute_reply.started": "2023-07-18T07:50:22.698023Z"
    },
    "trusted": true
   },
   "outputs": [],
   "source": [
    "for key,value in localized_metdata.items():\n",
    "    for item in value:\n",
    "        if item['id'] in all_valid_ids:\n",
    "            new_localized_metadata[item['id']] = item\n",
    "            new_localized_metadata[item['id']]['part_id'] = int(key.split('_')[0][4:])"
   ]
  },
  {
   "cell_type": "code",
   "execution_count": null,
   "metadata": {
    "execution": {
     "iopub.execute_input": "2023-07-18T07:51:01.398887Z",
     "iopub.status.busy": "2023-07-18T07:51:01.398469Z",
     "iopub.status.idle": "2023-07-18T07:51:01.405798Z",
     "shell.execute_reply": "2023-07-18T07:51:01.404598Z",
     "shell.execute_reply.started": "2023-07-18T07:51:01.398857Z"
    },
    "trusted": true
   },
   "outputs": [],
   "source": [
    "len(new_localized_metadata)"
   ]
  },
  {
   "cell_type": "code",
   "execution_count": null,
   "metadata": {
    "execution": {
     "iopub.execute_input": "2023-07-18T07:51:04.080573Z",
     "iopub.status.busy": "2023-07-18T07:51:04.080197Z",
     "iopub.status.idle": "2023-07-18T07:51:04.088873Z",
     "shell.execute_reply": "2023-07-18T07:51:04.087613Z",
     "shell.execute_reply.started": "2023-07-18T07:51:04.080527Z"
    },
    "trusted": true
   },
   "outputs": [],
   "source": [
    "random_key = random.choice(list(new_localized_metadata.keys()))\n",
    "print(new_localized_metadata[random_key])"
   ]
  },
  {
   "cell_type": "code",
   "execution_count": null,
   "metadata": {
    "execution": {
     "iopub.execute_input": "2023-07-18T07:52:13.104615Z",
     "iopub.status.busy": "2023-07-18T07:52:13.104211Z",
     "iopub.status.idle": "2023-07-18T07:52:13.840941Z",
     "shell.execute_reply": "2023-07-18T07:52:13.839948Z",
     "shell.execute_reply.started": "2023-07-18T07:52:13.104573Z"
    },
    "trusted": true
   },
   "outputs": [],
   "source": [
    "with open('metadata.json', 'w') as f:\n",
    "    json.dump(new_localized_metadata, f)"
   ]
  },
  {
   "cell_type": "code",
   "execution_count": null,
   "metadata": {
    "execution": {
     "iopub.execute_input": "2023-07-18T07:52:38.036345Z",
     "iopub.status.busy": "2023-07-18T07:52:38.035972Z",
     "iopub.status.idle": "2023-07-18T07:52:38.045138Z",
     "shell.execute_reply": "2023-07-18T07:52:38.043960Z",
     "shell.execute_reply.started": "2023-07-18T07:52:38.036313Z"
    },
    "trusted": true
   },
   "outputs": [],
   "source": [
    "FileLink('metadata.json')"
   ]
  },
  {
   "cell_type": "markdown",
   "metadata": {},
   "source": [
    "# FLEURS (add Spectogram, Wav2vec2, Labse)"
   ]
  },
  {
   "cell_type": "code",
   "execution_count": null,
   "metadata": {
    "execution": {
     "iopub.execute_input": "2023-07-23T18:10:24.608000Z",
     "iopub.status.busy": "2023-07-23T18:10:24.605932Z",
     "iopub.status.idle": "2023-07-23T18:12:34.080996Z",
     "shell.execute_reply": "2023-07-23T18:12:34.079961Z",
     "shell.execute_reply.started": "2023-07-23T18:10:24.607964Z"
    },
    "trusted": true
   },
   "outputs": [],
   "source": [
    "fleurs_retrieval = load_dataset(\"google/fleurs\", \"en_us\")"
   ]
  },
  {
   "cell_type": "code",
   "execution_count": null,
   "metadata": {
    "execution": {
     "iopub.execute_input": "2023-07-23T18:16:51.143836Z",
     "iopub.status.busy": "2023-07-23T18:16:51.143420Z",
     "iopub.status.idle": "2023-07-23T18:16:59.915804Z",
     "shell.execute_reply": "2023-07-23T18:16:59.914769Z",
     "shell.execute_reply.started": "2023-07-23T18:16:51.143800Z"
    },
    "trusted": true
   },
   "outputs": [],
   "source": [
    "fleurs_retrieval['train'][0]['transcription']"
   ]
  },
  {
   "cell_type": "code",
   "execution_count": null,
   "metadata": {
    "execution": {
     "iopub.execute_input": "2023-07-23T18:16:59.918759Z",
     "iopub.status.busy": "2023-07-23T18:16:59.917803Z",
     "iopub.status.idle": "2023-07-23T18:16:59.930553Z",
     "shell.execute_reply": "2023-07-23T18:16:59.929331Z",
     "shell.execute_reply.started": "2023-07-23T18:16:59.918700Z"
    },
    "trusted": true
   },
   "outputs": [],
   "source": [
    "fleurs_retrieval['train'][1000]"
   ]
  },
  {
   "cell_type": "code",
   "execution_count": null,
   "metadata": {
    "execution": {
     "iopub.execute_input": "2023-07-21T13:57:44.647062Z",
     "iopub.status.busy": "2023-07-21T13:57:44.646686Z",
     "iopub.status.idle": "2023-07-21T13:57:44.670983Z",
     "shell.execute_reply": "2023-07-21T13:57:44.669905Z",
     "shell.execute_reply.started": "2023-07-21T13:57:44.647032Z"
    },
    "trusted": true
   },
   "outputs": [],
   "source": [
    "example = fleurs_retrieval['train'][0]\n",
    "audio = example[\"audio\"][\"array\"]\n",
    "sampling_rate = example[\"audio\"][\"sampling_rate\"]\n",
    "\n",
    "display(Audio(audio, rate=sampling_rate))"
   ]
  },
  {
   "cell_type": "code",
   "execution_count": null,
   "metadata": {
    "execution": {
     "iopub.execute_input": "2023-07-21T11:22:24.743527Z",
     "iopub.status.busy": "2023-07-21T11:22:24.743199Z",
     "iopub.status.idle": "2023-07-21T11:22:24.748687Z",
     "shell.execute_reply": "2023-07-21T11:22:24.747823Z",
     "shell.execute_reply.started": "2023-07-21T11:22:24.743471Z"
    },
    "trusted": true
   },
   "outputs": [],
   "source": [
    "audio.shape"
   ]
  },
  {
   "cell_type": "code",
   "execution_count": null,
   "metadata": {
    "execution": {
     "iopub.execute_input": "2023-07-21T11:23:35.911988Z",
     "iopub.status.busy": "2023-07-21T11:23:35.911188Z",
     "iopub.status.idle": "2023-07-21T11:23:37.445852Z",
     "shell.execute_reply": "2023-07-21T11:23:37.444507Z",
     "shell.execute_reply.started": "2023-07-21T11:23:35.911951Z"
    },
    "trusted": true
   },
   "outputs": [],
   "source": [
    "samples = np.array(example[\"audio\"][\"array\"])\n",
    "# tensor = torchaudio.transforms.Resample(orig_sample_rate=array.shape[1], new_sample_rate=16000)(array)\n",
    "# samples = samples.reshape(-1, audio_file.channels)\n",
    "samples = samples / np.max(np.abs(samples))\n",
    "samples = samples.squeeze()\n",
    "audio = torch.from_numpy(samples)\n",
    "audio = (audio - audio.mean()) / audio.std()\n",
    "inputs = audio_processor(audio, sampling_rate=16000, return_tensors=\"pt\").to(device)\n",
    "with torch.no_grad():\n",
    "    outputs = audio_model(**inputs)\n",
    "last_hidden_states = outputs.last_hidden_state.squeeze(0)\n",
    "embeddings = last_hidden_states.mean(dim=0)\n",
    "embeddings.shape"
   ]
  },
  {
   "cell_type": "code",
   "execution_count": null,
   "metadata": {
    "execution": {
     "iopub.execute_input": "2023-07-23T18:17:11.512681Z",
     "iopub.status.busy": "2023-07-23T18:17:11.511667Z",
     "iopub.status.idle": "2023-07-23T18:17:11.525730Z",
     "shell.execute_reply": "2023-07-23T18:17:11.524780Z",
     "shell.execute_reply.started": "2023-07-23T18:17:11.512646Z"
    },
    "trusted": true
   },
   "outputs": [],
   "source": [
    "fleurs_retrieval['train']['path'][0]"
   ]
  },
  {
   "cell_type": "code",
   "execution_count": null,
   "metadata": {
    "execution": {
     "iopub.execute_input": "2023-07-23T18:18:06.990791Z",
     "iopub.status.busy": "2023-07-23T18:18:06.989648Z",
     "iopub.status.idle": "2023-07-23T18:18:07.741009Z",
     "shell.execute_reply": "2023-07-23T18:18:07.740032Z",
     "shell.execute_reply.started": "2023-07-23T18:18:06.990721Z"
    },
    "trusted": true
   },
   "outputs": [],
   "source": [
    "file_path = f\"/root/.cache/huggingface/datasets/downloads/extracted/ee72a6213f7cabb647adadc74f3888674aa278435dca4f54892382eda44c8014/{fleurs_retrieval['train'][0]['audio']['path']}\"\n",
    "audio_file = AudioSegment.from_file(file_path)\n",
    "samples = np.array(audio_file.get_array_of_samples())\n",
    "samples.shape"
   ]
  },
  {
   "cell_type": "code",
   "execution_count": null,
   "metadata": {
    "execution": {
     "iopub.execute_input": "2023-07-23T18:18:11.264217Z",
     "iopub.status.busy": "2023-07-23T18:18:11.263827Z",
     "iopub.status.idle": "2023-07-23T18:18:11.295399Z",
     "shell.execute_reply": "2023-07-23T18:18:11.294600Z",
     "shell.execute_reply.started": "2023-07-23T18:18:11.264186Z"
    },
    "trusted": true
   },
   "outputs": [],
   "source": [
    "display(Audio(file_path))"
   ]
  },
  {
   "cell_type": "code",
   "execution_count": null,
   "metadata": {
    "execution": {
     "iopub.execute_input": "2023-07-21T10:11:25.099856Z",
     "iopub.status.busy": "2023-07-21T10:11:25.099262Z",
     "iopub.status.idle": "2023-07-21T10:11:25.108256Z",
     "shell.execute_reply": "2023-07-21T10:11:25.106914Z",
     "shell.execute_reply.started": "2023-07-21T10:11:25.099816Z"
    },
    "trusted": true
   },
   "outputs": [],
   "source": [
    "print(fleurs_retrieval['train'].num_rows)\n",
    "print(fleurs_retrieval['validation'].num_rows)\n",
    "print(fleurs_retrieval['test'].num_rows)\n",
    "print(fleurs_retrieval['train'].num_rows + fleurs_retrieval['validation'].num_rows + fleurs_retrieval['test'].num_rows)"
   ]
  },
  {
   "cell_type": "code",
   "execution_count": null,
   "metadata": {
    "execution": {
     "iopub.execute_input": "2023-07-23T18:10:24.429798Z",
     "iopub.status.busy": "2023-07-23T18:10:24.429208Z",
     "iopub.status.idle": "2023-07-23T18:10:24.584922Z",
     "shell.execute_reply": "2023-07-23T18:10:24.583774Z",
     "shell.execute_reply.started": "2023-07-23T18:10:24.429762Z"
    },
    "trusted": true
   },
   "outputs": [],
   "source": [
    "with open('metadata.json', 'r') as f:\n",
    "    metadata = json.load(f)\n",
    "\n",
    "random_key = random.choice(list(metadata.keys()))\n",
    "print(metadata[random_key])"
   ]
  },
  {
   "cell_type": "code",
   "execution_count": null,
   "metadata": {
    "execution": {
     "iopub.execute_input": "2023-07-23T18:16:31.256978Z",
     "iopub.status.busy": "2023-07-23T18:16:31.256592Z",
     "iopub.status.idle": "2023-07-23T18:16:31.275242Z",
     "shell.execute_reply": "2023-07-23T18:16:31.274033Z",
     "shell.execute_reply.started": "2023-07-23T18:16:31.256945Z"
    },
    "trusted": true
   },
   "outputs": [],
   "source": [
    "# max id of prevoius metadata\n",
    "max_id = max([int(key) for key in metadata.keys()])\n",
    "start_id = max_id + 10000\n",
    "start_id"
   ]
  },
  {
   "cell_type": "code",
   "execution_count": null,
   "metadata": {
    "execution": {
     "iopub.execute_input": "2023-07-23T18:41:59.738697Z",
     "iopub.status.busy": "2023-07-23T18:41:59.738323Z",
     "iopub.status.idle": "2023-07-23T18:41:59.750487Z",
     "shell.execute_reply": "2023-07-23T18:41:59.749458Z",
     "shell.execute_reply.started": "2023-07-23T18:41:59.738666Z"
    },
    "trusted": true
   },
   "outputs": [],
   "source": [
    "fleurs_retrieval['validation'][0]"
   ]
  },
  {
   "cell_type": "code",
   "execution_count": null,
   "metadata": {
    "execution": {
     "iopub.execute_input": "2023-07-23T18:42:44.139246Z",
     "iopub.status.busy": "2023-07-23T18:42:44.138361Z",
     "iopub.status.idle": "2023-07-23T18:42:44.152064Z",
     "shell.execute_reply": "2023-07-23T18:42:44.150990Z",
     "shell.execute_reply.started": "2023-07-23T18:42:44.139195Z"
    },
    "trusted": true
   },
   "outputs": [],
   "source": [
    "os.listdir('/root/.cache/huggingface/datasets/downloads/extracted/ca4597c8111fcd5b2597061f9372be99a157ee772eece66bfc4318463984a3af')"
   ]
  },
  {
   "cell_type": "code",
   "execution_count": null,
   "metadata": {
    "execution": {
     "iopub.execute_input": "2023-07-23T18:43:29.273118Z",
     "iopub.status.busy": "2023-07-23T18:43:29.272694Z",
     "iopub.status.idle": "2023-07-23T18:43:29.282960Z",
     "shell.execute_reply": "2023-07-23T18:43:29.281902Z",
     "shell.execute_reply.started": "2023-07-23T18:43:29.273082Z"
    },
    "trusted": true
   },
   "outputs": [],
   "source": [
    "'/'.join(fleurs_retrieval['validation'][0]['path'].split('/')[:-1])"
   ]
  },
  {
   "cell_type": "code",
   "execution_count": null,
   "metadata": {
    "execution": {
     "iopub.execute_input": "2023-07-23T18:45:00.933549Z",
     "iopub.status.busy": "2023-07-23T18:45:00.933169Z",
     "iopub.status.idle": "2023-07-23T18:45:00.946696Z",
     "shell.execute_reply": "2023-07-23T18:45:00.945681Z",
     "shell.execute_reply.started": "2023-07-23T18:45:00.933518Z"
    },
    "trusted": true
   },
   "outputs": [],
   "source": [
    "split = 'validation'\n",
    "audio_idx = 0\n",
    "file_path = f\"{'/'.join(fleurs_retrieval[split][audio_idx]['path'].split('/')[:-1])}/{fleurs_retrieval[split][audio_idx]['audio']['path']}\"\n",
    "file_path"
   ]
  },
  {
   "cell_type": "code",
   "execution_count": null,
   "metadata": {
    "execution": {
     "iopub.execute_input": "2023-07-23T18:40:06.187674Z",
     "iopub.status.busy": "2023-07-23T18:40:06.186664Z",
     "iopub.status.idle": "2023-07-23T18:40:06.194890Z",
     "shell.execute_reply": "2023-07-23T18:40:06.193814Z",
     "shell.execute_reply.started": "2023-07-23T18:40:06.187639Z"
    },
    "trusted": true
   },
   "outputs": [],
   "source": [
    "fleurs_retrieval"
   ]
  },
  {
   "cell_type": "code",
   "execution_count": null,
   "metadata": {
    "execution": {
     "iopub.execute_input": "2023-07-23T18:39:44.290250Z",
     "iopub.status.busy": "2023-07-23T18:39:44.289261Z",
     "iopub.status.idle": "2023-07-23T18:39:44.295768Z",
     "shell.execute_reply": "2023-07-23T18:39:44.294550Z",
     "shell.execute_reply.started": "2023-07-23T18:39:44.290200Z"
    },
    "trusted": true
   },
   "outputs": [],
   "source": [
    "fleurs_metadata = {}"
   ]
  },
  {
   "cell_type": "code",
   "execution_count": null,
   "metadata": {
    "execution": {
     "iopub.execute_input": "2023-07-23T18:50:28.429492Z",
     "iopub.status.busy": "2023-07-23T18:50:28.428814Z",
     "iopub.status.idle": "2023-07-23T18:50:28.461281Z",
     "shell.execute_reply": "2023-07-23T18:50:28.460216Z",
     "shell.execute_reply.started": "2023-07-23T18:50:28.429436Z"
    },
    "trusted": true
   },
   "outputs": [],
   "source": [
    "def pipeline_for_fleurs(split):\n",
    "    data_v1 = {}\n",
    "    for audio_idx in tqdm(range(len(fleurs_retrieval[split]))):\n",
    "        if audio_idx % 100 == 0:\n",
    "            torch.cuda.empty_cache()\n",
    "            gc.collect()\n",
    "            torch.cuda.ipc_collect()\n",
    "        try:\n",
    "            file_path = f\"{'/'.join(fleurs_retrieval[split][audio_idx]['path'].split('/')[:-1])}/{fleurs_retrieval[split][audio_idx]['audio']['path']}\"\n",
    "            inner_data = {}\n",
    "            inner_data['id'] = start_id + audio_idx\n",
    "            inner_data['fleus_id'] = fleurs_retrieval[split][audio_idx]['id']\n",
    "            inner_data['file_path'] = file_path\n",
    "\n",
    "            audio_file = AudioSegment.from_file(file_path)\n",
    "            samples = np.array(audio_file.get_array_of_samples())\n",
    "            samples = samples.reshape(-1, audio_file.channels)\n",
    "            samples = samples / np.max(np.abs(samples))\n",
    "            samples = samples.squeeze()\n",
    "\n",
    "            audio = torch.from_numpy(samples)\n",
    "            inputs = audio_processor(audio, sampling_rate=fleurs_retrieval[split][audio_idx]['audio']['sampling_rate'], return_tensors=\"pt\").to(device)\n",
    "            with torch.no_grad():\n",
    "                outputs = audio_model(**inputs)\n",
    "            last_hidden_states = outputs.last_hidden_state.squeeze(0)\n",
    "            embeddings = last_hidden_states.mean(dim=0)\n",
    "            inner_data['audio_embedding'] = embeddings.cpu()\n",
    "            inner_data['text'] = fleurs_retrieval[split][audio_idx]['transcription']\n",
    "            inner_data['audio_idx'] = audio_idx\n",
    "            data_v1[start_id + audio_idx] = inner_data\n",
    "        except Exception as e:\n",
    "            print(e)\n",
    "            print(fleurs_retrieval[split][audio_idx]['id'])\n",
    "            continue\n",
    "\n",
    "    data_v2 = {}\n",
    "    for audio_idx in tqdm(range(len(fleurs_retrieval[split]))):\n",
    "        if start_id + audio_idx not in data_v1.keys():\n",
    "             continue\n",
    "                \n",
    "        if audio_idx % 100 == 0:\n",
    "            torch.cuda.empty_cache()\n",
    "            gc.collect()\n",
    "            torch.cuda.ipc_collect()\n",
    "        try:\n",
    "            file_path = f\"{'/'.join(fleurs_retrieval[split][audio_idx]['path'].split('/')[:-1])}/{fleurs_retrieval[split][audio_idx]['audio']['path']}\"\n",
    "            y, sr = librosa.load(file_path)\n",
    "            spec = librosa.stft(y)\n",
    "            spec_db = librosa.amplitude_to_db(abs(spec))\n",
    "            \n",
    "            plt.clf()\n",
    "            librosa.display.specshow(spec_db, x_axis='time', y_axis='log')\n",
    "            plt.xlabel('')\n",
    "            plt.ylabel('')\n",
    "            plt.tight_layout()\n",
    "\n",
    "            saved_path = f'spec.png'\n",
    "            plt.savefig(saved_path, bbox_inches='tight', pad_inches=0)\n",
    "            image_embeddings = get_image_embedding(saved_path)\n",
    "            data_v2[start_id + audio_idx] = data_v1[start_id + audio_idx].copy()\n",
    "            data_v2[start_id + audio_idx]['image_embedding'] = image_embeddings\n",
    "\n",
    "        except Exception as e:\n",
    "            print(e)\n",
    "            print(fleurs_retrieval[split][audio_idx]['id'])\n",
    "            continue\n",
    "    data_v3 = {}\n",
    "    for audio_idx in tqdm(range(len(fleurs_retrieval[split]))):\n",
    "        if start_id + audio_idx not in data_v2.keys():\n",
    "            continue\n",
    "        try:\n",
    "            text_embeddings = text_model.encode(data_v2[start_id + audio_idx]['text'])\n",
    "            data_v3[start_id + audio_idx] = data_v2[start_id + audio_idx].copy()\n",
    "            data_v3[start_id + audio_idx]['text_embedding'] = torch.tensor(text_embeddings)\n",
    "        except Exception as e:\n",
    "            print(e)\n",
    "            print(fleurs_retrieval[split][audio_idx]['id'])\n",
    "            continue\n",
    "    with open(f'pretrained_embeddings_fleurs_{split}.pkl', 'wb') as f:\n",
    "        pickle.dump(data_v3, f)\n",
    "    return data_v3"
   ]
  },
  {
   "cell_type": "code",
   "execution_count": null,
   "metadata": {
    "trusted": true
   },
   "outputs": [],
   "source": [
    "split = 'validation'\n",
    "fleurs_metadata[split] = pipeline_for_fleurs(split)"
   ]
  },
  {
   "cell_type": "code",
   "execution_count": null,
   "metadata": {
    "execution": {
     "iopub.execute_input": "2023-07-23T19:00:23.566247Z",
     "iopub.status.busy": "2023-07-23T19:00:23.565817Z",
     "iopub.status.idle": "2023-07-23T19:00:23.579962Z",
     "shell.execute_reply": "2023-07-23T19:00:23.578735Z",
     "shell.execute_reply.started": "2023-07-23T19:00:23.566212Z"
    },
    "trusted": true
   },
   "outputs": [],
   "source": [
    "len(fleurs_metadata['validation'])"
   ]
  },
  {
   "cell_type": "code",
   "execution_count": null,
   "metadata": {
    "trusted": true
   },
   "outputs": [],
   "source": [
    "split = 'train'\n",
    "fleurs_metadata[split] = pipeline_for_fleurs(split)"
   ]
  },
  {
   "cell_type": "code",
   "execution_count": null,
   "metadata": {
    "execution": {
     "iopub.execute_input": "2023-07-23T20:02:22.942371Z",
     "iopub.status.busy": "2023-07-23T20:02:22.941192Z",
     "iopub.status.idle": "2023-07-23T20:02:22.950488Z",
     "shell.execute_reply": "2023-07-23T20:02:22.949420Z",
     "shell.execute_reply.started": "2023-07-23T20:02:22.942326Z"
    },
    "trusted": true
   },
   "outputs": [],
   "source": [
    "len(fleurs_metadata['train'])"
   ]
  },
  {
   "cell_type": "code",
   "execution_count": null,
   "metadata": {
    "trusted": true
   },
   "outputs": [],
   "source": [
    "split = 'test'\n",
    "fleurs_metadata[split] = pipeline_for_fleurs(split)"
   ]
  },
  {
   "cell_type": "code",
   "execution_count": null,
   "metadata": {
    "execution": {
     "iopub.execute_input": "2023-07-23T20:16:11.362224Z",
     "iopub.status.busy": "2023-07-23T20:16:11.361841Z",
     "iopub.status.idle": "2023-07-23T20:16:11.369412Z",
     "shell.execute_reply": "2023-07-23T20:16:11.368265Z",
     "shell.execute_reply.started": "2023-07-23T20:16:11.362194Z"
    },
    "trusted": true
   },
   "outputs": [],
   "source": [
    "len(fleurs_metadata['test'])"
   ]
  },
  {
   "cell_type": "code",
   "execution_count": null,
   "metadata": {
    "execution": {
     "iopub.execute_input": "2023-07-23T20:16:40.919773Z",
     "iopub.status.busy": "2023-07-23T20:16:40.919343Z",
     "iopub.status.idle": "2023-07-23T20:16:41.691206Z",
     "shell.execute_reply": "2023-07-23T20:16:41.690174Z",
     "shell.execute_reply.started": "2023-07-23T20:16:40.919718Z"
    },
    "trusted": true
   },
   "outputs": [],
   "source": [
    "# save total metadata\n",
    "with open('fleurs_data.pkl', 'wb') as f:\n",
    "    pickle.dump(fleurs_metadata, f)"
   ]
  },
  {
   "cell_type": "code",
   "execution_count": null,
   "metadata": {
    "execution": {
     "iopub.execute_input": "2023-07-23T20:17:20.669987Z",
     "iopub.status.busy": "2023-07-23T20:17:20.669552Z",
     "iopub.status.idle": "2023-07-23T20:17:21.644859Z",
     "shell.execute_reply": "2023-07-23T20:17:21.643765Z",
     "shell.execute_reply.started": "2023-07-23T20:17:20.669944Z"
    },
    "trusted": true
   },
   "outputs": [],
   "source": [
    "with open('fleurs_data.pkl', 'rb') as f:\n",
    "    fleurs_data = pickle.load(f)\n",
    "fleurs_data.keys()"
   ]
  },
  {
   "cell_type": "code",
   "execution_count": null,
   "metadata": {
    "trusted": true
   },
   "outputs": [],
   "source": [
    "random_key = random.choice(list(fleurs_data['validation'].keys()))\n",
    "fleurs_data['validation'][random_key]"
   ]
  },
  {
   "cell_type": "code",
   "execution_count": null,
   "metadata": {
    "execution": {
     "iopub.execute_input": "2023-07-23T20:19:39.815601Z",
     "iopub.status.busy": "2023-07-23T20:19:39.814467Z",
     "iopub.status.idle": "2023-07-23T20:19:39.822233Z",
     "shell.execute_reply": "2023-07-23T20:19:39.821256Z",
     "shell.execute_reply.started": "2023-07-23T20:19:39.815555Z"
    },
    "trusted": true
   },
   "outputs": [],
   "source": [
    "FileLink('fleurs_data.pkl')"
   ]
  },
  {
   "cell_type": "code",
   "execution_count": null,
   "metadata": {
    "execution": {
     "iopub.execute_input": "2023-07-23T20:21:48.215483Z",
     "iopub.status.busy": "2023-07-23T20:21:48.215031Z",
     "iopub.status.idle": "2023-07-23T20:21:48.221556Z",
     "shell.execute_reply": "2023-07-23T20:21:48.220532Z",
     "shell.execute_reply.started": "2023-07-23T20:21:48.215448Z"
    },
    "trusted": true
   },
   "outputs": [],
   "source": [
    "print(len(fleurs_data['validation']) + len(fleurs_data['train']) + len(fleurs_data['test']))"
   ]
  },
  {
   "cell_type": "markdown",
   "metadata": {},
   "source": [
    "# Common Voice (add Spectogram, Wav2vec2, Labse)"
   ]
  },
  {
   "cell_type": "code",
   "execution_count": null,
   "metadata": {},
   "outputs": [],
   "source": [
    "data_path = \"/kaggle/input/common-voice-dataset-version-4/data-file/train.tsv\"\n",
    "audio_path = \"/kaggle/input/common-voice-dataset-version-4/new-clip\"\n",
    "data_train = pd.read_csv(data_path,comment='#',sep=\"\\t\")"
   ]
  },
  {
   "cell_type": "code",
   "execution_count": null,
   "metadata": {},
   "outputs": [
    {
     "data": {
      "text/plain": [
       "232975"
      ]
     },
     "metadata": {},
     "output_type": "display_data"
    }
   ],
   "source": [
    "len(data_train)"
   ]
  },
  {
   "cell_type": "code",
   "execution_count": null,
   "metadata": {},
   "outputs": [
    {
     "data": {
      "text/html": [
       "<div>\n",
       "<style scoped>\n",
       "    .dataframe tbody tr th:only-of-type {\n",
       "        vertical-align: middle;\n",
       "    }\n",
       "\n",
       "    .dataframe tbody tr th {\n",
       "        vertical-align: top;\n",
       "    }\n",
       "\n",
       "    .dataframe thead th {\n",
       "        text-align: right;\n",
       "    }\n",
       "</style>\n",
       "<table border=\"1\" class=\"dataframe\">\n",
       "  <thead>\n",
       "    <tr style=\"text-align: right;\">\n",
       "      <th></th>\n",
       "      <th>client_id</th>\n",
       "      <th>path</th>\n",
       "      <th>sentence</th>\n",
       "      <th>up_votes</th>\n",
       "      <th>down_votes</th>\n",
       "      <th>age</th>\n",
       "      <th>gender</th>\n",
       "      <th>accent</th>\n",
       "    </tr>\n",
       "  </thead>\n",
       "  <tbody>\n",
       "    <tr>\n",
       "      <th>0</th>\n",
       "      <td>4f29be8fe932d773576dd3df5e111929f4e22242232245...</td>\n",
       "      <td>common_voice_en_19664034.mp3</td>\n",
       "      <td>These data components in turn serve as the \"bu...</td>\n",
       "      <td>2</td>\n",
       "      <td>0</td>\n",
       "      <td>thirties</td>\n",
       "      <td>male</td>\n",
       "      <td>NaN</td>\n",
       "    </tr>\n",
       "    <tr>\n",
       "      <th>1</th>\n",
       "      <td>4f29be8fe932d773576dd3df5e111929f4e22242232245...</td>\n",
       "      <td>common_voice_en_19664035.mp3</td>\n",
       "      <td>The church is unrelated to the Jewish politica...</td>\n",
       "      <td>3</td>\n",
       "      <td>0</td>\n",
       "      <td>thirties</td>\n",
       "      <td>male</td>\n",
       "      <td>NaN</td>\n",
       "    </tr>\n",
       "    <tr>\n",
       "      <th>2</th>\n",
       "      <td>4f29be8fe932d773576dd3df5e111929f4e22242232245...</td>\n",
       "      <td>common_voice_en_19664037.mp3</td>\n",
       "      <td>The following represents architectures which h...</td>\n",
       "      <td>2</td>\n",
       "      <td>0</td>\n",
       "      <td>thirties</td>\n",
       "      <td>male</td>\n",
       "      <td>NaN</td>\n",
       "    </tr>\n",
       "    <tr>\n",
       "      <th>3</th>\n",
       "      <td>4f29be8fe932d773576dd3df5e111929f4e22242232245...</td>\n",
       "      <td>common_voice_en_19664038.mp3</td>\n",
       "      <td>Additionally, the pulse output can be directed...</td>\n",
       "      <td>2</td>\n",
       "      <td>0</td>\n",
       "      <td>thirties</td>\n",
       "      <td>male</td>\n",
       "      <td>NaN</td>\n",
       "    </tr>\n",
       "    <tr>\n",
       "      <th>4</th>\n",
       "      <td>4f29be8fe932d773576dd3df5e111929f4e22242232245...</td>\n",
       "      <td>common_voice_en_19664040.mp3</td>\n",
       "      <td>The two are robbed by a pickpocket who is losi...</td>\n",
       "      <td>3</td>\n",
       "      <td>0</td>\n",
       "      <td>thirties</td>\n",
       "      <td>male</td>\n",
       "      <td>NaN</td>\n",
       "    </tr>\n",
       "  </tbody>\n",
       "</table>\n",
       "</div>"
      ],
      "text/plain": [
       "                                           client_id  \\\n",
       "0  4f29be8fe932d773576dd3df5e111929f4e22242232245...   \n",
       "1  4f29be8fe932d773576dd3df5e111929f4e22242232245...   \n",
       "2  4f29be8fe932d773576dd3df5e111929f4e22242232245...   \n",
       "3  4f29be8fe932d773576dd3df5e111929f4e22242232245...   \n",
       "4  4f29be8fe932d773576dd3df5e111929f4e22242232245...   \n",
       "\n",
       "                           path  \\\n",
       "0  common_voice_en_19664034.mp3   \n",
       "1  common_voice_en_19664035.mp3   \n",
       "2  common_voice_en_19664037.mp3   \n",
       "3  common_voice_en_19664038.mp3   \n",
       "4  common_voice_en_19664040.mp3   \n",
       "\n",
       "                                            sentence  up_votes  down_votes  \\\n",
       "0  These data components in turn serve as the \"bu...         2           0   \n",
       "1  The church is unrelated to the Jewish politica...         3           0   \n",
       "2  The following represents architectures which h...         2           0   \n",
       "3  Additionally, the pulse output can be directed...         2           0   \n",
       "4  The two are robbed by a pickpocket who is losi...         3           0   \n",
       "\n",
       "        age gender accent  \n",
       "0  thirties   male    NaN  \n",
       "1  thirties   male    NaN  \n",
       "2  thirties   male    NaN  \n",
       "3  thirties   male    NaN  \n",
       "4  thirties   male    NaN  "
      ]
     },
     "metadata": {},
     "output_type": "display_data"
    }
   ],
   "source": [
    "data_train.head()"
   ]
  },
  {
   "cell_type": "code",
   "execution_count": null,
   "metadata": {},
   "outputs": [],
   "source": [
    "data_train['sentence'][4]"
   ]
  },
  {
   "cell_type": "code",
   "execution_count": null,
   "metadata": {},
   "outputs": [],
   "source": [
    "display(Audio(f\"{audio_path}/{data_train['path'][4]}\"))"
   ]
  },
  {
   "cell_type": "code",
   "execution_count": null,
   "metadata": {},
   "outputs": [],
   "source": [
    "audio_file = AudioSegment.from_file(f\"{audio_path}/{data_train['path'][4]}\")"
   ]
  },
  {
   "cell_type": "code",
   "execution_count": null,
   "metadata": {},
   "outputs": [
    {
     "data": {
      "text/plain": [
       "223488"
      ]
     },
     "metadata": {},
     "output_type": "display_data"
    }
   ],
   "source": [
    "len(audio_file.get_array_of_samples())"
   ]
  },
  {
   "cell_type": "code",
   "execution_count": null,
   "metadata": {},
   "outputs": [],
   "source": [
    "# preprocess sentence\n",
    "def preprocess_sentence(sentence):\n",
    "    sentence = sentence.lower()\n",
    "    sentence = sentence.translate(str.maketrans('', '', string.punctuation))\n",
    "    sentence = sentence.strip()\n",
    "    return sentence"
   ]
  },
  {
   "cell_type": "code",
   "execution_count": null,
   "metadata": {},
   "outputs": [
    {
     "data": {
      "text/plain": [
       "'what did you think of that trip'"
      ]
     },
     "metadata": {},
     "output_type": "display_data"
    }
   ],
   "source": [
    "preprocess_sentence(data_train['sentence'][10])"
   ]
  },
  {
   "cell_type": "code",
   "execution_count": null,
   "metadata": {},
   "outputs": [],
   "source": [
    "def get_image_embedding(path):\n",
    "    image = cv2.imread(path)\n",
    "    image_tensor = torch.from_numpy(image)\n",
    "    image_tensor = image_tensor.unsqueeze(0)\n",
    "    image_tensor = image_tensor.permute(0, 3, 1, 2)\n",
    "    image_tensor = image_tensor.to(device)\n",
    "    image_tensor = image_tensor.float()\n",
    "    with torch.no_grad():\n",
    "        output = vision_model(image_tensor)\n",
    "        embedding = output[0].cpu()\n",
    "        return embedding"
   ]
  },
  {
   "cell_type": "code",
   "execution_count": null,
   "metadata": {},
   "outputs": [],
   "source": [
    "start_id = 200000"
   ]
  },
  {
   "cell_type": "code",
   "execution_count": null,
   "metadata": {},
   "outputs": [],
   "source": [
    "def pipeline_for_common_voice(dataset, limit, split, valid_ids, part_number, start_idx=0):\n",
    "    data_v1 = {}\n",
    "    counter = 0\n",
    "    j = 0\n",
    "    max_id = 0\n",
    "    if start_idx == 0: \n",
    "        val_ids_final = valid_ids\n",
    "    else:\n",
    "        for i, item in enumerate(valid_ids):\n",
    "            if item == start_idx:\n",
    "                j = i\n",
    "                break\n",
    "        val_ids_final = valid_ids[(j + 1):]\n",
    "    for audio_idx in tqdm(val_ids_final):\n",
    "        if counter == 0:\n",
    "            print(f'start_idx {audio_idx}')\n",
    "        if counter % 100 == 0:\n",
    "            torch.cuda.empty_cache()\n",
    "            gc.collect()\n",
    "            torch.cuda.ipc_collect()\n",
    "        if counter == limit + 50:\n",
    "            max_id = audio_idx\n",
    "            break\n",
    "        try:\n",
    "            file_path = f\"{audio_path}/{dataset['path'][audio_idx]}\"\n",
    "            inner_data = {}\n",
    "            inner_data['id'] = start_id + audio_idx\n",
    "            inner_data['file_path'] = file_path\n",
    "            inner_data['audio_idx'] = audio_idx\n",
    "\n",
    "            audio_file = AudioSegment.from_file(file_path)\n",
    "            samples = np.array(audio_file.get_array_of_samples())\n",
    "            samples = samples.reshape(-1, audio_file.channels)\n",
    "            samples = samples / np.max(np.abs(samples))\n",
    "            samples = samples.squeeze()\n",
    "\n",
    "            samples = resampy.resample(samples, audio_file.frame_rate, 16000)\n",
    "            audio = torch.from_numpy(samples)\n",
    "            inputs = audio_processor(audio, sampling_rate=16000, return_tensors=\"pt\").to(device)\n",
    "            with torch.no_grad():\n",
    "                outputs = audio_model(**inputs)\n",
    "            last_hidden_states = outputs.last_hidden_state.squeeze(0)\n",
    "            embeddings = last_hidden_states.mean(dim=0)\n",
    "            inner_data['audio_embedding'] = embeddings.cpu()\n",
    "            inner_data['text'] = preprocess_sentence(dataset['sentence'][audio_idx])\n",
    "            data_v1[start_id + audio_idx] = inner_data\n",
    "            counter += 1\n",
    "        except Exception as e:\n",
    "            print(e)\n",
    "            print(dataset['path'][audio_idx])\n",
    "            continue\n",
    "    print(f'max id {max_id}')\n",
    "    data_v2 = {}\n",
    "    counter = 0\n",
    "    for audio_idx in tqdm(val_ids_final):\n",
    "        if counter == limit:\n",
    "            break\n",
    "\n",
    "        if start_id + audio_idx not in data_v1.keys():\n",
    "             continue\n",
    "                \n",
    "        if counter % 100 == 0:\n",
    "            torch.cuda.empty_cache()\n",
    "            gc.collect()\n",
    "            torch.cuda.ipc_collect()\n",
    "\n",
    "        try:\n",
    "            file_path = f\"{audio_path}/{dataset['path'][audio_idx]}\"\n",
    "            y, sr = librosa.load(file_path)\n",
    "            spec = librosa.stft(y)\n",
    "            spec_db = librosa.amplitude_to_db(abs(spec))\n",
    "            \n",
    "            plt.clf()\n",
    "            librosa.display.specshow(spec_db, x_axis='time', y_axis='log')\n",
    "            plt.xlabel('')\n",
    "            plt.ylabel('')\n",
    "            plt.tight_layout()\n",
    "\n",
    "            saved_path = f'spec.png'\n",
    "            plt.savefig(saved_path, bbox_inches='tight', pad_inches=0)\n",
    "            image_embeddings = get_image_embedding(saved_path)\n",
    "            data_v2[start_id + audio_idx] = data_v1[start_id + audio_idx].copy()\n",
    "            data_v2[start_id + audio_idx]['image_embedding'] = image_embeddings\n",
    "            counter += 1\n",
    "\n",
    "        except Exception as e:\n",
    "            print(e)\n",
    "            print(dataset['path'][audio_idx])\n",
    "            continue\n",
    "    data_v3 = {}\n",
    "    counter = 0\n",
    "    for audio_idx in tqdm(val_ids_final):\n",
    "        if start_id + audio_idx not in data_v2.keys():\n",
    "            continue\n",
    "        if counter == limit:\n",
    "            break\n",
    "        try:\n",
    "            text_embeddings = text_model.encode(data_v2[start_id + audio_idx]['text'])\n",
    "            data_v3[start_id + audio_idx] = data_v2[start_id + audio_idx].copy()\n",
    "            data_v3[start_id + audio_idx]['text_embedding'] = torch.tensor(text_embeddings)\n",
    "            counter += 1\n",
    "        except Exception as e:\n",
    "            print(e)\n",
    "            print(dataset['path'][audio_idx])\n",
    "            continue\n",
    "    with open(f'pretrained_embeddings_common_voice_{split}_part_{part_number}.pkl', 'wb') as f:\n",
    "        pickle.dump(data_v3, f)\n",
    "    print(f'max id {max_id}')\n",
    "    return max_id"
   ]
  },
  {
   "cell_type": "code",
   "execution_count": null,
   "metadata": {},
   "outputs": [],
   "source": [
    "def find_proper_audios(dataset):\n",
    "    audio_idxs = []\n",
    "    for audio_idx in tqdm(range(len(dataset))): \n",
    "        file_path = f\"{audio_path}/{dataset['path'][audio_idx]}\"\n",
    "        if os.path.exists(file_path):\n",
    "            audio_idxs.append(audio_idx)\n",
    "    print(f'len of audio idxs {len(audio_idxs)}')\n",
    "    return audio_idxs"
   ]
  },
  {
   "cell_type": "code",
   "execution_count": null,
   "metadata": {},
   "outputs": [
    {
     "name": "stderr",
     "output_type": "stream",
     "text": [
      "100%|██████████| 232975/232975 [12:05<00:00, 321.04it/s]"
     ]
    },
    {
     "name": "stdout",
     "output_type": "stream",
     "text": [
      "len of audio idxs 178211\n"
     ]
    },
    {
     "name": "stderr",
     "output_type": "stream",
     "text": [
      "\n"
     ]
    }
   ],
   "source": [
    "train_valid_ids = find_proper_audios(data_train)"
   ]
  },
  {
   "cell_type": "code",
   "execution_count": null,
   "metadata": {},
   "outputs": [
    {
     "name": "stderr",
     "output_type": "stream",
     "text": [
      "  0%|          | 0/178211 [00:00<?, ?it/s]"
     ]
    },
    {
     "name": "stdout",
     "output_type": "stream",
     "text": [
      "start_idx 0\n"
     ]
    },
    {
     "name": "stderr",
     "output_type": "stream",
     "text": [
      "  3%|▎         | 5100/178211 [26:59<15:16:17,  3.15it/s]\n"
     ]
    },
    {
     "name": "stdout",
     "output_type": "stream",
     "text": [
      "max id 18105\n"
     ]
    },
    {
     "name": "stderr",
     "output_type": "stream",
     "text": [
      "  0%|          | 1/178211 [00:01<81:40:06,  1.65s/it]/tmp/ipykernel_28/3664502682.py:77: UserWarning: The figure layout has changed to tight\n",
      "  plt.tight_layout()\n",
      "  3%|▎         | 4605/178211 [51:40<37:40:45,  1.28it/s]"
     ]
    }
   ],
   "source": [
    "# max_idx = pipeline_for_common_voice(data_train, 5000, 'train', train_valid_ids, part_number=1, start_idx=0)"
   ]
  },
  {
   "cell_type": "code",
   "execution_count": null,
   "metadata": {},
   "outputs": [],
   "source": [
    "# max_idx = pipeline_for_common_voice(data_train, 5000, 'train', train_valid_ids, part_number=2, start_idx=max_idx)"
   ]
  },
  {
   "cell_type": "code",
   "execution_count": null,
   "metadata": {},
   "outputs": [],
   "source": [
    "# max_idx = pipeline_for_common_voice(data_train, 5000, 'train', train_valid_ids, part_number=3, start_idx=max_idx)"
   ]
  },
  {
   "cell_type": "code",
   "execution_count": null,
   "metadata": {},
   "outputs": [],
   "source": [
    "# max_idx = pipeline_for_common_voice(data_train, 5000, 'train', train_valid_ids, part_number=4, start_idx=max_idx)"
   ]
  },
  {
   "cell_type": "code",
   "execution_count": null,
   "metadata": {},
   "outputs": [],
   "source": [
    "# max_idx = pipeline_for_common_voice(data_train, 5000, 'train', train_valid_ids, part_number=5, start_idx=max_idx)"
   ]
  },
  {
   "cell_type": "code",
   "execution_count": null,
   "metadata": {},
   "outputs": [],
   "source": [
    "# max_idx = pipeline_for_common_voice(data_train, 5000, 'train', train_valid_ids, part_number=6, start_idx=max_idx)"
   ]
  },
  {
   "cell_type": "code",
   "execution_count": null,
   "metadata": {},
   "outputs": [
    {
     "name": "stderr",
     "output_type": "stream",
     "text": [
      "  3%|▎         | 5050/147855 [29:29<13:54:08,  2.85it/s]\n"
     ]
    },
    {
     "name": "stdout",
     "output_type": "stream",
     "text": [
      "max id 71054\n"
     ]
    },
    {
     "name": "stderr",
     "output_type": "stream",
     "text": [
      "  0%|          | 1/147855 [00:04<177:53:54,  4.33s/it]/tmp/ipykernel_28/998898637.py:77: UserWarning: The figure layout has changed to tight\n",
      "  plt.tight_layout()\n",
      "  0%|          | 179/147855 [02:05<28:40:00,  1.43it/s]"
     ]
    }
   ],
   "source": [
    "# max_idx = pipeline_for_common_voice(data_train, 5000, 'train', train_valid_ids, part_number=7, start_idx=max_idx)"
   ]
  },
  {
   "cell_type": "code",
   "execution_count": null,
   "metadata": {},
   "outputs": [],
   "source": [
    "# max_idx = 71054"
   ]
  },
  {
   "cell_type": "code",
   "execution_count": null,
   "metadata": {},
   "outputs": [],
   "source": [
    "# max_idx = pipeline_for_common_voice(data_train, 5000, 'train', train_valid_ids, part_number=8, start_idx=max_idx)"
   ]
  },
  {
   "cell_type": "code",
   "execution_count": null,
   "metadata": {},
   "outputs": [],
   "source": [
    "# max_idx = pipeline_for_common_voice(data_train, 5000, 'train', train_valid_ids, part_number=9, start_idx=max_idx)"
   ]
  },
  {
   "cell_type": "code",
   "execution_count": null,
   "metadata": {},
   "outputs": [],
   "source": [
    "# max_idx = pipeline_for_common_voice(data_train, 5000, 'train', train_valid_ids, part_number=10, start_idx=max_idx)"
   ]
  },
  {
   "cell_type": "code",
   "execution_count": null,
   "metadata": {},
   "outputs": [],
   "source": [
    "dev_data_path = \"/kaggle/input/common-voice-dataset-version-4/data-file/dev.tsv\"\n",
    "data_dev = pd.read_csv(dev_data_path,comment='#',sep=\"\\t\")"
   ]
  },
  {
   "cell_type": "code",
   "execution_count": null,
   "metadata": {},
   "outputs": [
    {
     "data": {
      "text/plain": [
       "15531"
      ]
     },
     "metadata": {},
     "output_type": "display_data"
    }
   ],
   "source": [
    "len(data_dev)"
   ]
  },
  {
   "cell_type": "code",
   "execution_count": null,
   "metadata": {},
   "outputs": [
    {
     "name": "stderr",
     "output_type": "stream",
     "text": [
      "100%|██████████| 15531/15531 [00:33<00:00, 457.66it/s]"
     ]
    },
    {
     "name": "stdout",
     "output_type": "stream",
     "text": [
      "len of audio idxs 3492\n"
     ]
    },
    {
     "name": "stderr",
     "output_type": "stream",
     "text": [
      "\n"
     ]
    }
   ],
   "source": [
    "dev_valid_ids = find_proper_audios(data_dev)"
   ]
  },
  {
   "cell_type": "code",
   "execution_count": null,
   "metadata": {},
   "outputs": [],
   "source": [
    "max_idx = pipeline_for_common_voice(data_dev, 5000, 'validation', dev_valid_ids, part_number=1, start_idx=0)"
   ]
  },
  {
   "cell_type": "code",
   "execution_count": null,
   "metadata": {},
   "outputs": [
    {
     "data": {
      "text/plain": [
       "15531"
      ]
     },
     "metadata": {},
     "output_type": "display_data"
    }
   ],
   "source": [
    "test_data_path = \"/kaggle/input/common-voice-dataset-version-4/data-file/test.tsv\"\n",
    "data_test = pd.read_csv(test_data_path,comment='#',sep=\"\\t\")\n",
    "len(data_test)"
   ]
  },
  {
   "cell_type": "code",
   "execution_count": null,
   "metadata": {},
   "outputs": [
    {
     "name": "stderr",
     "output_type": "stream",
     "text": [
      "100%|██████████| 15531/15531 [00:33<00:00, 461.98it/s]"
     ]
    },
    {
     "name": "stdout",
     "output_type": "stream",
     "text": [
      "len of audio idxs 2197\n"
     ]
    },
    {
     "name": "stderr",
     "output_type": "stream",
     "text": [
      "\n"
     ]
    }
   ],
   "source": [
    "test_valid_ids = find_proper_audios(data_test)"
   ]
  },
  {
   "cell_type": "code",
   "execution_count": null,
   "metadata": {},
   "outputs": [],
   "source": [
    "max_idx = pipeline_for_common_voice(data_test, 5000, 'test', test_valid_ids, part_number=1, start_idx=0)"
   ]
  },
  {
   "cell_type": "code",
   "execution_count": null,
   "metadata": {},
   "outputs": [],
   "source": [
    "# mix all files pretrained\n",
    "import pickle\n",
    "from IPython.display import FileLink\n",
    "\n",
    "data = {'train': {}, 'test': {}, 'validation': {}}\n",
    "for i in range(1, 11):\n",
    "    with open(f'pretrained_embeddings_common_voice_train_part_{i}.pkl', 'rb') as f:\n",
    "        data['train'].update(pickle.load(f))\n",
    "with open(f'pretrained_embeddings_common_voice_test_part_1.pkl', 'rb') as f:\n",
    "    data['test'].update(pickle.load(f))\n",
    "with open(f'pretrained_embeddings_common_voice_validation_part_1.pkl', 'rb') as f:\n",
    "    data['validation'].update(pickle.load(f))\n",
    "\n",
    "with open(f'pretrained_embeddings_common_voice.pkl', 'wb') as f:\n",
    "    pickle.dump(data, f)"
   ]
  },
  {
   "cell_type": "code",
   "execution_count": null,
   "metadata": {},
   "outputs": [
    {
     "data": {
      "text/html": [
       "<a href='pretrained_embeddings_common_voice.pkl' target='_blank'>pretrained_embeddings_common_voice.pkl</a><br>"
      ],
      "text/plain": [
       "/kaggle/working/pretrained_embeddings_common_voice.pkl"
      ]
     },
     "metadata": {},
     "output_type": "display_data"
    }
   ],
   "source": [
    "FileLink('pretrained_embeddings_common_voice.pkl')"
   ]
  },
  {
   "cell_type": "code",
   "execution_count": null,
   "metadata": {},
   "outputs": [],
   "source": [
    "with open(f'pretrained_embeddings_common_voice.pkl', 'rb') as f:\n",
    "    data = pickle.load(f)"
   ]
  },
  {
   "cell_type": "code",
   "execution_count": null,
   "metadata": {},
   "outputs": [
    {
     "name": "stdout",
     "output_type": "stream",
     "text": [
      "50000\n",
      "3492\n",
      "2197\n"
     ]
    }
   ],
   "source": [
    "print(len(data['train']))\n",
    "print(len(data['validation']))\n",
    "print(len(data['test']))"
   ]
  },
  {
   "cell_type": "markdown",
   "metadata": {},
   "source": [
    "# Wav2vec2 ASR Transcript"
   ]
  },
  {
   "cell_type": "markdown",
   "metadata": {},
   "source": [
    "## Brown"
   ]
  },
  {
   "cell_type": "code",
   "execution_count": null,
   "metadata": {
    "execution": {
     "iopub.execute_input": "2023-08-09T16:11:27.903502Z",
     "iopub.status.busy": "2023-08-09T16:11:27.902965Z",
     "iopub.status.idle": "2023-08-09T16:11:27.909877Z",
     "shell.execute_reply": "2023-08-09T16:11:27.908549Z",
     "shell.execute_reply.started": "2023-08-09T16:11:27.903466Z"
    },
    "trusted": true
   },
   "outputs": [],
   "source": [
    "import gdown\n",
    "import pickle\n",
    "import random"
   ]
  },
  {
   "cell_type": "code",
   "execution_count": null,
   "metadata": {
    "execution": {
     "iopub.execute_input": "2023-08-09T16:07:37.481924Z",
     "iopub.status.busy": "2023-08-09T16:07:37.480413Z",
     "iopub.status.idle": "2023-08-09T16:08:19.159186Z",
     "shell.execute_reply": "2023-08-09T16:08:19.157799Z",
     "shell.execute_reply.started": "2023-08-09T16:07:37.481873Z"
    },
    "trusted": true
   },
   "outputs": [],
   "source": [
    "url = \"https://kkb-production.jupyter-proxy.kaggle.net/k/139428569/eyJhbGciOiJkaXIiLCJlbmMiOiJBMTI4Q0JDLUhTMjU2IiwidHlwIjoiSldUIn0..5CBzgtoLZvb8BcQMfPnk4g.YCRbaBFFoNXwxFOKdpuHxZJKp4P-33myO3ZCed7eCKSU5b0xM04sCCnLY0PZdOm4mZbtof_O5lFZ9mDLpy2hSUwju3p1u-USToNMsrVXfLDggSQCFhPuv9HnV9blsYKP9B24HwqnO985bJ04IBN9AenMzQOL5Yis4qTp14gUGx2ULMit81PQiMfoFvjjMt6dVqclC1FnrSH0mFYGJUGETA.3eqncq_FXklnubs1jK2sRw/proxy/files/total_dataset_test_with_text_audio.pkl\"\n",
    "output = \"total_dataset_test_with_text_audio.pkl\"\n",
    "gdown.download(url, output, quiet=False, fuzzy=True)"
   ]
  },
  {
   "cell_type": "code",
   "execution_count": null,
   "metadata": {
    "execution": {
     "iopub.execute_input": "2023-08-09T16:09:27.502089Z",
     "iopub.status.busy": "2023-08-09T16:09:27.501556Z",
     "iopub.status.idle": "2023-08-09T16:09:30.663571Z",
     "shell.execute_reply": "2023-08-09T16:09:30.662025Z",
     "shell.execute_reply.started": "2023-08-09T16:09:27.502050Z"
    },
    "trusted": true
   },
   "outputs": [],
   "source": [
    "with open('total_dataset_test_with_text_audio.pkl', 'rb') as f:\n",
    "    total_dataset = pickle.load(f)"
   ]
  },
  {
   "cell_type": "code",
   "execution_count": null,
   "metadata": {
    "execution": {
     "iopub.execute_input": "2023-08-09T16:13:30.135847Z",
     "iopub.status.busy": "2023-08-09T16:13:30.135387Z",
     "iopub.status.idle": "2023-08-09T16:13:30.143571Z",
     "shell.execute_reply": "2023-08-09T16:13:30.142427Z",
     "shell.execute_reply.started": "2023-08-09T16:13:30.135810Z"
    },
    "trusted": true
   },
   "outputs": [],
   "source": [
    "total_dataset.keys()"
   ]
  },
  {
   "cell_type": "code",
   "execution_count": null,
   "metadata": {
    "execution": {
     "iopub.execute_input": "2023-08-09T16:13:35.834840Z",
     "iopub.status.busy": "2023-08-09T16:13:35.834304Z",
     "iopub.status.idle": "2023-08-09T16:13:35.842330Z",
     "shell.execute_reply": "2023-08-09T16:13:35.840929Z",
     "shell.execute_reply.started": "2023-08-09T16:13:35.834800Z"
    },
    "trusted": true
   },
   "outputs": [],
   "source": [
    "random_key = random.choice(total_dataset['audio_path'])\n",
    "print(random_key)"
   ]
  },
  {
   "cell_type": "code",
   "execution_count": null,
   "metadata": {
    "execution": {
     "iopub.execute_input": "2023-08-09T16:27:03.635921Z",
     "iopub.status.busy": "2023-08-09T16:27:03.635374Z",
     "iopub.status.idle": "2023-08-09T16:27:03.644166Z",
     "shell.execute_reply": "2023-08-09T16:27:03.642477Z",
     "shell.execute_reply.started": "2023-08-09T16:27:03.635881Z"
    },
    "trusted": true
   },
   "outputs": [],
   "source": [
    "def download_data_part(url, output):\n",
    "    gdown.download(url, output, quiet=False, fuzzy=True)\n",
    "    with ZipFile(output, 'r') as zip_ref:\n",
    "        zip_ref.extractall(output.split('.')[0])\n",
    "    os.remove(output)"
   ]
  },
  {
   "cell_type": "code",
   "execution_count": null,
   "metadata": {
    "execution": {
     "iopub.execute_input": "2023-08-09T16:28:35.882031Z",
     "iopub.status.busy": "2023-08-09T16:28:35.881505Z",
     "iopub.status.idle": "2023-08-09T16:28:35.889310Z",
     "shell.execute_reply": "2023-08-09T16:28:35.887993Z",
     "shell.execute_reply.started": "2023-08-09T16:28:35.881986Z"
    },
    "trusted": true
   },
   "outputs": [],
   "source": [
    "# brown dataset add asr transcripts\n",
    "total_dataset_v2 = total_dataset.copy()\n",
    "total_dataset_v2['asr-text'] = ['' for i in range(len(total_dataset_v2['pure-text']))]\n"
   ]
  },
  {
   "cell_type": "code",
   "execution_count": null,
   "metadata": {
    "execution": {
     "iopub.execute_input": "2023-08-09T16:49:29.020001Z",
     "iopub.status.busy": "2023-08-09T16:49:29.019367Z",
     "iopub.status.idle": "2023-08-09T16:49:33.559210Z",
     "shell.execute_reply": "2023-08-09T16:49:33.557867Z",
     "shell.execute_reply.started": "2023-08-09T16:49:29.019959Z"
    },
    "trusted": true
   },
   "outputs": [],
   "source": [
    "with open('total_dataset_asr_v2.pkl', 'wb') as f:\n",
    "    pickle.dump(total_dataset_v2, f)"
   ]
  },
  {
   "cell_type": "code",
   "execution_count": null,
   "metadata": {
    "execution": {
     "iopub.execute_input": "2023-08-09T17:07:20.273081Z",
     "iopub.status.busy": "2023-08-09T17:07:20.272508Z",
     "iopub.status.idle": "2023-08-09T17:07:25.870725Z",
     "shell.execute_reply": "2023-08-09T17:07:25.869375Z",
     "shell.execute_reply.started": "2023-08-09T17:07:20.273045Z"
    },
    "trusted": true
   },
   "outputs": [],
   "source": [
    "from transformers import Wav2Vec2ForCTC, Wav2Vec2Processor\n",
    "import soundfile as sf\n",
    "\n",
    "# Load the pre-trained model and processor\n",
    "model = Wav2Vec2ForCTC.from_pretrained(\"facebook/wav2vec2-base-960h\")\n",
    "processor = Wav2Vec2Processor.from_pretrained(\"facebook/wav2vec2-base-960h\")\n"
   ]
  },
  {
   "cell_type": "code",
   "execution_count": null,
   "metadata": {
    "execution": {
     "iopub.execute_input": "2023-08-09T17:09:49.665319Z",
     "iopub.status.busy": "2023-08-09T17:09:49.664908Z",
     "iopub.status.idle": "2023-08-09T17:09:49.675073Z",
     "shell.execute_reply": "2023-08-09T17:09:49.673509Z",
     "shell.execute_reply.started": "2023-08-09T17:09:49.665288Z"
    },
    "trusted": true
   },
   "outputs": [],
   "source": [
    "def transcribe_audio_files(audio_file_list):\n",
    "    transcriptions = []\n",
    "    for audio_file in tqdm(audio_file_list):\n",
    "        # Load the audio file\n",
    "        audio_input, _ = sf.read(audio_file)\n",
    "        # Preprocess the audio file\n",
    "        input_values = processor(audio_input, sampling_rate=16_000, return_tensors=\"pt\").input_values\n",
    "        # Get the model's prediction\n",
    "        logits = model(input_values).logits\n",
    "        predicted_ids = torch.argmax(logits, dim=-1)\n",
    "        # Decode the prediction to text\n",
    "        transcription = processor.batch_decode(predicted_ids)[0]\n",
    "        transcriptions.append(transcription.lower())\n",
    "    return transcriptions"
   ]
  },
  {
   "cell_type": "code",
   "execution_count": null,
   "metadata": {
    "execution": {
     "iopub.execute_input": "2023-08-09T17:07:59.177616Z",
     "iopub.status.busy": "2023-08-09T17:07:59.176929Z",
     "iopub.status.idle": "2023-08-09T17:08:02.395044Z",
     "shell.execute_reply": "2023-08-09T17:08:02.393704Z",
     "shell.execute_reply.started": "2023-08-09T17:07:59.177568Z"
    },
    "trusted": true
   },
   "outputs": [],
   "source": [
    "# Example usage\n",
    "audio_file_list = ['dataset_part1/audios/audio_3915.wav','dataset_part1/audios/audio_200.wav']\n",
    "transcriptions = transcribe_audio_files(audio_file_list)\n",
    "print(transcriptions)\n"
   ]
  },
  {
   "cell_type": "code",
   "execution_count": null,
   "metadata": {
    "execution": {
     "iopub.execute_input": "2023-08-09T16:27:27.060279Z",
     "iopub.status.busy": "2023-08-09T16:27:27.059875Z",
     "iopub.status.idle": "2023-08-09T16:28:35.879095Z",
     "shell.execute_reply": "2023-08-09T16:28:35.877625Z",
     "shell.execute_reply.started": "2023-08-09T16:27:27.060248Z"
    },
    "trusted": true
   },
   "outputs": [],
   "source": [
    "download_data_part('https://drive.google.com/file/d/1GkXhLbzHrobM4GaGX80PzRHl-TBPg8h4/view?usp=drive_link','dataset_part1.zip')"
   ]
  },
  {
   "cell_type": "code",
   "execution_count": null,
   "metadata": {
    "execution": {
     "iopub.execute_input": "2023-08-09T17:39:00.459014Z",
     "iopub.status.busy": "2023-08-09T17:39:00.458554Z",
     "iopub.status.idle": "2023-08-09T17:39:00.470868Z",
     "shell.execute_reply": "2023-08-09T17:39:00.469087Z",
     "shell.execute_reply.started": "2023-08-09T17:39:00.458979Z"
    },
    "trusted": true
   },
   "outputs": [],
   "source": [
    "def add_for_part_asr_text(part_id):\n",
    "    with open('total_dataset_asr_v2.pkl', 'rb') as f:\n",
    "        total_dataset_v2 = pickle.load(f)\n",
    "    with open('total_dataset_asr_v2_backup.pkl', 'wb') as f:\n",
    "        pickle.dump(total_dataset_v2, f)\n",
    "    item_indexes = []\n",
    "    audio_pathes = []\n",
    "    for i, audio_path in enumerate(total_dataset_v2['audio_path']):\n",
    "        if total_dataset_v2['source'][i] != 'brown':\n",
    "            continue\n",
    "        if f'/part{part_id}/' in audio_path:\n",
    "            item_indexes.append(i)\n",
    "            audio_pathes.append(f'dataset_part{part_id}/audios/' + audio_path.split('/')[-1])\n",
    "    print(len(item_indexes))\n",
    "#     transcriptions = [item['transcription'] for item in asr_model.transcribe(audio_pathes)]\n",
    "    transcriptions = transcribe_audio_files(audio_pathes)\n",
    "    for i, item_index in enumerate(item_indexes):\n",
    "        total_dataset_v2['asr-text'][item_index] = transcriptions[i]\n",
    "    with open('total_dataset_asr_v2.pkl', 'wb') as f:\n",
    "        pickle.dump(total_dataset_v2, f)\n",
    "        # write part_id to file\n",
    "    with open('part_id.txt', 'w') as f:\n",
    "        f.write(str(part_id))"
   ]
  },
  {
   "cell_type": "code",
   "execution_count": null,
   "metadata": {},
   "outputs": [],
   "source": [
    "#read part_id \n",
    "with open('part_id.txt', 'r') as f:\n",
    "    part_id = f.read()\n",
    "part_id"
   ]
  },
  {
   "cell_type": "code",
   "execution_count": null,
   "metadata": {
    "execution": {
     "iopub.execute_input": "2023-08-09T17:09:55.860333Z",
     "iopub.status.busy": "2023-08-09T17:09:55.859238Z",
     "iopub.status.idle": "2023-08-09T17:36:32.487023Z",
     "shell.execute_reply": "2023-08-09T17:36:32.485371Z",
     "shell.execute_reply.started": "2023-08-09T17:09:55.860276Z"
    },
    "trusted": true
   },
   "outputs": [],
   "source": [
    "add_for_part_asr_text(1)"
   ]
  },
  {
   "cell_type": "code",
   "execution_count": null,
   "metadata": {
    "execution": {
     "iopub.execute_input": "2023-08-09T17:40:29.450550Z",
     "iopub.status.busy": "2023-08-09T17:40:29.450059Z",
     "iopub.status.idle": "2023-08-09T17:40:33.033980Z",
     "shell.execute_reply": "2023-08-09T17:40:33.032679Z",
     "shell.execute_reply.started": "2023-08-09T17:40:29.450515Z"
    },
    "trusted": true
   },
   "outputs": [],
   "source": [
    "with open('total_dataset_asr_v2.pkl', 'rb') as f:\n",
    "    total_dataset_v2 = pickle.load(f)\n",
    "c = 0\n",
    "for j, i in enumerate(total_dataset_v2['asr-text']):\n",
    "    if i != '':\n",
    "        if c == 1 :\n",
    "            print(i)\n",
    "            print(total_dataset_v2['pure-text'][j])\n",
    "        c += 1\n",
    "print(c)"
   ]
  },
  {
   "cell_type": "code",
   "execution_count": null,
   "metadata": {
    "trusted": true
   },
   "outputs": [],
   "source": [
    "print(total_dataset_v2['asr-text'])"
   ]
  },
  {
   "cell_type": "code",
   "execution_count": null,
   "metadata": {
    "execution": {
     "iopub.execute_input": "2023-08-09T17:43:22.038312Z",
     "iopub.status.busy": "2023-08-09T17:43:22.036386Z",
     "iopub.status.idle": "2023-08-09T17:44:44.172673Z",
     "shell.execute_reply": "2023-08-09T17:44:44.169718Z",
     "shell.execute_reply.started": "2023-08-09T17:43:22.038225Z"
    },
    "trusted": true
   },
   "outputs": [],
   "source": [
    "# part 2\n",
    "download_data_part('https://drive.google.com/file/d/1n_xxsblXrw5tCVk7ZP6_kRtubjMOuC2l/view?usp=drive_link','dataset_part2.zip')"
   ]
  },
  {
   "cell_type": "code",
   "execution_count": null,
   "metadata": {
    "execution": {
     "iopub.execute_input": "2023-08-09T17:44:44.178934Z",
     "iopub.status.busy": "2023-08-09T17:44:44.177871Z",
     "iopub.status.idle": "2023-08-09T18:08:34.130266Z",
     "shell.execute_reply": "2023-08-09T18:08:34.128405Z",
     "shell.execute_reply.started": "2023-08-09T17:44:44.178894Z"
    },
    "trusted": true
   },
   "outputs": [],
   "source": [
    "add_for_part_asr_text(2)"
   ]
  },
  {
   "cell_type": "code",
   "execution_count": null,
   "metadata": {
    "execution": {
     "iopub.execute_input": "2023-08-09T18:08:34.145666Z",
     "iopub.status.busy": "2023-08-09T18:08:34.145095Z",
     "iopub.status.idle": "2023-08-09T18:08:38.219065Z",
     "shell.execute_reply": "2023-08-09T18:08:38.217826Z",
     "shell.execute_reply.started": "2023-08-09T18:08:34.145613Z"
    },
    "trusted": true
   },
   "outputs": [],
   "source": [
    "with open('total_dataset_asr_v2.pkl', 'rb') as f:\n",
    "    total_dataset_v2 = pickle.load(f)\n",
    "c = 0\n",
    "for j, i in enumerate(total_dataset_v2['asr-text']):\n",
    "    if i != '':\n",
    "        if c == 1 :\n",
    "            print(i)\n",
    "            print(total_dataset_v2['pure-text'][j])\n",
    "        c += 1\n",
    "print(c)"
   ]
  },
  {
   "cell_type": "code",
   "execution_count": null,
   "metadata": {
    "execution": {
     "iopub.execute_input": "2023-08-09T18:08:38.223194Z",
     "iopub.status.busy": "2023-08-09T18:08:38.221888Z",
     "iopub.status.idle": "2023-08-09T18:08:39.025277Z",
     "shell.execute_reply": "2023-08-09T18:08:39.023670Z",
     "shell.execute_reply.started": "2023-08-09T18:08:38.223147Z"
    },
    "trusted": true
   },
   "outputs": [],
   "source": [
    "from shutil import rmtree\n",
    "rmtree('dataset_part1')\n",
    "rmtree('dataset_part2')"
   ]
  },
  {
   "cell_type": "code",
   "execution_count": null,
   "metadata": {
    "execution": {
     "iopub.execute_input": "2023-08-09T18:08:39.027336Z",
     "iopub.status.busy": "2023-08-09T18:08:39.026996Z",
     "iopub.status.idle": "2023-08-09T18:09:32.287680Z",
     "shell.execute_reply": "2023-08-09T18:09:32.285553Z",
     "shell.execute_reply.started": "2023-08-09T18:08:39.027308Z"
    },
    "trusted": true
   },
   "outputs": [],
   "source": [
    "# part 3\n",
    "download_data_part('https://drive.google.com/file/d/14-Tvd3jvgY2Ge5-cxOsX7Arx6esfUxeN/view?usp=drive_link','dataset_part3.zip')"
   ]
  },
  {
   "cell_type": "code",
   "execution_count": null,
   "metadata": {
    "execution": {
     "iopub.execute_input": "2023-08-09T18:09:32.289873Z",
     "iopub.status.busy": "2023-08-09T18:09:32.289441Z",
     "iopub.status.idle": "2023-08-09T18:32:01.492928Z",
     "shell.execute_reply": "2023-08-09T18:32:01.489737Z",
     "shell.execute_reply.started": "2023-08-09T18:09:32.289835Z"
    },
    "trusted": true
   },
   "outputs": [],
   "source": [
    "add_for_part_asr_text(3)"
   ]
  },
  {
   "cell_type": "code",
   "execution_count": null,
   "metadata": {
    "execution": {
     "iopub.execute_input": "2023-08-09T18:32:01.518655Z",
     "iopub.status.busy": "2023-08-09T18:32:01.516281Z",
     "iopub.status.idle": "2023-08-09T18:32:02.524755Z",
     "shell.execute_reply": "2023-08-09T18:32:02.518615Z",
     "shell.execute_reply.started": "2023-08-09T18:32:01.518507Z"
    },
    "trusted": true
   },
   "outputs": [],
   "source": [
    "rmtree('dataset_part3')"
   ]
  },
  {
   "cell_type": "code",
   "execution_count": null,
   "metadata": {
    "execution": {
     "iopub.execute_input": "2023-08-09T18:32:02.527689Z",
     "iopub.status.busy": "2023-08-09T18:32:02.527098Z",
     "iopub.status.idle": "2023-08-09T18:32:58.252875Z",
     "shell.execute_reply": "2023-08-09T18:32:58.251653Z",
     "shell.execute_reply.started": "2023-08-09T18:32:02.527592Z"
    },
    "trusted": true
   },
   "outputs": [],
   "source": [
    "# part 4\n",
    "download_data_part('https://drive.google.com/file/d/1fId6jAxD5UzObg4zu30GPpcP-P9F7TSL/view?usp=drive_link','dataset_part4.zip')"
   ]
  },
  {
   "cell_type": "code",
   "execution_count": null,
   "metadata": {
    "execution": {
     "iopub.execute_input": "2023-08-09T18:32:58.254973Z",
     "iopub.status.busy": "2023-08-09T18:32:58.254584Z",
     "iopub.status.idle": "2023-08-09T18:59:22.210654Z",
     "shell.execute_reply": "2023-08-09T18:59:22.208738Z",
     "shell.execute_reply.started": "2023-08-09T18:32:58.254941Z"
    },
    "trusted": true
   },
   "outputs": [],
   "source": [
    "add_for_part_asr_text(4)"
   ]
  },
  {
   "cell_type": "code",
   "execution_count": null,
   "metadata": {
    "execution": {
     "iopub.execute_input": "2023-08-09T18:59:22.231633Z",
     "iopub.status.busy": "2023-08-09T18:59:22.230210Z",
     "iopub.status.idle": "2023-08-09T19:00:27.624845Z",
     "shell.execute_reply": "2023-08-09T19:00:27.623165Z",
     "shell.execute_reply.started": "2023-08-09T18:59:22.231554Z"
    },
    "trusted": true
   },
   "outputs": [],
   "source": [
    "# part 5\n",
    "download_data_part('https://drive.google.com/file/d/1VssFVfqgnXy7JpgUKpTWEVg11bqYK2bn/view?usp=drive_link','dataset_part5.zip')"
   ]
  },
  {
   "cell_type": "code",
   "execution_count": null,
   "metadata": {
    "execution": {
     "iopub.execute_input": "2023-08-09T19:00:27.627407Z",
     "iopub.status.busy": "2023-08-09T19:00:27.626977Z"
    },
    "trusted": true
   },
   "outputs": [],
   "source": [
    "add_for_part_asr_text(5)"
   ]
  },
  {
   "cell_type": "code",
   "execution_count": null,
   "metadata": {
    "trusted": true
   },
   "outputs": [],
   "source": [
    "from shutil import rmtree\n",
    "rmtree('dataset_part4')\n",
    "rmtree('dataset_part5')"
   ]
  },
  {
   "cell_type": "code",
   "execution_count": null,
   "metadata": {
    "trusted": true
   },
   "outputs": [],
   "source": [
    "# part 6\n",
    "download_data_part('https://drive.google.com/file/d/11vhiU4lV8w3IYTXebTDr-9j7834ig6OU/view?usp=drive_link','dataset_part6.zip')"
   ]
  },
  {
   "cell_type": "code",
   "execution_count": null,
   "metadata": {
    "trusted": true
   },
   "outputs": [],
   "source": [
    "add_for_part_asr_text(6)"
   ]
  },
  {
   "cell_type": "code",
   "execution_count": null,
   "metadata": {
    "trusted": true
   },
   "outputs": [],
   "source": [
    "# part 7\n",
    "download_data_part('https://drive.google.com/file/d/1FbPz9VnDgU9Bj7sxtxOb7Etx1_dnobmH/view?usp=drive_link','dataset_part7.zip')"
   ]
  },
  {
   "cell_type": "code",
   "execution_count": null,
   "metadata": {
    "trusted": true
   },
   "outputs": [],
   "source": [
    "add_for_part_asr_text(7)"
   ]
  },
  {
   "cell_type": "code",
   "execution_count": null,
   "metadata": {
    "trusted": true
   },
   "outputs": [],
   "source": [
    "rmtree('dataset_part6')\n",
    "rmtree('dataset_part7')"
   ]
  },
  {
   "cell_type": "code",
   "execution_count": null,
   "metadata": {
    "trusted": true
   },
   "outputs": [],
   "source": [
    "# part 8\n",
    "download_data_part('https://drive.google.com/file/d/1E_UWK88hWwhwKI8kiND3OCtdo3tnlOu5/view?usp=drive_link','dataset_part8.zip')"
   ]
  },
  {
   "cell_type": "code",
   "execution_count": null,
   "metadata": {
    "trusted": true
   },
   "outputs": [],
   "source": [
    "add_for_part_asr_text(8)"
   ]
  },
  {
   "cell_type": "code",
   "execution_count": null,
   "metadata": {
    "trusted": true
   },
   "outputs": [],
   "source": [
    "# part 9\n",
    "download_data_part('https://drive.google.com/file/d/17PC8U5HYQ8r9wGlpQoeptjMyA7rK6PrZ/view?usp=drive_link','dataset_part9.zip')"
   ]
  },
  {
   "cell_type": "code",
   "execution_count": null,
   "metadata": {
    "trusted": true
   },
   "outputs": [],
   "source": [
    "add_for_part_asr_text(9)"
   ]
  },
  {
   "cell_type": "code",
   "execution_count": null,
   "metadata": {
    "trusted": true
   },
   "outputs": [],
   "source": [
    "rmtree('dataset_part8')\n",
    "rmtree('dataset_part9')"
   ]
  },
  {
   "cell_type": "code",
   "execution_count": null,
   "metadata": {
    "trusted": true
   },
   "outputs": [],
   "source": [
    "# part 10\n",
    "download_data_part('https://drive.google.com/file/d/1TQI49qhcDKSX0222sAQxDsQZVbZnjlBP/view?usp=drive_link','dataset_part10.zip')"
   ]
  },
  {
   "cell_type": "code",
   "execution_count": null,
   "metadata": {
    "trusted": true
   },
   "outputs": [],
   "source": [
    "add_for_part_asr_text(10)"
   ]
  },
  {
   "cell_type": "code",
   "execution_count": null,
   "metadata": {
    "trusted": true
   },
   "outputs": [],
   "source": [
    "rmtree('dataset_part10')"
   ]
  },
  {
   "cell_type": "markdown",
   "metadata": {},
   "source": [
    "## Common Voice"
   ]
  },
  {
   "cell_type": "code",
   "execution_count": null,
   "metadata": {},
   "outputs": [
    {
     "name": "stderr",
     "output_type": "stream",
     "text": [
      "Downloading...\n",
      "From (uriginal): https://drive.google.com/uc?id=1sNYqSU5lmUiuSlffMcyRYv6ho5p7ra2a\n",
      "From (redirected): https://drive.google.com/uc?id=1sNYqSU5lmUiuSlffMcyRYv6ho5p7ra2a&confirm=t&uuid=5f6f2b8e-e76a-46bb-a4e9-e04b499ff4d9\n",
      "To: /kaggle/working/total_dataset_test_with_text_audio.pkl\n",
      "100%|██████████| 847M/847M [00:07<00:00, 107MB/s]  \n"
     ]
    },
    {
     "data": {
      "text/plain": [
       "'total_dataset_test_with_text_audio.pkl'"
      ]
     },
     "metadata": {},
     "output_type": "display_data"
    }
   ],
   "source": [
    "url = \"https://drive.google.com/file/d/1sNYqSU5lmUiuSlffMcyRYv6ho5p7ra2a/view?usp=sharing\"\n",
    "output = \"total_dataset_test_with_text_audio.pkl\"\n",
    "gdown.download(url, output, quiet=False, fuzzy=True)"
   ]
  },
  {
   "cell_type": "code",
   "execution_count": null,
   "metadata": {},
   "outputs": [],
   "source": [
    "with open('total_dataset_test_with_text_audio.pkl', 'rb') as f:\n",
    "    total_dataset = pickle.load(f)"
   ]
  },
  {
   "cell_type": "code",
   "execution_count": null,
   "metadata": {},
   "outputs": [],
   "source": [
    "total_dataset_v2 = total_dataset.copy()\n",
    "total_dataset_v2['asr-text'] = ['' for i in range(len(total_dataset_v2['pure-text']))]"
   ]
  },
  {
   "cell_type": "code",
   "execution_count": null,
   "metadata": {},
   "outputs": [
    {
     "name": "stderr",
     "output_type": "stream",
     "text": [
      "Some weights of Wav2Vec2ForCTC were not initialized from the model checkpoint at facebook/wav2vec2-base-960h and are newly initialized: ['wav2vec2.masked_spec_embed']\n",
      "You should probably TRAIN this model on a down-stream task to be able to use it for predictions and inference.\n"
     ]
    }
   ],
   "source": [
    "from transformers import Wav2Vec2ForCTC, Wav2Vec2Processor\n",
    "import soundfile as sf\n",
    "\n",
    "# Load the pre-trained model and processor\n",
    "model = Wav2Vec2ForCTC.from_pretrained(\"facebook/wav2vec2-base-960h\").to(device)\n",
    "processor = Wav2Vec2Processor.from_pretrained(\"facebook/wav2vec2-base-960h\")\n"
   ]
  },
  {
   "cell_type": "code",
   "execution_count": null,
   "metadata": {},
   "outputs": [],
   "source": [
    "def transcribe_audio_files(audio_file_list):\n",
    "    transcriptions = []\n",
    "    for file_path in tqdm(audio_file_list):\n",
    "        audio_file = AudioSegment.from_file(file_path)\n",
    "        samples = np.array(audio_file.get_array_of_samples())\n",
    "        samples = samples.reshape(-1, audio_file.channels)\n",
    "        samples = samples / np.max(np.abs(samples))\n",
    "        samples = samples.squeeze()\n",
    "\n",
    "        samples = resampy.resample(samples, audio_file.frame_rate, 16000)\n",
    "        audio = torch.from_numpy(samples)\n",
    "        inputs = processor(audio, sampling_rate=16000, return_tensors=\"pt\").to(device)\n",
    "        with torch.no_grad():\n",
    "            outputs = model(**inputs).logits\n",
    "        predicted_ids = torch.argmax(outputs, dim=-1)\n",
    "        # Decode the prediction to text\n",
    "        transcription = processor.batch_decode(predicted_ids)[0]\n",
    "        transcriptions.append(transcription.lower())\n",
    "    return transcriptions"
   ]
  },
  {
   "cell_type": "code",
   "execution_count": null,
   "metadata": {},
   "outputs": [
    {
     "data": {
      "text/plain": [
       "'common_voice'"
      ]
     },
     "metadata": {},
     "output_type": "display_data"
    }
   ],
   "source": [
    "total_dataset_v2['source'][0]"
   ]
  },
  {
   "cell_type": "code",
   "execution_count": null,
   "metadata": {},
   "outputs": [
    {
     "name": "stderr",
     "output_type": "stream",
     "text": [
      "100%|██████████| 2/2 [00:00<00:00,  3.20it/s]"
     ]
    },
    {
     "name": "stdout",
     "output_type": "stream",
     "text": [
      "['the burning fire had been extinguished', 'this idea have to provide some incight into these farming adoptations']\n"
     ]
    },
    {
     "name": "stderr",
     "output_type": "stream",
     "text": [
      "\n"
     ]
    }
   ],
   "source": [
    "# Example usage\n",
    "audio_file_list = ['/kaggle/input/common-voice-dataset-version-4/new-clip/common_voice_en_100040.mp3','/kaggle/input/common-voice-dataset-version-4/new-clip/common_voice_en_19714982.mp3']\n",
    "transcriptions = transcribe_audio_files(audio_file_list)\n",
    "print(transcriptions)\n"
   ]
  },
  {
   "cell_type": "code",
   "execution_count": null,
   "metadata": {},
   "outputs": [
    {
     "data": {
      "text/html": [
       "\n",
       "                <audio  controls=\"controls\" >\n",
       "                    <source src=\"data:audio/mpeg;base64,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\" type=\"audio/mpeg\" />\n",
       "                    Your browser does not support the audio element.\n",
       "                </audio>\n",
       "              "
      ],
      "text/plain": [
       "<IPython.lib.display.Audio object>"
      ]
     },
     "metadata": {},
     "output_type": "display_data"
    }
   ],
   "source": [
    "Audio(audio_file_list[1])"
   ]
  },
  {
   "cell_type": "code",
   "execution_count": null,
   "metadata": {},
   "outputs": [],
   "source": [
    "with open('total_dataset_asr_v2.pkl', 'wb') as f:\n",
    "    pickle.dump(total_dataset_v2, f)"
   ]
  },
  {
   "cell_type": "code",
   "execution_count": null,
   "metadata": {},
   "outputs": [],
   "source": [
    "def add_asr_text_common_voice():\n",
    "    with open('total_dataset_asr_v2.pkl', 'rb') as f:\n",
    "        total_dataset_v2 = pickle.load(f)\n",
    "#     with open('total_dataset_asr_v2_backup.pkl', 'wb') as f:\n",
    "#         pickle.dump(total_dataset_v2, f)\n",
    "    item_indexes = []\n",
    "    audio_pathes = []\n",
    "    for i, audio_path in enumerate(total_dataset_v2['audio_path']):\n",
    "        if total_dataset_v2['source'][i] != 'common_voice':\n",
    "            continue\n",
    "        item_indexes.append(i)\n",
    "        audio_pathes.append(total_dataset_v2['audio_path'][i])\n",
    "    print(len(item_indexes))\n",
    "    transcriptions = transcribe_audio_files(audio_pathes)\n",
    "    for i, item_index in enumerate(item_indexes):\n",
    "        total_dataset_v2['asr-text'][item_index] = transcriptions[i]\n",
    "    with open('total_dataset_asr_v2.pkl', 'wb') as f:\n",
    "        pickle.dump(total_dataset_v2, f)"
   ]
  },
  {
   "cell_type": "code",
   "execution_count": null,
   "metadata": {},
   "outputs": [
    {
     "name": "stdout",
     "output_type": "stream",
     "text": [
      "2197\n"
     ]
    },
    {
     "name": "stderr",
     "output_type": "stream",
     "text": [
      "100%|██████████| 2197/2197 [12:48<00:00,  2.86it/s]\n"
     ]
    }
   ],
   "source": [
    "add_asr_text_common_voice()"
   ]
  },
  {
   "cell_type": "code",
   "execution_count": null,
   "metadata": {},
   "outputs": [
    {
     "name": "stdout",
     "output_type": "stream",
     "text": [
      "two young women sit on a stone staircase in front of a store shuttered with a decorative iron grate\n",
      "two young women sit on a stone staircase in front of a store shuttered with a decorative iron grate\n",
      "2194\n"
     ]
    }
   ],
   "source": [
    "with open('total_dataset_asr_v2.pkl', 'rb') as f:\n",
    "    total_dataset_v2 = pickle.load(f)\n",
    "c = 0\n",
    "for j, i in enumerate(total_dataset_v2['asr-text']):\n",
    "    if i != '':\n",
    "        if c == 1 :\n",
    "            print(i)\n",
    "            print(total_dataset_v2['pure-text'][j])\n",
    "        c += 1\n",
    "print(c)"
   ]
  },
  {
   "cell_type": "markdown",
   "metadata": {},
   "source": [
    "## FLEURS"
   ]
  },
  {
   "cell_type": "code",
   "execution_count": null,
   "metadata": {},
   "outputs": [
    {
     "data": {
      "application/vnd.jupyter.widget-view+json": {
       "model_id": "8aef3478685d464981cd0a1fb6c3870f",
       "version_major": 2,
       "version_minor": 0
      },
      "text/plain": [
       "Downloading builder script:   0%|          | 0.00/12.6k [00:00<?, ?B/s]"
      ]
     },
     "metadata": {},
     "output_type": "display_data"
    },
    {
     "name": "stdout",
     "output_type": "stream",
     "text": [
      "Downloading and preparing dataset fleurs/en_us to /root/.cache/huggingface/datasets/google___fleurs/en_us/2.0.0/af82dbec419a815084fa63ebd5d5a9f24a6e9acdf9887b9e3b8c6bbd64e0b7ac...\n"
     ]
    },
    {
     "data": {
      "application/vnd.jupyter.widget-view+json": {
       "model_id": "d9eedb568ca2478f860ad3ce7d3c2f18",
       "version_major": 2,
       "version_minor": 0
      },
      "text/plain": [
       "Downloading data files:   0%|          | 0/3 [00:00<?, ?it/s]"
      ]
     },
     "metadata": {},
     "output_type": "display_data"
    },
    {
     "data": {
      "application/vnd.jupyter.widget-view+json": {
       "model_id": "dc91bce5c7a046ada61fb1a45d3accc0",
       "version_major": 2,
       "version_minor": 0
      },
      "text/plain": [
       "Downloading data:   0%|          | 0.00/1.38G [00:00<?, ?B/s]"
      ]
     },
     "metadata": {},
     "output_type": "display_data"
    },
    {
     "data": {
      "application/vnd.jupyter.widget-view+json": {
       "model_id": "11ba11da71244ab486591547b1706e4f",
       "version_major": 2,
       "version_minor": 0
      },
      "text/plain": [
       "Downloading data:   0%|          | 0.00/171M [00:00<?, ?B/s]"
      ]
     },
     "metadata": {},
     "output_type": "display_data"
    },
    {
     "data": {
      "application/vnd.jupyter.widget-view+json": {
       "model_id": "451c7e3b66dd493c83027e9ce70ab940",
       "version_major": 2,
       "version_minor": 0
      },
      "text/plain": [
       "Downloading data:   0%|          | 0.00/290M [00:00<?, ?B/s]"
      ]
     },
     "metadata": {},
     "output_type": "display_data"
    },
    {
     "data": {
      "application/vnd.jupyter.widget-view+json": {
       "model_id": "8a75956b1e624785aa46526f8ce104e3",
       "version_major": 2,
       "version_minor": 0
      },
      "text/plain": [
       "Extracting data files:   0%|          | 0/3 [00:00<?, ?it/s]"
      ]
     },
     "metadata": {},
     "output_type": "display_data"
    },
    {
     "data": {
      "application/vnd.jupyter.widget-view+json": {
       "model_id": "4d908cab0666469caa77ddfe8d465988",
       "version_major": 2,
       "version_minor": 0
      },
      "text/plain": [
       "Downloading data files:   0%|          | 0/3 [00:00<?, ?it/s]"
      ]
     },
     "metadata": {},
     "output_type": "display_data"
    },
    {
     "data": {
      "application/vnd.jupyter.widget-view+json": {
       "model_id": "347f16854f764769a84b6aebc2ee12e9",
       "version_major": 2,
       "version_minor": 0
      },
      "text/plain": [
       "Downloading data:   0%|          | 0.00/1.41M [00:00<?, ?B/s]"
      ]
     },
     "metadata": {},
     "output_type": "display_data"
    },
    {
     "data": {
      "application/vnd.jupyter.widget-view+json": {
       "model_id": "1664d4c80e834b278c0ae0aa3fe70b59",
       "version_major": 2,
       "version_minor": 0
      },
      "text/plain": [
       "Downloading data:   0%|          | 0.00/213k [00:00<?, ?B/s]"
      ]
     },
     "metadata": {},
     "output_type": "display_data"
    },
    {
     "data": {
      "application/vnd.jupyter.widget-view+json": {
       "model_id": "341d8436c9b34b988f1f6994190e7d24",
       "version_major": 2,
       "version_minor": 0
      },
      "text/plain": [
       "Downloading data:   0%|          | 0.00/368k [00:00<?, ?B/s]"
      ]
     },
     "metadata": {},
     "output_type": "display_data"
    },
    {
     "data": {
      "application/vnd.jupyter.widget-view+json": {
       "model_id": "",
       "version_major": 2,
       "version_minor": 0
      },
      "text/plain": [
       "Generating train split: 0 examples [00:00, ? examples/s]"
      ]
     },
     "metadata": {},
     "output_type": "display_data"
    },
    {
     "data": {
      "application/vnd.jupyter.widget-view+json": {
       "model_id": "",
       "version_major": 2,
       "version_minor": 0
      },
      "text/plain": [
       "Generating validation split: 0 examples [00:00, ? examples/s]"
      ]
     },
     "metadata": {},
     "output_type": "display_data"
    },
    {
     "data": {
      "application/vnd.jupyter.widget-view+json": {
       "model_id": "",
       "version_major": 2,
       "version_minor": 0
      },
      "text/plain": [
       "Generating test split: 0 examples [00:00, ? examples/s]"
      ]
     },
     "metadata": {},
     "output_type": "display_data"
    },
    {
     "name": "stdout",
     "output_type": "stream",
     "text": [
      "Dataset fleurs downloaded and prepared to /root/.cache/huggingface/datasets/google___fleurs/en_us/2.0.0/af82dbec419a815084fa63ebd5d5a9f24a6e9acdf9887b9e3b8c6bbd64e0b7ac. Subsequent calls will reuse this data.\n"
     ]
    },
    {
     "data": {
      "application/vnd.jupyter.widget-view+json": {
       "model_id": "67da923edd4f419791398b6dc75b3d62",
       "version_major": 2,
       "version_minor": 0
      },
      "text/plain": [
       "  0%|          | 0/3 [00:00<?, ?it/s]"
      ]
     },
     "metadata": {},
     "output_type": "display_data"
    }
   ],
   "source": [
    "fleurs_retrieval = load_dataset(\"google/fleurs\", \"en_us\")"
   ]
  },
  {
   "cell_type": "code",
   "execution_count": null,
   "metadata": {},
   "outputs": [
    {
     "name": "stdout",
     "output_type": "stream",
     "text": [
      "/root/.cache/huggingface/datasets/downloads/extracted/767809e2794806f54865259a100b1774ae3de84135396cf5c5fa2a50bd3bcbef/test/1273817225649957097.wav\n",
      "/root/.cache/huggingface/datasets/downloads/extracted/767809e2794806f54865259a100b1774ae3de84135396cf5c5fa2a50bd3bcbef/test/1394697283561012104.wav\n",
      "/root/.cache/huggingface/datasets/downloads/extracted/767809e2794806f54865259a100b1774ae3de84135396cf5c5fa2a50bd3bcbef/test/5196260640941390313.wav\n"
     ]
    }
   ],
   "source": [
    "with open('total_dataset_asr_v2.pkl', 'rb') as f:\n",
    "    total_dataset_v2 = pickle.load(f)\n",
    "c = 0\n",
    "for j, i in enumerate(total_dataset_v2['source']):\n",
    "    if i == 'fleurs':\n",
    "        print(total_dataset_v2['audio_path'][j])\n",
    "        c += 1\n",
    "    if c == 3:\n",
    "        break"
   ]
  },
  {
   "cell_type": "code",
   "execution_count": null,
   "metadata": {},
   "outputs": [
    {
     "name": "stderr",
     "output_type": "stream",
     "text": [
      "100%|██████████| 2/2 [00:00<00:00,  2.36it/s]"
     ]
    },
    {
     "name": "stdout",
     "output_type": "stream",
     "text": [
      "['italian is also the every day language used by most of those who work in the state while latin is often used in religious ceremonies', \"well we don't know for sure but it may have had a fork tong is diet included turtles larchfis other most sausorers ai may even have been a cannibal\"]\n"
     ]
    },
    {
     "name": "stderr",
     "output_type": "stream",
     "text": [
      "\n"
     ]
    }
   ],
   "source": [
    "audio_file_list = ['/root/.cache/huggingface/datasets/downloads/extracted/767809e2794806f54865259a100b1774ae3de84135396cf5c5fa2a50bd3bcbef/test/1273817225649957097.wav','/root/.cache/huggingface/datasets/downloads/extracted/767809e2794806f54865259a100b1774ae3de84135396cf5c5fa2a50bd3bcbef/test/1394697283561012104.wav']\n",
    "transcriptions = transcribe_audio_files(audio_file_list)\n",
    "print(transcriptions)"
   ]
  },
  {
   "cell_type": "code",
   "execution_count": null,
   "metadata": {},
   "outputs": [],
   "source": [
    "with open('total_dataset_asr_v3.pkl', 'wb') as f:\n",
    "    pickle.dump(total_dataset_v2, f)"
   ]
  },
  {
   "cell_type": "code",
   "execution_count": null,
   "metadata": {},
   "outputs": [],
   "source": [
    "def add_asr_text_common_voice():\n",
    "    with open('total_dataset_asr_v3.pkl', 'rb') as f:\n",
    "        total_dataset_v2 = pickle.load(f)\n",
    "    item_indexes = []\n",
    "    audio_pathes = []\n",
    "    for i, audio_path in enumerate(total_dataset_v2['audio_path']):\n",
    "        if total_dataset_v2['source'][i] != 'fleurs':\n",
    "            continue\n",
    "        item_indexes.append(i)\n",
    "        audio_pathes.append(total_dataset_v2['audio_path'][i])\n",
    "    print(len(item_indexes))\n",
    "    transcriptions = transcribe_audio_files(audio_pathes)\n",
    "    for i, item_index in enumerate(item_indexes):\n",
    "        total_dataset_v2['asr-text'][item_index] = transcriptions[i]\n",
    "    with open('total_dataset_asr_v3.pkl', 'wb') as f:\n",
    "        pickle.dump(total_dataset_v2, f)"
   ]
  },
  {
   "cell_type": "code",
   "execution_count": null,
   "metadata": {},
   "outputs": [
    {
     "name": "stdout",
     "output_type": "stream",
     "text": [
      "647\n"
     ]
    },
    {
     "name": "stderr",
     "output_type": "stream",
     "text": [
      "100%|██████████| 647/647 [02:39<00:00,  4.04it/s]\n"
     ]
    }
   ],
   "source": [
    "add_asr_text_common_voice()"
   ]
  },
  {
   "cell_type": "code",
   "execution_count": null,
   "metadata": {},
   "outputs": [
    {
     "name": "stdout",
     "output_type": "stream",
     "text": [
      "two young women sit on a stone staircase in front of a store shuttered with a decorative iron grate\n",
      "two young women sit on a stone staircase in front of a store shuttered with a decorative iron grate\n",
      "2841\n"
     ]
    }
   ],
   "source": [
    "with open('total_dataset_asr_v3.pkl', 'rb') as f:\n",
    "    total_dataset_v2 = pickle.load(f)\n",
    "c = 0\n",
    "for j, i in enumerate(total_dataset_v2['asr-text']):\n",
    "    if i != '':\n",
    "        if c == 1 :\n",
    "            print(i)\n",
    "            print(total_dataset_v2['pure-text'][j])\n",
    "        c += 1\n",
    "print(c)"
   ]
  },
  {
   "cell_type": "code",
   "execution_count": null,
   "metadata": {},
   "outputs": [
    {
     "data": {
      "text/plain": [
       "dict_keys(['audio', 'image', 'text', 'pure-text', 'audio_path', 'id', 'source', 'asr-text'])"
      ]
     },
     "metadata": {},
     "output_type": "display_data"
    }
   ],
   "source": [
    "total_dataset_v2.keys()"
   ]
  },
  {
   "cell_type": "code",
   "execution_count": null,
   "metadata": {},
   "outputs": [
    {
     "name": "stderr",
     "output_type": "stream",
     "text": [
      "Downloading...\n",
      "From: https://kkb-production.jupyter-proxy.kaggle.net/k/139427160/eyJhbGciOiJkaXIiLCJlbmMiOiJBMTI4Q0JDLUhTMjU2IiwidHlwIjoiSldUIn0..GPPHQYRNvzdQq_kb-qkREQ.HzgmSM8BfyRPRo1SFJujRphEncHC1r3gs5QaT4hinyaoiznna8JR289ZF957iEhvMNRJfAQE0FW79mV6wVwGVnVq5fb-nyRJ_gK8UIlS_zWi2O_jDZ8N6qgayzae8Q-J1uvz9jaBo1bdyKJsh18EJJGzq9faXuqM-uigTY1ybVlDaiXKGq1HGioMK44HKyMfhaMUcuAGX6wIGpKNwUMmjQ.2QQ_AEEggAHc7ppsmvgyXw/proxy/files/total_dataset_asr_v2.pkl\n",
      "To: /kaggle/working/total_dataset_asr_brown.pkl\n",
      "848MB [00:26, 32.2MB/s] \n"
     ]
    },
    {
     "data": {
      "text/plain": [
       "'total_dataset_asr_brown.pkl'"
      ]
     },
     "metadata": {},
     "output_type": "display_data"
    }
   ],
   "source": [
    "url = \"https://kkb-production.jupyter-proxy.kaggle.net/k/139427160/eyJhbGciOiJkaXIiLCJlbmMiOiJBMTI4Q0JDLUhTMjU2IiwidHlwIjoiSldUIn0..GPPHQYRNvzdQq_kb-qkREQ.HzgmSM8BfyRPRo1SFJujRphEncHC1r3gs5QaT4hinyaoiznna8JR289ZF957iEhvMNRJfAQE0FW79mV6wVwGVnVq5fb-nyRJ_gK8UIlS_zWi2O_jDZ8N6qgayzae8Q-J1uvz9jaBo1bdyKJsh18EJJGzq9faXuqM-uigTY1ybVlDaiXKGq1HGioMK44HKyMfhaMUcuAGX6wIGpKNwUMmjQ.2QQ_AEEggAHc7ppsmvgyXw/proxy/files/total_dataset_asr_v2.pkl\"\n",
    "output = \"total_dataset_asr_brown.pkl\"\n",
    "gdown.download(url, output, quiet=False, fuzzy=True)"
   ]
  },
  {
   "cell_type": "code",
   "execution_count": null,
   "metadata": {},
   "outputs": [],
   "source": [
    "with open('total_dataset_asr_brown.pkl', 'rb') as f:\n",
    "    brown_asr = pickle.load(f)"
   ]
  },
  {
   "cell_type": "code",
   "execution_count": null,
   "metadata": {},
   "outputs": [],
   "source": [
    "with open('total_dataset_asr_v3.pkl', 'rb') as f:\n",
    "    total_asr_dataset = pickle.load(f)\n",
    "for j, i in enumerate(total_asr_dataset['source']):\n",
    "    if i == 'brown':\n",
    "        total_asr_dataset['asr-text'][j] = brown_asr['asr-text'][j]"
   ]
  },
  {
   "cell_type": "code",
   "execution_count": null,
   "metadata": {},
   "outputs": [
    {
     "name": "stdout",
     "output_type": "stream",
     "text": [
      "2.\n",
      "2.\n",
      "But!!\n",
      "2.\n",
      "a young arab also loaded down with baggage entered and greeted the englishman\n",
      "2.\n",
      "10.\n",
      "inverted frames are common for several of the lower values\n",
      "We were coming to an intersection , turning right , chuffing to a stop.\n",
      "2.\n",
      "It was General Burnside's horse running in a circle.\n",
      "6.\n",
      "6.\n",
      "6.\n",
      "His statistical record that year , when Texas won only one game and lost nine , was far from impressive : he carried the ball three times for a net gain of 10 yards , punted once for 39 yards and caught one pass for 13 yards .\n",
      "To help prevent orthodontic problems from arising , your dentist can do these things :\n",
      "2.\n",
      "Sec. 7.\n",
      "first impressions are the most lasting\n",
      "C\n",
      "Soon as the Burnsides moved on , he'd lead Rex down by the river ; ;\n",
      "2.\n",
      "We have recourse to the scientifically-trained specialist in the laboratory.\n",
      "A new low capacity meter is the key that unlocks the situation at Oakwood Heights.\n",
      "`` O!!\n",
      "25\n"
     ]
    }
   ],
   "source": [
    "c = 0\n",
    "for j, i in enumerate(total_asr_dataset['asr-text']):\n",
    "    if i == '':\n",
    "        print(total_asr_dataset['pure-text'][j])\n",
    "        c += 1\n",
    "print(c)"
   ]
  },
  {
   "cell_type": "code",
   "execution_count": null,
   "metadata": {},
   "outputs": [],
   "source": [
    "with open('total_dataset_asr_final.pkl', 'wb') as f:\n",
    "    pickle.dump(total_asr_dataset, f)"
   ]
  },
  {
   "cell_type": "markdown",
   "metadata": {},
   "source": [
    "## Extract Labse Embeddings of ASR texts"
   ]
  },
  {
   "cell_type": "code",
   "execution_count": null,
   "metadata": {},
   "outputs": [],
   "source": [
    "with open('total_dataset_asr_final.pkl', 'rb') as f:\n",
    "    total_asr_dataset = pickle.load(f)"
   ]
  },
  {
   "cell_type": "code",
   "execution_count": null,
   "metadata": {},
   "outputs": [],
   "source": [
    "text_model = SentenceTransformer('sentence-transformers/LaBSE').to(device)"
   ]
  },
  {
   "cell_type": "code",
   "execution_count": null,
   "metadata": {},
   "outputs": [],
   "source": [
    "def batch(iterable, n=16):\n",
    "    l = len(iterable)\n",
    "    for ndx in range(0, l, n):\n",
    "        yield iterable[ndx:min(ndx + n, l)]\n",
    "        \n",
    "batch_size = 16\n",
    "total_asr_dataset_v2 = total_asr_dataset.copy()\n",
    "total_asr_dataset_v2['asr-text-embedding'] = []\n",
    "\n",
    "for s in tqdm(batch(total_asr_dataset['asr-text'], batch_size)):\n",
    "    total_asr_dataset_v2['asr-text-embedding'].extend(torch.Tensor(text_model.encode(s)))"
   ]
  },
  {
   "cell_type": "code",
   "execution_count": null,
   "metadata": {},
   "outputs": [
    {
     "data": {
      "text/plain": [
       "11411"
      ]
     },
     "metadata": {},
     "output_type": "display_data"
    }
   ],
   "source": [
    "len(total_asr_dataset_v2['asr-text-embedding'])"
   ]
  },
  {
   "cell_type": "code",
   "execution_count": null,
   "metadata": {},
   "outputs": [
    {
     "data": {
      "text/plain": [
       "11411"
      ]
     },
     "metadata": {},
     "output_type": "display_data"
    }
   ],
   "source": [
    "len(total_asr_dataset_v2['text'])"
   ]
  },
  {
   "cell_type": "code",
   "execution_count": null,
   "metadata": {},
   "outputs": [],
   "source": [
    "with open('total_dataset_asr_final_v2.pkl', 'wb') as f:\n",
    "    pickle.dump(total_asr_dataset_v2, f)"
   ]
  },
  {
   "cell_type": "code",
   "execution_count": null,
   "metadata": {},
   "outputs": [
    {
     "data": {
      "text/html": [
       "<a href='total_dataset_asr_final_v2.pkl' target='_blank'>total_dataset_asr_final_v2.pkl</a><br>"
      ],
      "text/plain": [
       "/kaggle/working/total_dataset_asr_final_v2.pkl"
      ]
     },
     "metadata": {},
     "output_type": "display_data"
    }
   ],
   "source": [
    "FileLink('total_dataset_asr_final_v2.pkl')"
   ]
  },
  {
   "cell_type": "markdown",
   "metadata": {},
   "source": [
    "# Hubert ASR Transcript\n"
   ]
  },
  {
   "cell_type": "markdown",
   "metadata": {},
   "source": [
    "## Brown"
   ]
  },
  {
   "cell_type": "code",
   "execution_count": null,
   "metadata": {
    "trusted": true
   },
   "outputs": [],
   "source": [
    "## Hubert ASR\n",
    "from transformers import AutoProcessor, HubertForCTC\n",
    "import soundfile as sf\n",
    "\n",
    "hubert_processor = AutoProcessor.from_pretrained(\"facebook/hubert-large-ls960-ft\")\n",
    "hubert_model = HubertForCTC.from_pretrained(\"facebook/hubert-large-ls960-ft\").to(device)\n"
   ]
  },
  {
   "cell_type": "code",
   "execution_count": null,
   "metadata": {
    "execution": {
     "iopub.execute_input": "2023-10-09T10:31:13.446789Z",
     "iopub.status.busy": "2023-10-09T10:31:13.446340Z",
     "iopub.status.idle": "2023-10-09T10:31:13.454446Z",
     "shell.execute_reply": "2023-10-09T10:31:13.453479Z",
     "shell.execute_reply.started": "2023-10-09T10:31:13.446748Z"
    },
    "trusted": true
   },
   "outputs": [],
   "source": [
    "def asr_hubert_audio_files(audio_file_list):\n",
    "    transcriptions = []\n",
    "#     audio_raws = []\n",
    "    for file_path in tqdm(audio_file_list):\n",
    "        # Use soundfile to read the audio file\n",
    "        data, samplerate = sf.read(file_path)\n",
    "        # Normalize the audio data\n",
    "        data = data / np.max(np.abs(data))\n",
    "        # Resample the audio to 16kHz\n",
    "        data = librosa.resample(data, orig_sr=samplerate, target_sr=16000)\n",
    "        # Convert the audio data to PyTorch tensor\n",
    "        audio = torch.from_numpy(data)\n",
    "        # Process the audio data with Hubert processor\n",
    "        inputs = hubert_processor(audio, sampling_rate=16000, return_tensors=\"pt\").to(device)\n",
    "        # Get the embeddings from Hubert model\n",
    "        with torch.no_grad():\n",
    "            logits = hubert_model(**inputs).logits\n",
    "            predicted_ids = torch.argmax(logits, dim=-1)\n",
    "\n",
    "            transcription = hubert_processor.batch_decode(predicted_ids)[0]\n",
    "            transcriptions.append(transcription.lower())\n",
    "#             audio_raws.append(audio)\n",
    "    return transcriptions"
   ]
  },
  {
   "cell_type": "code",
   "execution_count": null,
   "metadata": {
    "execution": {
     "iopub.execute_input": "2023-10-09T10:34:49.968560Z",
     "iopub.status.busy": "2023-10-09T10:34:49.967628Z",
     "iopub.status.idle": "2023-10-09T10:34:49.976153Z",
     "shell.execute_reply": "2023-10-09T10:34:49.975189Z",
     "shell.execute_reply.started": "2023-10-09T10:34:49.968513Z"
    },
    "trusted": true
   },
   "outputs": [],
   "source": [
    "def add_for_part_hubert_asr(part_id):\n",
    "    with open('total_dataset_hubert_asr.pkl', 'rb') as f:\n",
    "        total_dataset_v2 = pickle.load(f)\n",
    "    with open('total_dataset_hubert_asr_backup.pkl', 'wb') as f:\n",
    "        pickle.dump(total_dataset_v2, f)\n",
    "    item_indexes = []\n",
    "    audio_pathes = []\n",
    "    for i, audio_path in enumerate(total_dataset_v2['audio_path']):\n",
    "        if total_dataset_v2['source'][i] != 'brown':\n",
    "            continue\n",
    "        if f'/part{part_id}/' in audio_path:\n",
    "            item_indexes.append(i)\n",
    "            audio_pathes.append(f'dataset_part{part_id}/audios/' + audio_path.split('/')[-1])\n",
    "    print(len(item_indexes))\n",
    "    transcriptions = asr_hubert_audio_files(audio_pathes)\n",
    "    for i, item_index in enumerate(item_indexes):\n",
    "        total_dataset_v2['hubert-asr-text'][item_index] = transcriptions[i]\n",
    "#         total_dataset_v2['audio-raw'][item_index] = audio_raws[i]\n",
    "    with open('total_dataset_hubert_asr.pkl', 'wb') as f:\n",
    "        pickle.dump(total_dataset_v2, f)\n",
    "    with open('part_id.txt', 'w') as f:\n",
    "        f.write(str(part_id))"
   ]
  },
  {
   "cell_type": "code",
   "execution_count": null,
   "metadata": {
    "execution": {
     "iopub.execute_input": "2023-10-10T16:03:04.706815Z",
     "iopub.status.busy": "2023-10-10T16:03:04.706415Z",
     "iopub.status.idle": "2023-10-10T16:03:04.712528Z",
     "shell.execute_reply": "2023-10-10T16:03:04.711575Z",
     "shell.execute_reply.started": "2023-10-10T16:03:04.706784Z"
    },
    "trusted": true
   },
   "outputs": [],
   "source": [
    "def download_data_part(url, output):\n",
    "    gdown.download(url, output, quiet=False, fuzzy=True)\n",
    "    with ZipFile(output, 'r') as zip_ref:\n",
    "        zip_ref.extractall(output.split('.')[0])\n",
    "    os.remove(output)"
   ]
  },
  {
   "cell_type": "code",
   "execution_count": null,
   "metadata": {
    "execution": {
     "iopub.execute_input": "2023-10-09T09:55:03.111065Z",
     "iopub.status.busy": "2023-10-09T09:55:03.110048Z",
     "iopub.status.idle": "2023-10-09T09:55:19.858634Z",
     "shell.execute_reply": "2023-10-09T09:55:19.857749Z",
     "shell.execute_reply.started": "2023-10-09T09:55:03.111018Z"
    },
    "trusted": true
   },
   "outputs": [],
   "source": [
    "url = \"https://drive.google.com/file/d/1-3FIKAyT_5coJqRUvPEsW_NCAbqVZNo1/view?usp=sharing\"\n",
    "output = \"total_dataset_hubert_final.pkl\"\n",
    "gdown.download(url, output, quiet=False, fuzzy=True)"
   ]
  },
  {
   "cell_type": "code",
   "execution_count": null,
   "metadata": {
    "trusted": true
   },
   "outputs": [],
   "source": [
    "download_data_part('https://drive.google.com/file/d/1GkXhLbzHrobM4GaGX80PzRHl-TBPg8h4/view?usp=drive_link','dataset_part1.zip')"
   ]
  },
  {
   "cell_type": "code",
   "execution_count": null,
   "metadata": {
    "execution": {
     "iopub.execute_input": "2023-10-09T09:56:31.161477Z",
     "iopub.status.busy": "2023-10-09T09:56:31.157903Z",
     "iopub.status.idle": "2023-10-09T09:56:44.738556Z",
     "shell.execute_reply": "2023-10-09T09:56:44.737503Z",
     "shell.execute_reply.started": "2023-10-09T09:56:31.161433Z"
    },
    "trusted": true
   },
   "outputs": [],
   "source": [
    "with open(f'total_dataset_hubert_final.pkl', 'rb') as f:\n",
    "    total_dataset_hubert_final = pickle.load(f)"
   ]
  },
  {
   "cell_type": "code",
   "execution_count": null,
   "metadata": {
    "execution": {
     "iopub.execute_input": "2023-10-09T09:58:15.202242Z",
     "iopub.status.busy": "2023-10-09T09:58:15.201906Z",
     "iopub.status.idle": "2023-10-09T09:58:15.208627Z",
     "shell.execute_reply": "2023-10-09T09:58:15.207626Z",
     "shell.execute_reply.started": "2023-10-09T09:58:15.202215Z"
    },
    "trusted": true
   },
   "outputs": [],
   "source": [
    "total_dataset_hubert_final.keys()"
   ]
  },
  {
   "cell_type": "code",
   "execution_count": null,
   "metadata": {
    "execution": {
     "iopub.execute_input": "2023-10-09T09:58:34.663923Z",
     "iopub.status.busy": "2023-10-09T09:58:34.663559Z",
     "iopub.status.idle": "2023-10-09T09:58:34.668863Z",
     "shell.execute_reply": "2023-10-09T09:58:34.667901Z",
     "shell.execute_reply.started": "2023-10-09T09:58:34.663892Z"
    },
    "trusted": true
   },
   "outputs": [],
   "source": [
    "total_dataset_hubert_final['hubert-asr-text'] = ['' for i in range(len(total_dataset_hubert_final['pure-text']))]"
   ]
  },
  {
   "cell_type": "code",
   "execution_count": null,
   "metadata": {
    "execution": {
     "iopub.execute_input": "2023-10-09T09:59:15.843784Z",
     "iopub.status.busy": "2023-10-09T09:59:15.843385Z",
     "iopub.status.idle": "2023-10-09T09:59:15.848873Z",
     "shell.execute_reply": "2023-10-09T09:59:15.847942Z",
     "shell.execute_reply.started": "2023-10-09T09:59:15.843748Z"
    },
    "trusted": true
   },
   "outputs": [],
   "source": [
    "total_dataset_hubert_final['audio-raw'] = ['' for i in range(len(total_dataset_hubert_final['audio']))]"
   ]
  },
  {
   "cell_type": "code",
   "execution_count": null,
   "metadata": {
    "execution": {
     "iopub.execute_input": "2023-10-09T10:00:22.950490Z",
     "iopub.status.busy": "2023-10-09T10:00:22.950141Z",
     "iopub.status.idle": "2023-10-09T10:00:30.200546Z",
     "shell.execute_reply": "2023-10-09T10:00:30.199519Z",
     "shell.execute_reply.started": "2023-10-09T10:00:22.950461Z"
    },
    "trusted": true
   },
   "outputs": [],
   "source": [
    "with open('total_dataset_hubert_asr.pkl', 'wb') as f:\n",
    "    pickle.dump(total_dataset_hubert_final, f)"
   ]
  },
  {
   "cell_type": "code",
   "execution_count": null,
   "metadata": {
    "execution": {
     "iopub.execute_input": "2023-10-09T10:01:15.670554Z",
     "iopub.status.busy": "2023-10-09T10:01:15.670207Z",
     "iopub.status.idle": "2023-10-09T10:01:15.695420Z",
     "shell.execute_reply": "2023-10-09T10:01:15.694578Z",
     "shell.execute_reply.started": "2023-10-09T10:01:15.670524Z"
    },
    "trusted": true
   },
   "outputs": [],
   "source": [
    "os.remove('total_dataset_hubert_v2_backup.pkl')"
   ]
  },
  {
   "cell_type": "code",
   "execution_count": null,
   "metadata": {
    "execution": {
     "iopub.execute_input": "2023-10-09T10:02:55.150867Z",
     "iopub.status.busy": "2023-10-09T10:02:55.150174Z",
     "iopub.status.idle": "2023-10-09T10:04:41.998151Z",
     "shell.execute_reply": "2023-10-09T10:04:41.992512Z",
     "shell.execute_reply.started": "2023-10-09T10:02:55.150825Z"
    },
    "trusted": true
   },
   "outputs": [],
   "source": [
    "add_for_part_hubert_asr(1)"
   ]
  },
  {
   "cell_type": "code",
   "execution_count": null,
   "metadata": {
    "execution": {
     "iopub.execute_input": "2023-10-09T10:07:36.037709Z",
     "iopub.status.busy": "2023-10-09T10:07:36.036640Z",
     "iopub.status.idle": "2023-10-09T10:07:52.824552Z",
     "shell.execute_reply": "2023-10-09T10:07:52.823350Z",
     "shell.execute_reply.started": "2023-10-09T10:07:36.037673Z"
    },
    "trusted": true
   },
   "outputs": [],
   "source": [
    "with open('total_dataset_hubert_asr.pkl', 'rb') as f:\n",
    "    total_dataset_v2 = pickle.load(f)\n",
    "c = 0\n",
    "for j, i in enumerate(total_dataset_v2['hubert-asr-text']):\n",
    "    if i != '' and total_dataset_v2['source'][j] == 'brown':\n",
    "        if c < 2 :\n",
    "            print(i)\n",
    "            print(total_dataset_v2['pure-text'][j])\n",
    "        c += 1\n",
    "print(c)"
   ]
  },
  {
   "cell_type": "code",
   "execution_count": null,
   "metadata": {
    "execution": {
     "iopub.execute_input": "2023-10-09T10:11:41.409575Z",
     "iopub.status.busy": "2023-10-09T10:11:41.409247Z",
     "iopub.status.idle": "2023-10-09T10:12:43.186822Z",
     "shell.execute_reply": "2023-10-09T10:12:43.185790Z",
     "shell.execute_reply.started": "2023-10-09T10:11:41.409544Z"
    },
    "trusted": true
   },
   "outputs": [],
   "source": [
    "# part 2\n",
    "download_data_part('https://drive.google.com/file/d/1n_xxsblXrw5tCVk7ZP6_kRtubjMOuC2l/view?usp=drive_link','dataset_part2.zip')"
   ]
  },
  {
   "cell_type": "code",
   "execution_count": null,
   "metadata": {
    "execution": {
     "iopub.execute_input": "2023-10-09T10:12:43.199709Z",
     "iopub.status.busy": "2023-10-09T10:12:43.196601Z",
     "iopub.status.idle": "2023-10-09T10:14:43.481226Z",
     "shell.execute_reply": "2023-10-09T10:14:43.474609Z",
     "shell.execute_reply.started": "2023-10-09T10:12:43.199661Z"
    },
    "trusted": true
   },
   "outputs": [],
   "source": [
    "add_for_part_hubert_asr(2)"
   ]
  },
  {
   "cell_type": "code",
   "execution_count": null,
   "metadata": {
    "execution": {
     "iopub.execute_input": "2023-10-09T10:14:43.534622Z",
     "iopub.status.busy": "2023-10-09T10:14:43.529057Z",
     "iopub.status.idle": "2023-10-09T10:14:44.382981Z",
     "shell.execute_reply": "2023-10-09T10:14:44.381772Z",
     "shell.execute_reply.started": "2023-10-09T10:14:43.534532Z"
    },
    "trusted": true
   },
   "outputs": [],
   "source": [
    "from shutil import rmtree\n",
    "rmtree('dataset_part1')\n",
    "rmtree('dataset_part2')"
   ]
  },
  {
   "cell_type": "code",
   "execution_count": null,
   "metadata": {
    "execution": {
     "iopub.execute_input": "2023-10-09T10:14:44.384931Z",
     "iopub.status.busy": "2023-10-09T10:14:44.384515Z",
     "iopub.status.idle": "2023-10-09T10:15:51.038064Z",
     "shell.execute_reply": "2023-10-09T10:15:51.036962Z",
     "shell.execute_reply.started": "2023-10-09T10:14:44.384892Z"
    },
    "trusted": true
   },
   "outputs": [],
   "source": [
    "# part 3\n",
    "download_data_part('https://drive.google.com/file/d/14-Tvd3jvgY2Ge5-cxOsX7Arx6esfUxeN/view?usp=drive_link','dataset_part3.zip')"
   ]
  },
  {
   "cell_type": "code",
   "execution_count": null,
   "metadata": {
    "execution": {
     "iopub.execute_input": "2023-10-09T10:58:36.438768Z",
     "iopub.status.busy": "2023-10-09T10:58:36.438299Z",
     "iopub.status.idle": "2023-10-09T10:58:36.447851Z",
     "shell.execute_reply": "2023-10-09T10:58:36.446985Z",
     "shell.execute_reply.started": "2023-10-09T10:58:36.438707Z"
    },
    "trusted": true
   },
   "outputs": [],
   "source": [
    "#read part_id \n",
    "with open('part_id.txt', 'r') as f:\n",
    "    part_id = f.read()\n",
    "part_id"
   ]
  },
  {
   "cell_type": "code",
   "execution_count": null,
   "metadata": {
    "execution": {
     "iopub.execute_input": "2023-10-09T10:29:22.286940Z",
     "iopub.status.busy": "2023-10-09T10:29:22.286340Z",
     "iopub.status.idle": "2023-10-09T10:29:44.719223Z",
     "shell.execute_reply": "2023-10-09T10:29:44.718140Z",
     "shell.execute_reply.started": "2023-10-09T10:29:22.286902Z"
    },
    "trusted": true
   },
   "outputs": [],
   "source": [
    "with open('total_dataset_hubert_asr_backup.pkl', 'rb') as f:                                  \n",
    "    total_dataset_v2 = pickle.load(f)  "
   ]
  },
  {
   "cell_type": "code",
   "execution_count": null,
   "metadata": {
    "execution": {
     "iopub.execute_input": "2023-10-09T10:33:21.251184Z",
     "iopub.status.busy": "2023-10-09T10:33:21.250588Z",
     "iopub.status.idle": "2023-10-09T10:33:21.262901Z",
     "shell.execute_reply": "2023-10-09T10:33:21.261247Z",
     "shell.execute_reply.started": "2023-10-09T10:33:21.251139Z"
    },
    "trusted": true
   },
   "outputs": [],
   "source": [
    "total_dataset_v2.keys()"
   ]
  },
  {
   "cell_type": "code",
   "execution_count": null,
   "metadata": {
    "execution": {
     "iopub.execute_input": "2023-10-09T10:34:08.366699Z",
     "iopub.status.busy": "2023-10-09T10:34:08.366309Z",
     "iopub.status.idle": "2023-10-09T10:34:08.377511Z",
     "shell.execute_reply": "2023-10-09T10:34:08.376449Z",
     "shell.execute_reply.started": "2023-10-09T10:34:08.366667Z"
    },
    "trusted": true
   },
   "outputs": [],
   "source": [
    "del total_dataset_v2[\"audio-raw\"]"
   ]
  },
  {
   "cell_type": "code",
   "execution_count": null,
   "metadata": {
    "execution": {
     "iopub.execute_input": "2023-10-09T10:34:14.094389Z",
     "iopub.status.busy": "2023-10-09T10:34:14.094028Z",
     "iopub.status.idle": "2023-10-09T10:34:14.100660Z",
     "shell.execute_reply": "2023-10-09T10:34:14.099755Z",
     "shell.execute_reply.started": "2023-10-09T10:34:14.094360Z"
    },
    "trusted": true
   },
   "outputs": [],
   "source": [
    "total_dataset_v2.keys()"
   ]
  },
  {
   "cell_type": "code",
   "execution_count": null,
   "metadata": {
    "execution": {
     "iopub.execute_input": "2023-10-09T10:34:22.759543Z",
     "iopub.status.busy": "2023-10-09T10:34:22.759169Z",
     "iopub.status.idle": "2023-10-09T10:34:23.209657Z",
     "shell.execute_reply": "2023-10-09T10:34:23.208479Z",
     "shell.execute_reply.started": "2023-10-09T10:34:22.759513Z"
    },
    "trusted": true
   },
   "outputs": [],
   "source": [
    "gc.collect()"
   ]
  },
  {
   "cell_type": "code",
   "execution_count": null,
   "metadata": {
    "execution": {
     "iopub.execute_input": "2023-10-09T10:34:26.894368Z",
     "iopub.status.busy": "2023-10-09T10:34:26.894006Z",
     "iopub.status.idle": "2023-10-09T10:34:34.974081Z",
     "shell.execute_reply": "2023-10-09T10:34:34.972554Z",
     "shell.execute_reply.started": "2023-10-09T10:34:26.894340Z"
    },
    "trusted": true
   },
   "outputs": [],
   "source": [
    "with open('total_dataset_hubert_asr.pkl', 'wb') as f:\n",
    "    pickle.dump(total_dataset_v2, f)"
   ]
  },
  {
   "cell_type": "code",
   "execution_count": null,
   "metadata": {
    "execution": {
     "iopub.execute_input": "2023-10-09T10:34:58.298680Z",
     "iopub.status.busy": "2023-10-09T10:34:58.297949Z",
     "iopub.status.idle": "2023-10-09T10:36:30.252399Z",
     "shell.execute_reply": "2023-10-09T10:36:30.251268Z",
     "shell.execute_reply.started": "2023-10-09T10:34:58.298643Z"
    },
    "trusted": true
   },
   "outputs": [],
   "source": [
    "add_for_part_hubert_asr(3)"
   ]
  },
  {
   "cell_type": "code",
   "execution_count": null,
   "metadata": {
    "execution": {
     "iopub.execute_input": "2023-10-09T10:36:30.266509Z",
     "iopub.status.busy": "2023-10-09T10:36:30.264739Z",
     "iopub.status.idle": "2023-10-09T10:36:30.573261Z",
     "shell.execute_reply": "2023-10-09T10:36:30.572013Z",
     "shell.execute_reply.started": "2023-10-09T10:36:30.266460Z"
    },
    "trusted": true
   },
   "outputs": [],
   "source": [
    "rmtree('dataset_part3')"
   ]
  },
  {
   "cell_type": "code",
   "execution_count": null,
   "metadata": {
    "execution": {
     "iopub.execute_input": "2023-10-09T10:36:30.577021Z",
     "iopub.status.busy": "2023-10-09T10:36:30.575966Z",
     "iopub.status.idle": "2023-10-09T10:37:36.850475Z",
     "shell.execute_reply": "2023-10-09T10:37:36.849368Z",
     "shell.execute_reply.started": "2023-10-09T10:36:30.576975Z"
    },
    "trusted": true
   },
   "outputs": [],
   "source": [
    "# part 4\n",
    "download_data_part('https://drive.google.com/file/d/1fId6jAxD5UzObg4zu30GPpcP-P9F7TSL/view?usp=drive_link','dataset_part4.zip')"
   ]
  },
  {
   "cell_type": "code",
   "execution_count": null,
   "metadata": {
    "execution": {
     "iopub.execute_input": "2023-10-09T10:37:36.854034Z",
     "iopub.status.busy": "2023-10-09T10:37:36.853356Z",
     "iopub.status.idle": "2023-10-09T10:39:16.148714Z",
     "shell.execute_reply": "2023-10-09T10:39:16.147626Z",
     "shell.execute_reply.started": "2023-10-09T10:37:36.853995Z"
    },
    "trusted": true
   },
   "outputs": [],
   "source": [
    "add_for_part_hubert_asr(4)"
   ]
  },
  {
   "cell_type": "code",
   "execution_count": null,
   "metadata": {
    "execution": {
     "iopub.execute_input": "2023-10-09T10:39:16.164246Z",
     "iopub.status.busy": "2023-10-09T10:39:16.162052Z",
     "iopub.status.idle": "2023-10-09T10:40:28.117481Z",
     "shell.execute_reply": "2023-10-09T10:40:28.116217Z",
     "shell.execute_reply.started": "2023-10-09T10:39:16.164206Z"
    },
    "trusted": true
   },
   "outputs": [],
   "source": [
    "# part 5\n",
    "download_data_part('https://drive.google.com/file/d/1VssFVfqgnXy7JpgUKpTWEVg11bqYK2bn/view?usp=drive_link','dataset_part5.zip')"
   ]
  },
  {
   "cell_type": "code",
   "execution_count": null,
   "metadata": {
    "execution": {
     "iopub.execute_input": "2023-10-09T10:40:28.119765Z",
     "iopub.status.busy": "2023-10-09T10:40:28.119140Z",
     "iopub.status.idle": "2023-10-09T10:42:06.700649Z",
     "shell.execute_reply": "2023-10-09T10:42:06.699532Z",
     "shell.execute_reply.started": "2023-10-09T10:40:28.119706Z"
    },
    "trusted": true
   },
   "outputs": [],
   "source": [
    "add_for_part_hubert_asr(5)"
   ]
  },
  {
   "cell_type": "code",
   "execution_count": null,
   "metadata": {
    "execution": {
     "iopub.execute_input": "2023-10-09T10:42:06.712915Z",
     "iopub.status.busy": "2023-10-09T10:42:06.712603Z",
     "iopub.status.idle": "2023-10-09T10:42:07.270148Z",
     "shell.execute_reply": "2023-10-09T10:42:07.268916Z",
     "shell.execute_reply.started": "2023-10-09T10:42:06.712887Z"
    },
    "trusted": true
   },
   "outputs": [],
   "source": [
    "from shutil import rmtree\n",
    "rmtree('dataset_part4')\n",
    "rmtree('dataset_part5')"
   ]
  },
  {
   "cell_type": "code",
   "execution_count": null,
   "metadata": {
    "execution": {
     "iopub.execute_input": "2023-10-09T10:42:07.271846Z",
     "iopub.status.busy": "2023-10-09T10:42:07.271461Z",
     "iopub.status.idle": "2023-10-09T10:43:25.074801Z",
     "shell.execute_reply": "2023-10-09T10:43:25.073510Z",
     "shell.execute_reply.started": "2023-10-09T10:42:07.271803Z"
    },
    "trusted": true
   },
   "outputs": [],
   "source": [
    "# part 6\n",
    "download_data_part('https://drive.google.com/file/d/11vhiU4lV8w3IYTXebTDr-9j7834ig6OU/view?usp=drive_link','dataset_part6.zip')"
   ]
  },
  {
   "cell_type": "code",
   "execution_count": null,
   "metadata": {
    "execution": {
     "iopub.execute_input": "2023-10-09T10:43:25.076891Z",
     "iopub.status.busy": "2023-10-09T10:43:25.076552Z",
     "iopub.status.idle": "2023-10-09T10:45:06.644408Z",
     "shell.execute_reply": "2023-10-09T10:45:06.643222Z",
     "shell.execute_reply.started": "2023-10-09T10:43:25.076865Z"
    },
    "trusted": true
   },
   "outputs": [],
   "source": [
    "add_for_part_hubert_asr(6)"
   ]
  },
  {
   "cell_type": "code",
   "execution_count": null,
   "metadata": {
    "execution": {
     "iopub.execute_input": "2023-10-09T10:45:06.658134Z",
     "iopub.status.busy": "2023-10-09T10:45:06.657839Z",
     "iopub.status.idle": "2023-10-09T10:46:12.442186Z",
     "shell.execute_reply": "2023-10-09T10:46:12.441037Z",
     "shell.execute_reply.started": "2023-10-09T10:45:06.658107Z"
    },
    "trusted": true
   },
   "outputs": [],
   "source": [
    "# part 7\n",
    "download_data_part('https://drive.google.com/file/d/1FbPz9VnDgU9Bj7sxtxOb7Etx1_dnobmH/view?usp=drive_link','dataset_part7.zip')"
   ]
  },
  {
   "cell_type": "code",
   "execution_count": null,
   "metadata": {
    "execution": {
     "iopub.execute_input": "2023-10-09T10:46:12.444369Z",
     "iopub.status.busy": "2023-10-09T10:46:12.443989Z"
    },
    "trusted": true
   },
   "outputs": [],
   "source": [
    "add_for_part_hubert_asr(7)"
   ]
  },
  {
   "cell_type": "code",
   "execution_count": null,
   "metadata": {
    "execution": {
     "iopub.execute_input": "2023-10-09T10:59:20.686329Z",
     "iopub.status.busy": "2023-10-09T10:59:20.685939Z",
     "iopub.status.idle": "2023-10-09T10:59:21.222261Z",
     "shell.execute_reply": "2023-10-09T10:59:21.221148Z",
     "shell.execute_reply.started": "2023-10-09T10:59:20.686299Z"
    },
    "trusted": true
   },
   "outputs": [],
   "source": [
    "rmtree('dataset_part6')\n",
    "rmtree('dataset_part7')"
   ]
  },
  {
   "cell_type": "code",
   "execution_count": null,
   "metadata": {
    "execution": {
     "iopub.execute_input": "2023-10-09T10:59:25.251583Z",
     "iopub.status.busy": "2023-10-09T10:59:25.251215Z",
     "iopub.status.idle": "2023-10-09T11:00:13.045270Z",
     "shell.execute_reply": "2023-10-09T11:00:13.043939Z",
     "shell.execute_reply.started": "2023-10-09T10:59:25.251550Z"
    },
    "trusted": true
   },
   "outputs": [],
   "source": [
    "# part 8\n",
    "download_data_part('https://drive.google.com/file/d/1E_UWK88hWwhwKI8kiND3OCtdo3tnlOu5/view?usp=drive_link','dataset_part8.zip')"
   ]
  },
  {
   "cell_type": "code",
   "execution_count": null,
   "metadata": {
    "execution": {
     "iopub.execute_input": "2023-10-09T11:00:13.048174Z",
     "iopub.status.busy": "2023-10-09T11:00:13.047553Z",
     "iopub.status.idle": "2023-10-09T11:01:32.260688Z",
     "shell.execute_reply": "2023-10-09T11:01:32.259598Z",
     "shell.execute_reply.started": "2023-10-09T11:00:13.048136Z"
    },
    "trusted": true
   },
   "outputs": [],
   "source": [
    "add_for_part_hubert_asr(8)"
   ]
  },
  {
   "cell_type": "code",
   "execution_count": null,
   "metadata": {
    "execution": {
     "iopub.execute_input": "2023-10-09T11:01:32.274478Z",
     "iopub.status.busy": "2023-10-09T11:01:32.274158Z",
     "iopub.status.idle": "2023-10-09T11:02:11.547180Z",
     "shell.execute_reply": "2023-10-09T11:02:11.546091Z",
     "shell.execute_reply.started": "2023-10-09T11:01:32.274450Z"
    },
    "trusted": true
   },
   "outputs": [],
   "source": [
    "# part 9\n",
    "download_data_part('https://drive.google.com/file/d/17PC8U5HYQ8r9wGlpQoeptjMyA7rK6PrZ/view?usp=drive_link','dataset_part9.zip')"
   ]
  },
  {
   "cell_type": "code",
   "execution_count": null,
   "metadata": {
    "execution": {
     "iopub.execute_input": "2023-10-09T11:02:11.550692Z",
     "iopub.status.busy": "2023-10-09T11:02:11.549753Z",
     "iopub.status.idle": "2023-10-09T11:03:32.863888Z",
     "shell.execute_reply": "2023-10-09T11:03:32.862767Z",
     "shell.execute_reply.started": "2023-10-09T11:02:11.550655Z"
    },
    "trusted": true
   },
   "outputs": [],
   "source": [
    "add_for_part_hubert_asr(9)"
   ]
  },
  {
   "cell_type": "code",
   "execution_count": null,
   "metadata": {
    "execution": {
     "iopub.execute_input": "2023-10-09T11:03:32.875669Z",
     "iopub.status.busy": "2023-10-09T11:03:32.875330Z",
     "iopub.status.idle": "2023-10-09T11:03:33.383496Z",
     "shell.execute_reply": "2023-10-09T11:03:33.382321Z",
     "shell.execute_reply.started": "2023-10-09T11:03:32.875640Z"
    },
    "trusted": true
   },
   "outputs": [],
   "source": [
    "rmtree('dataset_part8')\n",
    "rmtree('dataset_part9')"
   ]
  },
  {
   "cell_type": "code",
   "execution_count": null,
   "metadata": {
    "execution": {
     "iopub.execute_input": "2023-10-09T11:03:33.385949Z",
     "iopub.status.busy": "2023-10-09T11:03:33.385200Z",
     "iopub.status.idle": "2023-10-09T11:04:50.949464Z",
     "shell.execute_reply": "2023-10-09T11:04:50.948344Z",
     "shell.execute_reply.started": "2023-10-09T11:03:33.385905Z"
    },
    "trusted": true
   },
   "outputs": [],
   "source": [
    "# part 10\n",
    "download_data_part('https://drive.google.com/file/d/1TQI49qhcDKSX0222sAQxDsQZVbZnjlBP/view?usp=drive_link','dataset_part10.zip')"
   ]
  },
  {
   "cell_type": "code",
   "execution_count": null,
   "metadata": {
    "execution": {
     "iopub.execute_input": "2023-10-09T11:04:50.951956Z",
     "iopub.status.busy": "2023-10-09T11:04:50.951572Z",
     "iopub.status.idle": "2023-10-09T11:06:12.724937Z",
     "shell.execute_reply": "2023-10-09T11:06:12.723782Z",
     "shell.execute_reply.started": "2023-10-09T11:04:50.951921Z"
    },
    "trusted": true
   },
   "outputs": [],
   "source": [
    "add_for_part_hubert_asr(10)"
   ]
  },
  {
   "cell_type": "code",
   "execution_count": null,
   "metadata": {
    "execution": {
     "iopub.execute_input": "2023-10-09T11:12:44.882277Z",
     "iopub.status.busy": "2023-10-09T11:12:44.881871Z",
     "iopub.status.idle": "2023-10-09T11:12:50.809983Z",
     "shell.execute_reply": "2023-10-09T11:12:50.808944Z",
     "shell.execute_reply.started": "2023-10-09T11:12:44.882246Z"
    },
    "trusted": true
   },
   "outputs": [],
   "source": [
    "with open('total_dataset_hubert_asr.pkl', 'rb') as f:\n",
    "    total_dataset_v2 = pickle.load(f)\n",
    "c = 0\n",
    "for j, i in enumerate(total_dataset_v2['hubert-asr-text']):\n",
    "    if i != '' and total_dataset_v2['source'][j] == 'brown':\n",
    "        if c < 2 :\n",
    "            print(total_dataset_v2['pure-text'][j])\n",
    "            print(total_dataset_v2['hubert-asr-text'][j])\n",
    "        c += 1\n",
    "print(c)"
   ]
  },
  {
   "cell_type": "code",
   "execution_count": null,
   "metadata": {
    "execution": {
     "iopub.execute_input": "2023-10-09T11:12:50.821419Z",
     "iopub.status.busy": "2023-10-09T11:12:50.821132Z",
     "iopub.status.idle": "2023-10-09T11:12:56.387131Z",
     "shell.execute_reply": "2023-10-09T11:12:56.386084Z",
     "shell.execute_reply.started": "2023-10-09T11:12:50.821394Z"
    },
    "trusted": true
   },
   "outputs": [],
   "source": [
    "with open('total_dataset_hubert_asr.pkl', 'rb') as f:\n",
    "    total_dataset_v2 = pickle.load(f)\n",
    "c = 0\n",
    "for j, i in enumerate(total_dataset_v2['hubert-asr-text']):\n",
    "    if i == '' and total_dataset_v2['source'][j] == 'brown':\n",
    "        c += 1\n",
    "print(c)"
   ]
  },
  {
   "cell_type": "code",
   "execution_count": null,
   "metadata": {
    "execution": {
     "iopub.execute_input": "2023-10-09T11:14:48.412946Z",
     "iopub.status.busy": "2023-10-09T11:14:48.412514Z",
     "iopub.status.idle": "2023-10-09T11:14:48.658072Z",
     "shell.execute_reply": "2023-10-09T11:14:48.657001Z",
     "shell.execute_reply.started": "2023-10-09T11:14:48.412917Z"
    },
    "trusted": true
   },
   "outputs": [],
   "source": [
    "rmtree('dataset_part10')"
   ]
  },
  {
   "cell_type": "code",
   "execution_count": null,
   "metadata": {
    "execution": {
     "iopub.execute_input": "2023-10-09T11:15:08.550053Z",
     "iopub.status.busy": "2023-10-09T11:15:08.549659Z",
     "iopub.status.idle": "2023-10-09T11:15:08.557669Z",
     "shell.execute_reply": "2023-10-09T11:15:08.556558Z",
     "shell.execute_reply.started": "2023-10-09T11:15:08.550025Z"
    },
    "trusted": true
   },
   "outputs": [],
   "source": [
    "FileLink('total_dataset_hubert_asr.pkl')"
   ]
  },
  {
   "cell_type": "code",
   "execution_count": null,
   "metadata": {
    "execution": {
     "iopub.execute_input": "2023-10-09T11:17:34.520657Z",
     "iopub.status.busy": "2023-10-09T11:17:34.520211Z",
     "iopub.status.idle": "2023-10-09T11:17:40.379640Z",
     "shell.execute_reply": "2023-10-09T11:17:40.378543Z",
     "shell.execute_reply.started": "2023-10-09T11:17:34.520627Z"
    },
    "trusted": true
   },
   "outputs": [],
   "source": [
    "with open('total_dataset_hubert_asr.pkl', 'rb') as f:\n",
    "    total_dataset_v2 = pickle.load(f)"
   ]
  },
  {
   "cell_type": "code",
   "execution_count": null,
   "metadata": {
    "execution": {
     "iopub.execute_input": "2023-10-09T11:17:40.406004Z",
     "iopub.status.busy": "2023-10-09T11:17:40.405669Z",
     "iopub.status.idle": "2023-10-09T11:17:40.411979Z",
     "shell.execute_reply": "2023-10-09T11:17:40.411041Z",
     "shell.execute_reply.started": "2023-10-09T11:17:40.405976Z"
    },
    "trusted": true
   },
   "outputs": [],
   "source": [
    "total_dataset_v2.keys()"
   ]
  },
  {
   "cell_type": "markdown",
   "metadata": {},
   "source": [
    "## Common Voice"
   ]
  },
  {
   "cell_type": "code",
   "execution_count": null,
   "metadata": {},
   "outputs": [
    {
     "name": "stderr",
     "output_type": "stream",
     "text": [
      "Downloading...\n",
      "From (uriginal): https://drive.google.com/uc?id=1nun6MfobJKK9LJ6zCFINO4-QmZiZsaeJ\n",
      "From (redirected): https://drive.google.com/uc?id=1nun6MfobJKK9LJ6zCFINO4-QmZiZsaeJ&confirm=t&uuid=132827c7-e31b-4ab4-98b1-e8a6723131b5\n",
      "To: /kaggle/working/total_dataset_hubert_ast_v1.pkl\n",
      "100%|██████████| 1.50G/1.50G [00:18<00:00, 82.9MB/s]\n"
     ]
    },
    {
     "data": {
      "text/plain": [
       "'total_dataset_hubert_ast_v1.pkl'"
      ]
     },
     "metadata": {},
     "output_type": "display_data"
    }
   ],
   "source": [
    "url = \"https://drive.google.com/file/d/1nun6MfobJKK9LJ6zCFINO4-QmZiZsaeJ/view?usp=sharing\"\n",
    "output = \"total_dataset_hubert_ast_v1.pkl\"\n",
    "gdown.download(url, output, quiet=False, fuzzy=True)"
   ]
  },
  {
   "cell_type": "code",
   "execution_count": null,
   "metadata": {},
   "outputs": [],
   "source": [
    "with open(f'total_dataset_hubert_ast_v1.pkl', 'rb') as f:\n",
    "    total_dataset_hubert_final = pickle.load(f)"
   ]
  },
  {
   "cell_type": "code",
   "execution_count": null,
   "metadata": {},
   "outputs": [],
   "source": [
    "with open('total_dataset_hubert_asr_v2.pkl', 'wb') as f:\n",
    "    pickle.dump(total_dataset_hubert_final, f)"
   ]
  },
  {
   "cell_type": "code",
   "execution_count": null,
   "metadata": {},
   "outputs": [],
   "source": [
    "os.remove('total_dataset_huber.pkl')"
   ]
  },
  {
   "cell_type": "code",
   "execution_count": null,
   "metadata": {},
   "outputs": [],
   "source": [
    "def asr_hubert_audio_files(audio_file_list):\n",
    "    transcriptions = []\n",
    "#     audio_raws = []\n",
    "    for file_path in tqdm(audio_file_list):\n",
    "        # Use soundfile to read the audio file\n",
    "        data, samplerate = sf.read(file_path)\n",
    "        # Normalize the audio data\n",
    "        data = data / np.max(np.abs(data))\n",
    "        # Resample the audio to 16kHz\n",
    "        data = librosa.resample(data, orig_sr=samplerate, target_sr=16000)\n",
    "        # Convert the audio data to PyTorch tensor\n",
    "        audio = torch.from_numpy(data)\n",
    "        # Process the audio data with Hubert processor\n",
    "        inputs = hubert_processor(audio, sampling_rate=16000, return_tensors=\"pt\").to(device)\n",
    "        # Get the embeddings from Hubert model\n",
    "        with torch.no_grad():\n",
    "            logits = hubert_model(**inputs).logits\n",
    "            predicted_ids = torch.argmax(logits, dim=-1)\n",
    "\n",
    "            transcription = hubert_processor.batch_decode(predicted_ids)[0]\n",
    "            transcriptions.append(transcription.lower())\n",
    "#             audio_raws.append(audio)\n",
    "    return transcriptions"
   ]
  },
  {
   "cell_type": "code",
   "execution_count": null,
   "metadata": {},
   "outputs": [],
   "source": [
    "def add_hubert_asr_to_common_voice():\n",
    "    with open('total_dataset_hubert_asr_v2.pkl', 'rb') as f:\n",
    "        total_dataset_v2 = pickle.load(f)\n",
    "    with open('total_dataset_hubert_asr_v2_backup.pkl', 'wb') as f:\n",
    "        pickle.dump(total_dataset_v2, f)\n",
    "    item_indexes = []\n",
    "    audio_pathes = []\n",
    "    for i, audio_path in enumerate(total_dataset_v2['audio_path']):\n",
    "        if total_dataset_v2['source'][i] != 'common_voice':\n",
    "            continue\n",
    "        item_indexes.append(i)\n",
    "        audio_pathes.append(total_dataset_v2['audio_path'][i])\n",
    "    print(len(item_indexes))    \n",
    "    transcriptions = asr_hubert_audio_files(audio_pathes)\n",
    "    for i, item_index in enumerate(item_indexes):\n",
    "        total_dataset_v2['hubert-asr-text'][item_index] = transcriptions[i]\n",
    "    with open('total_dataset_hubert_asr_v2.pkl', 'wb') as f:\n",
    "        pickle.dump(total_dataset_v2, f)"
   ]
  },
  {
   "cell_type": "code",
   "execution_count": null,
   "metadata": {},
   "outputs": [
    {
     "name": "stdout",
     "output_type": "stream",
     "text": [
      "2197\n"
     ]
    },
    {
     "name": "stderr",
     "output_type": "stream",
     "text": [
      "100%|██████████| 2197/2197 [02:53<00:00, 12.64it/s]\n"
     ]
    }
   ],
   "source": [
    "add_hubert_asr_to_common_voice()"
   ]
  },
  {
   "cell_type": "markdown",
   "metadata": {},
   "source": [
    "## FLEURS"
   ]
  },
  {
   "cell_type": "code",
   "execution_count": null,
   "metadata": {},
   "outputs": [],
   "source": [
    "fleurs_retrieval = load_dataset(\"google/fleurs\", \"en_us\")"
   ]
  },
  {
   "cell_type": "code",
   "execution_count": null,
   "metadata": {},
   "outputs": [],
   "source": [
    "def add_hubert_fleurs():\n",
    "    with open('total_dataset_hubert_asr_v2.pkl', 'rb') as f:\n",
    "        total_dataset_v2 = pickle.load(f)\n",
    "    with open('total_dataset_hubert_asr_v2_backup.pkl', 'wb') as f:\n",
    "        pickle.dump(total_dataset_v2, f)\n",
    "    item_indexes = []\n",
    "    audio_pathes = []\n",
    "    for i, audio_path in enumerate(total_dataset_v2['audio_path']):\n",
    "        if total_dataset_v2['source'][i] != 'fleurs':\n",
    "            continue\n",
    "        item_indexes.append(i)\n",
    "        audio_pathes.append(total_dataset_v2['audio_path'][i])\n",
    "    print(len(item_indexes))    \n",
    "    transcriptions = asr_hubert_audio_files(audio_pathes)\n",
    "    for i, item_index in enumerate(item_indexes):\n",
    "        total_dataset_v2['hubert-asr-text'][item_index] = transcriptions[i]\n",
    "    with open('total_dataset_hubert_asr_v2.pkl', 'wb') as f:\n",
    "        pickle.dump(total_dataset_v2, f)"
   ]
  },
  {
   "cell_type": "code",
   "execution_count": null,
   "metadata": {},
   "outputs": [
    {
     "name": "stdout",
     "output_type": "stream",
     "text": [
      "647\n"
     ]
    },
    {
     "name": "stderr",
     "output_type": "stream",
     "text": [
      "100%|██████████| 647/647 [01:14<00:00,  8.72it/s]\n"
     ]
    }
   ],
   "source": [
    "add_hubert_fleurs()"
   ]
  },
  {
   "cell_type": "code",
   "execution_count": null,
   "metadata": {},
   "outputs": [
    {
     "data": {
      "text/html": [
       "<a href='total_dataset_hubert_asr_v2.pkl' target='_blank'>total_dataset_hubert_asr_v2.pkl</a><br>"
      ],
      "text/plain": [
       "/kaggle/working/total_dataset_hubert_asr_v2.pkl"
      ]
     },
     "metadata": {},
     "output_type": "display_data"
    }
   ],
   "source": [
    "from IPython.display import FileLink\n",
    "FileLink('total_dataset_hubert_asr_v2.pkl')"
   ]
  },
  {
   "cell_type": "code",
   "execution_count": null,
   "metadata": {},
   "outputs": [
    {
     "name": "stdout",
     "output_type": "stream",
     "text": [
      "11411\n",
      "this area helps to provide some insight into these farming adaptations\n",
      "this area has to provide some insight into these farming adaptations\n",
      "During the hottest part of the day , of course , the sun comes straight down and there isn't any shade ''.\n",
      "during the hottest part of the day of course the sun comes straight down and there isn't any shady\n",
      "11392\n"
     ]
    }
   ],
   "source": [
    "with open('total_dataset_hubert_asr_v2.pkl', 'rb') as f:\n",
    "    total_dataset_v2 = pickle.load(f)\n",
    "c = 0\n",
    "print(len(total_dataset_v2['hubert-asr-text']))\n",
    "for j, i in enumerate(total_dataset_v2['hubert-asr-text']):\n",
    "    if i != '':\n",
    "        if c < 2 :\n",
    "            print(total_dataset_v2['pure-text'][j])\n",
    "            print(total_dataset_v2['hubert-asr-text'][j])\n",
    "        c += 1\n",
    "print(c)"
   ]
  },
  {
   "cell_type": "code",
   "execution_count": null,
   "metadata": {},
   "outputs": [],
   "source": [
    "fleurs_retrieval = load_dataset(\"google/fleurs\", \"en_us\")"
   ]
  },
  {
   "cell_type": "code",
   "execution_count": null,
   "metadata": {},
   "outputs": [],
   "source": [
    "def add_hubert_fleurs():\n",
    "    with open('total_dataset_hubert_v2.pkl', 'rb') as f:\n",
    "        total_dataset_v2 = pickle.load(f)\n",
    "    with open('total_dataset_hubert_backup.pkl', 'wb') as f:\n",
    "        pickle.dump(total_dataset_v2, f)\n",
    "    item_indexes = []\n",
    "    audio_pathes = []\n",
    "    for i, audio_path in enumerate(total_dataset_v2['audio_path']):\n",
    "        if total_dataset_v2['source'][i] != 'fleurs':\n",
    "            continue\n",
    "        item_indexes.append(i)\n",
    "        audio_pathes.append(total_dataset_v2['audio_path'][i])\n",
    "    print(len(item_indexes))\n",
    "    embeddings = hubert_audio_files(audio_pathes)\n",
    "    all_embeddings = np.concatenate(embeddings, axis=0)\n",
    "#     reduced_embeddings = pca.fit_transform(all_embeddings)\n",
    "    \n",
    "    # Convert back to list of torch tensors\n",
    "#     embeddings = [torch.from_numpy(emb) for emb in reduced_embeddings]\n",
    "    embeddings = [torch.from_numpy(emb) for emb in all_embeddings]\n",
    "    \n",
    "    for i, item_index in enumerate(item_indexes):\n",
    "        total_dataset_v2['hubert-emb'][item_index] = embeddings[i]\n",
    "    with open('total_dataset_hubert_v2.pkl', 'wb') as f:\n",
    "        pickle.dump(total_dataset_v2, f)"
   ]
  },
  {
   "cell_type": "code",
   "execution_count": null,
   "metadata": {},
   "outputs": [
    {
     "name": "stdout",
     "output_type": "stream",
     "text": [
      "647\n"
     ]
    },
    {
     "name": "stderr",
     "output_type": "stream",
     "text": [
      "100%|██████████| 647/647 [01:11<00:00,  8.99it/s]\n"
     ]
    }
   ],
   "source": [
    "add_hubert_fleurs()"
   ]
  },
  {
   "cell_type": "code",
   "execution_count": null,
   "metadata": {},
   "outputs": [],
   "source": [
    "from IPython.display import FileLink\n",
    "FileLink('total_dataset_hubert_v2.pkl')"
   ]
  },
  {
   "cell_type": "code",
   "execution_count": null,
   "metadata": {},
   "outputs": [],
   "source": [
    "with open('total_dataset_hubert_v2.pkl', 'rb') as f:\n",
    "    total_dataset_hubert_v2 = pickle.load(f)"
   ]
  },
  {
   "cell_type": "code",
   "execution_count": null,
   "metadata": {},
   "outputs": [
    {
     "name": "stdout",
     "output_type": "stream",
     "text": [
      "11411\n",
      "11411\n"
     ]
    }
   ],
   "source": [
    "print(len(total_dataset_v2['hubert-asr-text']))\n",
    "print(len(total_dataset_v2['hubert-emb']))\n"
   ]
  },
  {
   "cell_type": "markdown",
   "metadata": {},
   "source": [
    "# Add Hubert Embedding to Data"
   ]
  },
  {
   "cell_type": "markdown",
   "metadata": {},
   "source": [
    "## Brown"
   ]
  },
  {
   "cell_type": "code",
   "execution_count": null,
   "metadata": {
    "execution": {
     "iopub.execute_input": "2023-10-15T13:48:46.235359Z",
     "iopub.status.busy": "2023-10-15T13:48:46.234772Z",
     "iopub.status.idle": "2023-10-15T13:48:46.240905Z",
     "shell.execute_reply": "2023-10-15T13:48:46.240351Z",
     "shell.execute_reply.started": "2023-10-15T13:48:46.235327Z"
    },
    "trusted": true
   },
   "outputs": [],
   "source": [
    "def download_data_part(url, output):\n",
    "    gdown.download(url, output, quiet=False, fuzzy=True)\n",
    "    with ZipFile(output, 'r') as zip_ref:\n",
    "        zip_ref.extractall(output.split('.')[0])\n",
    "    os.remove(output)"
   ]
  },
  {
   "cell_type": "code",
   "execution_count": null,
   "metadata": {
    "execution": {
     "iopub.execute_input": "2023-10-15T12:10:39.830474Z",
     "iopub.status.busy": "2023-10-15T12:10:39.829876Z",
     "iopub.status.idle": "2023-10-15T12:15:03.271805Z",
     "shell.execute_reply": "2023-10-15T12:15:03.270194Z",
     "shell.execute_reply.started": "2023-10-15T12:10:39.830443Z"
    },
    "trusted": true
   },
   "outputs": [],
   "source": [
    "download_data_part('https://drive.google.com/file/d/1GkXhLbzHrobM4GaGX80PzRHl-TBPg8h4/view?usp=drive_link','dataset_part1.zip')"
   ]
  },
  {
   "cell_type": "code",
   "execution_count": null,
   "metadata": {
    "execution": {
     "iopub.execute_input": "2023-10-15T12:15:03.275758Z",
     "iopub.status.busy": "2023-10-15T12:15:03.275087Z",
     "iopub.status.idle": "2023-10-15T12:18:34.085775Z",
     "shell.execute_reply": "2023-10-15T12:18:34.084845Z",
     "shell.execute_reply.started": "2023-10-15T12:15:03.275713Z"
    },
    "trusted": true
   },
   "outputs": [],
   "source": [
    "url = \"https://drive.google.com/file/d/1tNgdESKJFyfIqyRs0BFxZxu8Cdc1hw7D/view?usp=sharing\"\n",
    "output = \"total_dataset_v5.pkl\"\n",
    "gdown.download(url, output, quiet=False, fuzzy=True)"
   ]
  },
  {
   "cell_type": "code",
   "execution_count": null,
   "metadata": {
    "execution": {
     "iopub.execute_input": "2023-10-15T12:18:34.087592Z",
     "iopub.status.busy": "2023-10-15T12:18:34.087243Z",
     "iopub.status.idle": "2023-10-15T12:18:48.701140Z",
     "shell.execute_reply": "2023-10-15T12:18:48.700013Z",
     "shell.execute_reply.started": "2023-10-15T12:18:34.087557Z"
    },
    "trusted": true
   },
   "outputs": [],
   "source": [
    "with open('total_dataset_v5.pkl', 'rb') as f:\n",
    "    total_dataset_v5 = pickle.load(f)"
   ]
  },
  {
   "cell_type": "code",
   "execution_count": null,
   "metadata": {
    "execution": {
     "iopub.execute_input": "2023-10-15T15:48:28.228356Z",
     "iopub.status.busy": "2023-10-15T15:48:28.227266Z",
     "iopub.status.idle": "2023-10-15T15:50:14.586994Z",
     "shell.execute_reply": "2023-10-15T15:50:14.585957Z",
     "shell.execute_reply.started": "2023-10-15T15:48:28.228314Z"
    },
    "trusted": true
   },
   "outputs": [],
   "source": [
    "from transformers import AutoProcessor, HubertModel\n",
    "import soundfile as sf\n",
    "\n",
    "hubert_processor = AutoProcessor.from_pretrained(\"facebook/hubert-large-ls960-ft\")\n",
    "hubert_model = HubertModel.from_pretrained(\"facebook/hubert-large-ls960-ft\").to(device)\n"
   ]
  },
  {
   "cell_type": "code",
   "execution_count": null,
   "metadata": {
    "execution": {
     "iopub.execute_input": "2023-10-15T12:28:03.332802Z",
     "iopub.status.busy": "2023-10-15T12:28:03.332446Z",
     "iopub.status.idle": "2023-10-15T12:28:03.339714Z",
     "shell.execute_reply": "2023-10-15T12:28:03.338460Z",
     "shell.execute_reply.started": "2023-10-15T12:28:03.332773Z"
    },
    "trusted": true
   },
   "outputs": [],
   "source": [
    "embeddings.shape"
   ]
  },
  {
   "cell_type": "code",
   "execution_count": null,
   "metadata": {
    "execution": {
     "iopub.execute_input": "2023-10-15T12:29:52.785060Z",
     "iopub.status.busy": "2023-10-15T12:29:52.784609Z",
     "iopub.status.idle": "2023-10-15T12:29:52.798097Z",
     "shell.execute_reply": "2023-10-15T12:29:52.796929Z",
     "shell.execute_reply.started": "2023-10-15T12:29:52.785023Z"
    },
    "trusted": true
   },
   "outputs": [],
   "source": [
    "total_dataset_v5['train'].keys()"
   ]
  },
  {
   "cell_type": "code",
   "execution_count": null,
   "metadata": {
    "execution": {
     "iopub.execute_input": "2023-10-15T12:34:36.461683Z",
     "iopub.status.busy": "2023-10-15T12:34:36.461210Z",
     "iopub.status.idle": "2023-10-15T12:34:36.486158Z",
     "shell.execute_reply": "2023-10-15T12:34:36.485296Z",
     "shell.execute_reply.started": "2023-10-15T12:34:36.461649Z"
    },
    "trusted": true
   },
   "outputs": [],
   "source": [
    "total_dataset_v5['train']['hubert-emb'] = ['' for i in range(len(total_dataset_v5['train']['audio']))]\n",
    "total_dataset_v5['test']['hubert-emb'] = ['' for i in range(len(total_dataset_v5['train']['audio']))]\n",
    "total_dataset_v5['validation']['hubert-emb'] = ['' for i in range(len(total_dataset_v5['train']['audio']))]"
   ]
  },
  {
   "cell_type": "code",
   "execution_count": null,
   "metadata": {
    "execution": {
     "iopub.execute_input": "2023-10-15T15:50:14.589336Z",
     "iopub.status.busy": "2023-10-15T15:50:14.588673Z",
     "iopub.status.idle": "2023-10-15T15:50:14.597249Z",
     "shell.execute_reply": "2023-10-15T15:50:14.596259Z",
     "shell.execute_reply.started": "2023-10-15T15:50:14.589301Z"
    },
    "trusted": true
   },
   "outputs": [],
   "source": [
    "def hubert_audio_files(audio_file_list):\n",
    "    embeddings = []\n",
    "    for file_path in tqdm(audio_file_list):\n",
    "        # Use soundfile to read the audio file\n",
    "        data, samplerate = sf.read(file_path)\n",
    "        # Normalize the audio data\n",
    "        data = data / np.max(np.abs(data))\n",
    "        # Resample the audio to 16kHz\n",
    "        data = librosa.resample(data, orig_sr=samplerate, target_sr=16000)\n",
    "        # Convert the audio data to PyTorch tensor\n",
    "        audio = torch.from_numpy(data)\n",
    "        # Process the audio data with Hubert processor\n",
    "        inputs = hubert_processor(audio, sampling_rate=16000, return_tensors=\"pt\").to(device)\n",
    "        # Get the embeddings from Hubert model\n",
    "        with torch.no_grad():\n",
    "            try:\n",
    "                hidden_states = hubert_model(**inputs).last_hidden_state\n",
    "                avg_embedding = torch.mean(hidden_states.cpu(), dim=1)\n",
    "                embeddings.append(avg_embedding.detach().numpy())\n",
    "            except Exception as e:\n",
    "                print(f\"Error processing file: {file_path}\")\n",
    "                random_tensor = torch.randn(1, 1024)\n",
    "                embeddings.append(random_tensor.detach().numpy())\n",
    "    return embeddings"
   ]
  },
  {
   "cell_type": "code",
   "execution_count": null,
   "metadata": {
    "execution": {
     "iopub.execute_input": "2023-10-15T12:34:44.792786Z",
     "iopub.status.busy": "2023-10-15T12:34:44.792444Z",
     "iopub.status.idle": "2023-10-15T12:35:06.013932Z",
     "shell.execute_reply": "2023-10-15T12:35:06.012857Z",
     "shell.execute_reply.started": "2023-10-15T12:34:44.792759Z"
    },
    "trusted": true
   },
   "outputs": [],
   "source": [
    "with open('total_dataset_v6.pkl', 'wb') as f:\n",
    "        pickle.dump(total_dataset_v5, f)"
   ]
  },
  {
   "cell_type": "code",
   "execution_count": null,
   "metadata": {
    "execution": {
     "iopub.execute_input": "2023-10-15T13:48:46.253646Z",
     "iopub.status.busy": "2023-10-15T13:48:46.253214Z",
     "iopub.status.idle": "2023-10-15T13:48:46.267832Z",
     "shell.execute_reply": "2023-10-15T13:48:46.267151Z",
     "shell.execute_reply.started": "2023-10-15T13:48:46.253617Z"
    },
    "trusted": true
   },
   "outputs": [],
   "source": [
    "def add_for_part_hubert(part_id):\n",
    "    with open('total_dataset_v6.pkl', 'rb') as f:\n",
    "        total_dataset = pickle.load(f)\n",
    "    with open('total_dataset_v6_backup.pkl', 'wb') as f:\n",
    "        pickle.dump(total_dataset, f)\n",
    "    item_indexes = []\n",
    "    audio_pathes = []\n",
    "    split = 'train'\n",
    "    gc.collect()\n",
    "    for i, audio_path in enumerate(total_dataset[split]['audio_path']):\n",
    "        if total_dataset[split]['source'][i] != 'brown':\n",
    "            continue\n",
    "        if f'/part{part_id}/' in audio_path:\n",
    "            item_indexes.append(i)\n",
    "            audio_pathes.append(f'dataset_part{part_id}/audios/' + audio_path.split('/')[-1])\n",
    "    print(len(item_indexes))\n",
    "    embeddings = hubert_audio_files(audio_pathes)\n",
    "    all_embeddings = np.concatenate(embeddings, axis=0)\n",
    "    embeddings = [torch.from_numpy(emb) for emb in all_embeddings]\n",
    "    \n",
    "    for i, item_index in enumerate(item_indexes):\n",
    "        total_dataset[split]['hubert-emb'][item_index] = embeddings[i]\n",
    "        \n",
    "    item_indexes = []\n",
    "    audio_pathes = []\n",
    "    gc.collect()\n",
    "    split = 'validation'\n",
    "    for i, audio_path in enumerate(total_dataset[split]['audio_path']):\n",
    "        if total_dataset[split]['source'][i] != 'brown':\n",
    "            continue\n",
    "        if f'/part{part_id}/' in audio_path:\n",
    "            item_indexes.append(i)\n",
    "            audio_pathes.append(f'dataset_part{part_id}/audios/' + audio_path.split('/')[-1])\n",
    "    print(len(item_indexes))\n",
    "    embeddings = hubert_audio_files(audio_pathes)\n",
    "    all_embeddings = np.concatenate(embeddings, axis=0)\n",
    "    embeddings = [torch.from_numpy(emb) for emb in all_embeddings]\n",
    "    \n",
    "    for i, item_index in enumerate(item_indexes):\n",
    "        total_dataset[split]['hubert-emb'][item_index] = embeddings[i]\n",
    "    \n",
    "    gc.collect()\n",
    "    item_indexes = []\n",
    "    audio_pathes = []\n",
    "    split = 'test'\n",
    "    for i, audio_path in enumerate(total_dataset[split]['audio_path']):\n",
    "        if total_dataset[split]['source'][i] != 'brown':\n",
    "            continue\n",
    "        if f'/part{part_id}/' in audio_path:\n",
    "            item_indexes.append(i)\n",
    "            audio_pathes.append(f'dataset_part{part_id}/audios/' + audio_path.split('/')[-1])\n",
    "    print(len(item_indexes))\n",
    "    embeddings = hubert_audio_files(audio_pathes)\n",
    "    all_embeddings = np.concatenate(embeddings, axis=0)\n",
    "    embeddings = [torch.from_numpy(emb) for emb in all_embeddings]\n",
    "    \n",
    "    for i, item_index in enumerate(item_indexes):\n",
    "        total_dataset[split]['hubert-emb'][item_index] = embeddings[i]     \n",
    "    gc.collect()\n",
    "    \n",
    "    with open('total_dataset_v6.pkl', 'wb') as f:\n",
    "        pickle.dump(total_dataset, f)\n",
    "    with open('part_id.txt', 'w') as f:\n",
    "        f.write(str(part_id))"
   ]
  },
  {
   "cell_type": "code",
   "execution_count": null,
   "metadata": {
    "execution": {
     "iopub.execute_input": "2023-10-15T12:43:48.573616Z",
     "iopub.status.busy": "2023-10-15T12:43:48.573256Z",
     "iopub.status.idle": "2023-10-15T12:52:18.220804Z",
     "shell.execute_reply": "2023-10-15T12:52:18.219706Z",
     "shell.execute_reply.started": "2023-10-15T12:43:48.573587Z"
    },
    "trusted": true
   },
   "outputs": [],
   "source": [
    "add_for_part_hubert(1)"
   ]
  },
  {
   "cell_type": "code",
   "execution_count": null,
   "metadata": {
    "execution": {
     "iopub.execute_input": "2023-10-15T13:06:56.841928Z",
     "iopub.status.busy": "2023-10-15T13:06:56.841535Z",
     "iopub.status.idle": "2023-10-15T13:07:17.070428Z",
     "shell.execute_reply": "2023-10-15T13:07:17.069416Z",
     "shell.execute_reply.started": "2023-10-15T13:06:56.841898Z"
    },
    "trusted": true
   },
   "outputs": [],
   "source": [
    "with open('total_dataset_v6.pkl', 'rb') as f:\n",
    "    total_dataset_v2 = pickle.load(f)\n",
    "c = 0\n",
    "split = 'test'\n",
    "for j, i in enumerate(total_dataset_v2[split]['hubert-emb']):\n",
    "    if i != '' and total_dataset_v2[split]['source'][j] == 'brown':\n",
    "        if c < 2 :\n",
    "            print(i)\n",
    "            print(total_dataset_v2[split]['hubert-emb'][j].shape)\n",
    "        c += 1\n",
    "print(c)"
   ]
  },
  {
   "cell_type": "code",
   "execution_count": null,
   "metadata": {
    "execution": {
     "iopub.execute_input": "2023-10-15T13:07:21.001689Z",
     "iopub.status.busy": "2023-10-15T13:07:21.001228Z",
     "iopub.status.idle": "2023-10-15T13:07:21.432332Z",
     "shell.execute_reply": "2023-10-15T13:07:21.431285Z",
     "shell.execute_reply.started": "2023-10-15T13:07:21.001650Z"
    },
    "trusted": true
   },
   "outputs": [],
   "source": [
    "del total_dataset_v2"
   ]
  },
  {
   "cell_type": "code",
   "execution_count": null,
   "metadata": {
    "execution": {
     "iopub.execute_input": "2023-10-15T13:05:33.009756Z",
     "iopub.status.busy": "2023-10-15T13:05:33.009346Z",
     "iopub.status.idle": "2023-10-15T13:05:58.223832Z",
     "shell.execute_reply": "2023-10-15T13:05:58.222763Z",
     "shell.execute_reply.started": "2023-10-15T13:05:33.009717Z"
    },
    "trusted": true
   },
   "outputs": [],
   "source": [
    "with open('total_dataset_v6.pkl', 'rb') as f:\n",
    "    total_dataset_v2 = pickle.load(f)\n",
    "split = 'train'\n",
    "x = total_dataset_v2[split]['hubert-emb'].copy()\n",
    "for j, i in enumerate(total_dataset_v2[split]['hubert-emb']):\n",
    "    if i != '' and total_dataset_v2[split]['source'][j] == 'brown':\n",
    "        x[j] = total_dataset_v2[split]['hubert-emb'][j].squeeze(0) \n",
    "total_dataset_v2[split]['hubert-emb'] = x.copy() \n",
    "\n",
    "split = 'test'\n",
    "x = total_dataset_v2[split]['hubert-emb'].copy()\n",
    "for j, i in enumerate(total_dataset_v2[split]['hubert-emb']):\n",
    "    if i != '' and total_dataset_v2[split]['source'][j] == 'brown':\n",
    "        x[j] = total_dataset_v2[split]['hubert-emb'][j].squeeze(0) \n",
    "total_dataset_v2[split]['hubert-emb'] = x.copy() \n",
    "\n",
    "split = 'validation'\n",
    "x = total_dataset_v2[split]['hubert-emb'].copy()\n",
    "for j, i in enumerate(total_dataset_v2[split]['hubert-emb']):\n",
    "    if i != '' and total_dataset_v2[split]['source'][j] == 'brown':\n",
    "        x[j] = total_dataset_v2[split]['hubert-emb'][j].squeeze(0) \n",
    "total_dataset_v2[split]['hubert-emb'] = x.copy() \n",
    "\n"
   ]
  },
  {
   "cell_type": "code",
   "execution_count": null,
   "metadata": {
    "execution": {
     "iopub.execute_input": "2023-10-15T13:06:07.937145Z",
     "iopub.status.busy": "2023-10-15T13:06:07.936787Z",
     "iopub.status.idle": "2023-10-15T13:06:27.495456Z",
     "shell.execute_reply": "2023-10-15T13:06:27.494384Z",
     "shell.execute_reply.started": "2023-10-15T13:06:07.937117Z"
    },
    "trusted": true
   },
   "outputs": [],
   "source": [
    "with open('total_dataset_v6.pkl', 'wb') as f:\n",
    "    pickle.dump(total_dataset_v2, f)"
   ]
  },
  {
   "cell_type": "code",
   "execution_count": null,
   "metadata": {
    "execution": {
     "iopub.execute_input": "2023-10-15T13:06:31.957214Z",
     "iopub.status.busy": "2023-10-15T13:06:31.956834Z",
     "iopub.status.idle": "2023-10-15T13:06:32.555223Z",
     "shell.execute_reply": "2023-10-15T13:06:32.554082Z",
     "shell.execute_reply.started": "2023-10-15T13:06:31.957183Z"
    },
    "trusted": true
   },
   "outputs": [],
   "source": [
    "del total_dataset_v2"
   ]
  },
  {
   "cell_type": "code",
   "execution_count": null,
   "metadata": {
    "execution": {
     "iopub.execute_input": "2023-10-15T13:07:52.349595Z",
     "iopub.status.busy": "2023-10-15T13:07:52.349228Z",
     "iopub.status.idle": "2023-10-15T13:07:52.720247Z",
     "shell.execute_reply": "2023-10-15T13:07:52.719242Z",
     "shell.execute_reply.started": "2023-10-15T13:07:52.349567Z"
    },
    "trusted": true
   },
   "outputs": [],
   "source": [
    "from shutil import rmtree\n",
    "rmtree('dataset_part1')"
   ]
  },
  {
   "cell_type": "code",
   "execution_count": null,
   "metadata": {
    "execution": {
     "iopub.execute_input": "2023-10-15T13:07:57.037436Z",
     "iopub.status.busy": "2023-10-15T13:07:57.037068Z",
     "iopub.status.idle": "2023-10-15T13:11:18.512797Z",
     "shell.execute_reply": "2023-10-15T13:11:18.510837Z",
     "shell.execute_reply.started": "2023-10-15T13:07:57.037407Z"
    },
    "trusted": true
   },
   "outputs": [],
   "source": [
    "# part 2\n",
    "download_data_part('https://drive.google.com/file/d/1n_xxsblXrw5tCVk7ZP6_kRtubjMOuC2l/view?usp=drive_link','dataset_part2.zip')"
   ]
  },
  {
   "cell_type": "code",
   "execution_count": null,
   "metadata": {
    "execution": {
     "iopub.execute_input": "2023-10-15T13:11:18.519305Z",
     "iopub.status.busy": "2023-10-15T13:11:18.516424Z",
     "iopub.status.idle": "2023-10-15T13:19:06.826812Z",
     "shell.execute_reply": "2023-10-15T13:19:06.825673Z",
     "shell.execute_reply.started": "2023-10-15T13:11:18.518841Z"
    },
    "trusted": true
   },
   "outputs": [],
   "source": [
    "add_for_part_hubert(2)"
   ]
  },
  {
   "cell_type": "code",
   "execution_count": null,
   "metadata": {
    "execution": {
     "iopub.execute_input": "2023-10-15T13:19:30.558724Z",
     "iopub.status.busy": "2023-10-15T13:19:30.557755Z",
     "iopub.status.idle": "2023-10-15T13:19:56.351059Z",
     "shell.execute_reply": "2023-10-15T13:19:56.350020Z",
     "shell.execute_reply.started": "2023-10-15T13:19:30.558676Z"
    },
    "trusted": true
   },
   "outputs": [],
   "source": [
    "with open('total_dataset_v6.pkl', 'rb') as f:\n",
    "    total_dataset_v2 = pickle.load(f)\n",
    "c = 0\n",
    "split = 'validation'\n",
    "part_id = 2\n",
    "for j, i in enumerate(total_dataset_v2[split]['hubert-emb']):\n",
    "    if i != '' and total_dataset_v2[split]['source'][j] == 'brown' and f'/part{part_id}/' in total_dataset_v2[split]['audio_path'][j]:\n",
    "        if c < 2 :\n",
    "            print(i)\n",
    "            print(total_dataset_v2[split]['hubert-emb'][j].shape)\n",
    "        c += 1\n",
    "print(c)\n",
    "del total_dataset_v2"
   ]
  },
  {
   "cell_type": "code",
   "execution_count": null,
   "metadata": {
    "execution": {
     "iopub.execute_input": "2023-10-15T13:20:09.372395Z",
     "iopub.status.busy": "2023-10-15T13:20:09.372027Z",
     "iopub.status.idle": "2023-10-15T13:20:09.627175Z",
     "shell.execute_reply": "2023-10-15T13:20:09.626174Z",
     "shell.execute_reply.started": "2023-10-15T13:20:09.372365Z"
    },
    "trusted": true
   },
   "outputs": [],
   "source": [
    "rmtree('dataset_part2')"
   ]
  },
  {
   "cell_type": "code",
   "execution_count": null,
   "metadata": {
    "execution": {
     "iopub.execute_input": "2023-10-15T13:20:17.584974Z",
     "iopub.status.busy": "2023-10-15T13:20:17.584588Z",
     "iopub.status.idle": "2023-10-15T13:24:03.486190Z",
     "shell.execute_reply": "2023-10-15T13:24:03.485153Z",
     "shell.execute_reply.started": "2023-10-15T13:20:17.584926Z"
    },
    "trusted": true
   },
   "outputs": [],
   "source": [
    "# part 3\n",
    "download_data_part('https://drive.google.com/file/d/14-Tvd3jvgY2Ge5-cxOsX7Arx6esfUxeN/view?usp=drive_link','dataset_part3.zip')"
   ]
  },
  {
   "cell_type": "code",
   "execution_count": null,
   "metadata": {
    "execution": {
     "iopub.execute_input": "2023-10-15T13:55:36.100269Z",
     "iopub.status.busy": "2023-10-15T13:55:36.098976Z",
     "iopub.status.idle": "2023-10-15T13:56:22.660311Z",
     "shell.execute_reply": "2023-10-15T13:56:22.659323Z",
     "shell.execute_reply.started": "2023-10-15T13:55:36.100226Z"
    },
    "trusted": true
   },
   "outputs": [],
   "source": [
    "with open('total_dataset_v6_backup.pkl', 'rb') as f:\n",
    "    total_dataset = pickle.load(f)\n",
    "with open('total_dataset_v6.pkl', 'wb') as f:\n",
    "    pickle.dump(total_dataset, f)\n",
    "del total_dataset"
   ]
  },
  {
   "cell_type": "code",
   "execution_count": null,
   "metadata": {
    "execution": {
     "iopub.execute_input": "2023-10-15T13:59:49.612673Z",
     "iopub.status.busy": "2023-10-15T13:59:49.612391Z",
     "iopub.status.idle": "2023-10-15T14:07:35.417830Z",
     "shell.execute_reply": "2023-10-15T14:07:35.415478Z",
     "shell.execute_reply.started": "2023-10-15T13:59:49.612649Z"
    },
    "trusted": true
   },
   "outputs": [],
   "source": [
    "add_for_part_hubert(3)"
   ]
  },
  {
   "cell_type": "code",
   "execution_count": null,
   "metadata": {
    "execution": {
     "iopub.execute_input": "2023-10-15T14:08:43.709315Z",
     "iopub.status.busy": "2023-10-15T14:08:43.708420Z",
     "iopub.status.idle": "2023-10-15T14:08:44.019098Z",
     "shell.execute_reply": "2023-10-15T14:08:44.017028Z",
     "shell.execute_reply.started": "2023-10-15T14:08:43.709279Z"
    },
    "trusted": true
   },
   "outputs": [],
   "source": [
    "rmtree('dataset_part3')"
   ]
  },
  {
   "cell_type": "code",
   "execution_count": null,
   "metadata": {
    "execution": {
     "iopub.execute_input": "2023-10-15T14:08:54.023083Z",
     "iopub.status.busy": "2023-10-15T14:08:54.022098Z",
     "iopub.status.idle": "2023-10-15T14:13:02.619553Z",
     "shell.execute_reply": "2023-10-15T14:13:02.618383Z",
     "shell.execute_reply.started": "2023-10-15T14:08:54.023047Z"
    },
    "trusted": true
   },
   "outputs": [],
   "source": [
    "# part 4\n",
    "download_data_part('https://drive.google.com/file/d/1fId6jAxD5UzObg4zu30GPpcP-P9F7TSL/view?usp=drive_link','dataset_part4.zip')"
   ]
  },
  {
   "cell_type": "code",
   "execution_count": null,
   "metadata": {
    "execution": {
     "iopub.execute_input": "2023-10-15T14:13:02.623538Z",
     "iopub.status.busy": "2023-10-15T14:13:02.622917Z",
     "iopub.status.idle": "2023-10-15T14:21:13.694095Z",
     "shell.execute_reply": "2023-10-15T14:21:13.692998Z",
     "shell.execute_reply.started": "2023-10-15T14:13:02.623500Z"
    },
    "trusted": true
   },
   "outputs": [],
   "source": [
    "add_for_part_hubert(4)"
   ]
  },
  {
   "cell_type": "code",
   "execution_count": null,
   "metadata": {
    "execution": {
     "iopub.execute_input": "2023-10-15T14:22:18.743230Z",
     "iopub.status.busy": "2023-10-15T14:22:18.742679Z",
     "iopub.status.idle": "2023-10-15T14:22:19.025807Z",
     "shell.execute_reply": "2023-10-15T14:22:19.024621Z",
     "shell.execute_reply.started": "2023-10-15T14:22:18.743189Z"
    },
    "trusted": true
   },
   "outputs": [],
   "source": [
    "rmtree('dataset_part4')"
   ]
  },
  {
   "cell_type": "code",
   "execution_count": null,
   "metadata": {
    "execution": {
     "iopub.execute_input": "2023-10-15T14:22:22.194833Z",
     "iopub.status.busy": "2023-10-15T14:22:22.194461Z",
     "iopub.status.idle": "2023-10-15T14:26:10.759377Z",
     "shell.execute_reply": "2023-10-15T14:26:10.758263Z",
     "shell.execute_reply.started": "2023-10-15T14:22:22.194803Z"
    },
    "trusted": true
   },
   "outputs": [],
   "source": [
    "# part 5\n",
    "download_data_part('https://drive.google.com/file/d/1VssFVfqgnXy7JpgUKpTWEVg11bqYK2bn/view?usp=drive_link','dataset_part5.zip')"
   ]
  },
  {
   "cell_type": "code",
   "execution_count": null,
   "metadata": {
    "execution": {
     "iopub.execute_input": "2023-10-15T14:26:10.764417Z",
     "iopub.status.busy": "2023-10-15T14:26:10.763349Z",
     "iopub.status.idle": "2023-10-15T14:34:21.692094Z",
     "shell.execute_reply": "2023-10-15T14:34:21.691011Z",
     "shell.execute_reply.started": "2023-10-15T14:26:10.764377Z"
    },
    "trusted": true
   },
   "outputs": [],
   "source": [
    "add_for_part_hubert(5)"
   ]
  },
  {
   "cell_type": "code",
   "execution_count": null,
   "metadata": {
    "execution": {
     "iopub.execute_input": "2023-10-15T14:34:32.454902Z",
     "iopub.status.busy": "2023-10-15T14:34:32.454533Z",
     "iopub.status.idle": "2023-10-15T14:34:32.741411Z",
     "shell.execute_reply": "2023-10-15T14:34:32.740215Z",
     "shell.execute_reply.started": "2023-10-15T14:34:32.454871Z"
    },
    "trusted": true
   },
   "outputs": [],
   "source": [
    "rmtree('dataset_part5')"
   ]
  },
  {
   "cell_type": "code",
   "execution_count": null,
   "metadata": {
    "execution": {
     "iopub.execute_input": "2023-10-15T14:34:34.368997Z",
     "iopub.status.busy": "2023-10-15T14:34:34.368526Z",
     "iopub.status.idle": "2023-10-15T14:38:47.700190Z",
     "shell.execute_reply": "2023-10-15T14:38:47.699046Z",
     "shell.execute_reply.started": "2023-10-15T14:34:34.368917Z"
    },
    "trusted": true
   },
   "outputs": [],
   "source": [
    "# part 6\n",
    "download_data_part('https://drive.google.com/file/d/11vhiU4lV8w3IYTXebTDr-9j7834ig6OU/view?usp=drive_link','dataset_part6.zip')"
   ]
  },
  {
   "cell_type": "code",
   "execution_count": null,
   "metadata": {
    "execution": {
     "iopub.execute_input": "2023-10-15T14:38:47.710352Z",
     "iopub.status.busy": "2023-10-15T14:38:47.708179Z",
     "iopub.status.idle": "2023-10-15T14:47:31.120928Z",
     "shell.execute_reply": "2023-10-15T14:47:31.119911Z",
     "shell.execute_reply.started": "2023-10-15T14:38:47.710315Z"
    },
    "trusted": true
   },
   "outputs": [],
   "source": [
    "add_for_part_hubert(6)"
   ]
  },
  {
   "cell_type": "code",
   "execution_count": null,
   "metadata": {
    "execution": {
     "iopub.execute_input": "2023-10-15T14:47:37.771840Z",
     "iopub.status.busy": "2023-10-15T14:47:37.771456Z",
     "iopub.status.idle": "2023-10-15T14:47:38.099200Z",
     "shell.execute_reply": "2023-10-15T14:47:38.097859Z",
     "shell.execute_reply.started": "2023-10-15T14:47:37.771808Z"
    },
    "trusted": true
   },
   "outputs": [],
   "source": [
    "rmtree('dataset_part6')"
   ]
  },
  {
   "cell_type": "code",
   "execution_count": null,
   "metadata": {
    "execution": {
     "iopub.execute_input": "2023-10-15T14:47:44.501827Z",
     "iopub.status.busy": "2023-10-15T14:47:44.500621Z",
     "iopub.status.idle": "2023-10-15T14:52:26.032341Z",
     "shell.execute_reply": "2023-10-15T14:52:26.031182Z",
     "shell.execute_reply.started": "2023-10-15T14:47:44.501786Z"
    },
    "trusted": true
   },
   "outputs": [],
   "source": [
    "# part 7\n",
    "download_data_part('https://drive.google.com/file/d/1FbPz9VnDgU9Bj7sxtxOb7Etx1_dnobmH/view?usp=drive_link','dataset_part7.zip')"
   ]
  },
  {
   "cell_type": "code",
   "execution_count": null,
   "metadata": {
    "execution": {
     "iopub.execute_input": "2023-10-15T14:52:26.036811Z",
     "iopub.status.busy": "2023-10-15T14:52:26.036484Z",
     "iopub.status.idle": "2023-10-15T15:00:00.252093Z",
     "shell.execute_reply": "2023-10-15T15:00:00.251078Z",
     "shell.execute_reply.started": "2023-10-15T14:52:26.036785Z"
    },
    "trusted": true
   },
   "outputs": [],
   "source": [
    "add_for_part_hubert(7)"
   ]
  },
  {
   "cell_type": "code",
   "execution_count": null,
   "metadata": {
    "execution": {
     "iopub.execute_input": "2023-10-15T15:00:17.069093Z",
     "iopub.status.busy": "2023-10-15T15:00:17.068700Z",
     "iopub.status.idle": "2023-10-15T15:00:17.343182Z",
     "shell.execute_reply": "2023-10-15T15:00:17.342193Z",
     "shell.execute_reply.started": "2023-10-15T15:00:17.069059Z"
    },
    "trusted": true
   },
   "outputs": [],
   "source": [
    "rmtree('dataset_part7')"
   ]
  },
  {
   "cell_type": "code",
   "execution_count": null,
   "metadata": {
    "execution": {
     "iopub.execute_input": "2023-10-15T15:00:20.372748Z",
     "iopub.status.busy": "2023-10-15T15:00:20.372380Z",
     "iopub.status.idle": "2023-10-15T15:03:42.962119Z",
     "shell.execute_reply": "2023-10-15T15:03:42.960994Z",
     "shell.execute_reply.started": "2023-10-15T15:00:20.372719Z"
    },
    "trusted": true
   },
   "outputs": [],
   "source": [
    "# part 8\n",
    "download_data_part('https://drive.google.com/file/d/1E_UWK88hWwhwKI8kiND3OCtdo3tnlOu5/view?usp=drive_link','dataset_part8.zip')"
   ]
  },
  {
   "cell_type": "code",
   "execution_count": null,
   "metadata": {
    "execution": {
     "iopub.execute_input": "2023-10-15T15:03:42.969700Z",
     "iopub.status.busy": "2023-10-15T15:03:42.967270Z",
     "iopub.status.idle": "2023-10-15T15:09:43.161468Z",
     "shell.execute_reply": "2023-10-15T15:09:43.160360Z",
     "shell.execute_reply.started": "2023-10-15T15:03:42.969663Z"
    },
    "trusted": true
   },
   "outputs": [],
   "source": [
    "add_for_part_hubert(8)"
   ]
  },
  {
   "cell_type": "code",
   "execution_count": null,
   "metadata": {
    "execution": {
     "iopub.execute_input": "2023-10-15T15:09:51.413756Z",
     "iopub.status.busy": "2023-10-15T15:09:51.413390Z",
     "iopub.status.idle": "2023-10-15T15:13:05.571008Z",
     "shell.execute_reply": "2023-10-15T15:13:05.569549Z",
     "shell.execute_reply.started": "2023-10-15T15:09:51.413719Z"
    },
    "trusted": true
   },
   "outputs": [],
   "source": [
    "rmtree('dataset_part8')\n",
    "# part 9\n",
    "download_data_part('https://drive.google.com/file/d/17PC8U5HYQ8r9wGlpQoeptjMyA7rK6PrZ/view?usp=drive_link','dataset_part9.zip')"
   ]
  },
  {
   "cell_type": "code",
   "execution_count": null,
   "metadata": {
    "execution": {
     "iopub.execute_input": "2023-10-15T15:13:05.581126Z",
     "iopub.status.busy": "2023-10-15T15:13:05.578295Z",
     "iopub.status.idle": "2023-10-15T15:19:08.344302Z",
     "shell.execute_reply": "2023-10-15T15:19:08.343174Z",
     "shell.execute_reply.started": "2023-10-15T15:13:05.581082Z"
    },
    "trusted": true
   },
   "outputs": [],
   "source": [
    "add_for_part_hubert(9)"
   ]
  },
  {
   "cell_type": "code",
   "execution_count": null,
   "metadata": {
    "execution": {
     "iopub.execute_input": "2023-10-15T15:20:55.583960Z",
     "iopub.status.busy": "2023-10-15T15:20:55.583532Z",
     "iopub.status.idle": "2023-10-15T15:20:55.882053Z",
     "shell.execute_reply": "2023-10-15T15:20:55.880901Z",
     "shell.execute_reply.started": "2023-10-15T15:20:55.583911Z"
    },
    "trusted": true
   },
   "outputs": [],
   "source": [
    "rmtree('dataset_part9')"
   ]
  },
  {
   "cell_type": "code",
   "execution_count": null,
   "metadata": {
    "execution": {
     "iopub.execute_input": "2023-10-15T15:20:58.267751Z",
     "iopub.status.busy": "2023-10-15T15:20:58.267381Z",
     "iopub.status.idle": "2023-10-15T15:23:57.872055Z",
     "shell.execute_reply": "2023-10-15T15:23:57.870896Z",
     "shell.execute_reply.started": "2023-10-15T15:20:58.267718Z"
    },
    "trusted": true
   },
   "outputs": [],
   "source": [
    "# part 10\n",
    "download_data_part('https://drive.google.com/file/d/1TQI49qhcDKSX0222sAQxDsQZVbZnjlBP/view?usp=drive_link','dataset_part10.zip')"
   ]
  },
  {
   "cell_type": "code",
   "execution_count": null,
   "metadata": {
    "execution": {
     "iopub.execute_input": "2023-10-15T15:26:40.298184Z",
     "iopub.status.busy": "2023-10-15T15:26:40.296989Z",
     "iopub.status.idle": "2023-10-15T15:33:06.338387Z",
     "shell.execute_reply": "2023-10-15T15:33:06.337276Z",
     "shell.execute_reply.started": "2023-10-15T15:26:40.298134Z"
    },
    "trusted": true
   },
   "outputs": [],
   "source": [
    "add_for_part_hubert(10)"
   ]
  },
  {
   "cell_type": "code",
   "execution_count": null,
   "metadata": {
    "execution": {
     "iopub.execute_input": "2023-10-15T15:51:44.366475Z",
     "iopub.status.busy": "2023-10-15T15:51:44.366044Z",
     "iopub.status.idle": "2023-10-15T15:52:15.016255Z",
     "shell.execute_reply": "2023-10-15T15:52:15.015130Z",
     "shell.execute_reply.started": "2023-10-15T15:51:44.366444Z"
    },
    "trusted": true
   },
   "outputs": [],
   "source": [
    "with open('total_dataset_v6.pkl', 'rb') as f:\n",
    "    total_dataset_v2 = pickle.load(f)\n",
    "c = 0\n",
    "split = 'validation'\n",
    "for j, i in enumerate(total_dataset_v2[split]['hubert-emb']):\n",
    "    if i != '' and total_dataset_v2[split]['source'][j] == 'brown':\n",
    "        if c < 2 :\n",
    "            print(i)\n",
    "            print(total_dataset_v2[split]['hubert-emb'][j].shape)\n",
    "        c += 1\n",
    "print(c)\n",
    "del total_dataset_v2"
   ]
  },
  {
   "cell_type": "code",
   "execution_count": null,
   "metadata": {
    "execution": {
     "iopub.execute_input": "2023-10-15T15:53:18.126400Z",
     "iopub.status.busy": "2023-10-15T15:53:18.125533Z",
     "iopub.status.idle": "2023-10-15T15:53:18.564362Z",
     "shell.execute_reply": "2023-10-15T15:53:18.563066Z",
     "shell.execute_reply.started": "2023-10-15T15:53:18.126361Z"
    },
    "trusted": true
   },
   "outputs": [],
   "source": [
    "gc.collect()"
   ]
  },
  {
   "cell_type": "code",
   "execution_count": null,
   "metadata": {
    "execution": {
     "iopub.execute_input": "2023-10-15T15:53:22.328926Z",
     "iopub.status.busy": "2023-10-15T15:53:22.328350Z",
     "iopub.status.idle": "2023-10-15T15:53:22.730733Z",
     "shell.execute_reply": "2023-10-15T15:53:22.729654Z",
     "shell.execute_reply.started": "2023-10-15T15:53:22.328887Z"
    },
    "trusted": true
   },
   "outputs": [],
   "source": [
    "rmtree('dataset_part10')"
   ]
  },
  {
   "cell_type": "code",
   "execution_count": null,
   "metadata": {
    "execution": {
     "iopub.execute_input": "2023-10-15T15:53:26.453833Z",
     "iopub.status.busy": "2023-10-15T15:53:26.452867Z",
     "iopub.status.idle": "2023-10-15T15:53:27.715040Z",
     "shell.execute_reply": "2023-10-15T15:53:27.713704Z",
     "shell.execute_reply.started": "2023-10-15T15:53:26.453800Z"
    },
    "trusted": true
   },
   "outputs": [],
   "source": [
    "!rm 'total_dataset_v6_backup.pkl'"
   ]
  },
  {
   "cell_type": "code",
   "execution_count": null,
   "metadata": {
    "execution": {
     "iopub.execute_input": "2023-10-15T15:53:32.056679Z",
     "iopub.status.busy": "2023-10-15T15:53:32.056300Z",
     "iopub.status.idle": "2023-10-15T15:53:33.326012Z",
     "shell.execute_reply": "2023-10-15T15:53:33.324641Z",
     "shell.execute_reply.started": "2023-10-15T15:53:32.056649Z"
    },
    "trusted": true
   },
   "outputs": [],
   "source": [
    "!rm 'total_dataset_v5.pkl'"
   ]
  },
  {
   "cell_type": "code",
   "execution_count": null,
   "metadata": {
    "execution": {
     "iopub.execute_input": "2023-10-15T15:53:45.626515Z",
     "iopub.status.busy": "2023-10-15T15:53:45.626137Z",
     "iopub.status.idle": "2023-10-15T15:54:39.118827Z",
     "shell.execute_reply": "2023-10-15T15:54:39.117133Z",
     "shell.execute_reply.started": "2023-10-15T15:53:45.626486Z"
    },
    "trusted": true
   },
   "outputs": [],
   "source": [
    "with open('total_dataset_v6.pkl', 'rb') as f:\n",
    "    total_dataset_v2 = pickle.load(f)\n",
    "with open('total_dataset_v7.pkl', 'wb') as f:\n",
    "    pickle.dump(total_dataset_v2, f)\n",
    "del total_dataset_v2"
   ]
  },
  {
   "cell_type": "markdown",
   "metadata": {},
   "source": [
    "## Common Voice"
   ]
  },
  {
   "cell_type": "code",
   "execution_count": null,
   "metadata": {
    "execution": {
     "iopub.execute_input": "2023-10-15T15:54:39.123120Z",
     "iopub.status.busy": "2023-10-15T15:54:39.122728Z",
     "iopub.status.idle": "2023-10-15T15:54:39.136230Z",
     "shell.execute_reply": "2023-10-15T15:54:39.135263Z",
     "shell.execute_reply.started": "2023-10-15T15:54:39.123087Z"
    },
    "trusted": true
   },
   "outputs": [],
   "source": [
    "def add_hubert_to_common_voice():\n",
    "    with open('total_dataset_v7.pkl', 'rb') as f:\n",
    "        total_dataset = pickle.load(f)\n",
    "    with open('total_dataset_v7_backup.pkl', 'wb') as f:\n",
    "        pickle.dump(total_dataset, f)\n",
    "    item_indexes = []\n",
    "    audio_pathes = []\n",
    "    split = 'train'\n",
    "    gc.collect()\n",
    "    for i, audio_path in enumerate(total_dataset[split]['audio_path']):\n",
    "        if total_dataset[split]['source'][i] != 'common_voice':\n",
    "            continue\n",
    "        item_indexes.append(i)\n",
    "        audio_pathes.append(total_dataset[split]['audio_path'][i])\n",
    "    print(len(item_indexes))\n",
    "    embeddings = hubert_audio_files(audio_pathes)\n",
    "    all_embeddings = np.concatenate(embeddings, axis=0)\n",
    "    embeddings = [torch.from_numpy(emb) for emb in all_embeddings]\n",
    "    \n",
    "    for i, item_index in enumerate(item_indexes):\n",
    "        total_dataset[split]['hubert-emb'][item_index] = embeddings[i]\n",
    "    \n",
    "    item_indexes = []\n",
    "    audio_pathes = []\n",
    "    split = 'validation'\n",
    "    gc.collect()\n",
    "    for i, audio_path in enumerate(total_dataset[split]['audio_path']):\n",
    "        if total_dataset[split]['source'][i] != 'common_voice':\n",
    "            continue\n",
    "        item_indexes.append(i)\n",
    "        audio_pathes.append(total_dataset[split]['audio_path'][i])\n",
    "    print(len(item_indexes))\n",
    "    embeddings = hubert_audio_files(audio_pathes)\n",
    "    all_embeddings = np.concatenate(embeddings, axis=0)\n",
    "    embeddings = [torch.from_numpy(emb) for emb in all_embeddings]\n",
    "    \n",
    "    for i, item_index in enumerate(item_indexes):\n",
    "        total_dataset[split]['hubert-emb'][item_index] = embeddings[i]\n",
    "    \n",
    "    item_indexes = []\n",
    "    audio_pathes = []\n",
    "    split = 'test'\n",
    "    gc.collect()\n",
    "    for i, audio_path in enumerate(total_dataset[split]['audio_path']):\n",
    "        if total_dataset[split]['source'][i] != 'common_voice':\n",
    "            continue\n",
    "        item_indexes.append(i)\n",
    "        audio_pathes.append(total_dataset[split]['audio_path'][i])\n",
    "    print(len(item_indexes))\n",
    "    embeddings = hubert_audio_files(audio_pathes)\n",
    "    all_embeddings = np.concatenate(embeddings, axis=0)\n",
    "    embeddings = [torch.from_numpy(emb) for emb in all_embeddings]\n",
    "    \n",
    "    for i, item_index in enumerate(item_indexes):\n",
    "        total_dataset[split]['hubert-emb'][item_index] = embeddings[i]\n",
    "        \n",
    "        \n",
    "    with open('total_dataset_v7.pkl', 'wb') as f:\n",
    "        pickle.dump(total_dataset, f)"
   ]
  },
  {
   "cell_type": "code",
   "execution_count": null,
   "metadata": {
    "execution": {
     "iopub.execute_input": "2023-10-15T15:54:39.138702Z",
     "iopub.status.busy": "2023-10-15T15:54:39.137489Z",
     "iopub.status.idle": "2023-10-15T17:02:28.960176Z",
     "shell.execute_reply": "2023-10-15T17:02:28.956695Z",
     "shell.execute_reply.started": "2023-10-15T15:54:39.138644Z"
    },
    "trusted": true
   },
   "outputs": [],
   "source": [
    "add_hubert_to_common_voice()"
   ]
  },
  {
   "cell_type": "code",
   "execution_count": null,
   "metadata": {
    "execution": {
     "iopub.execute_input": "2023-10-15T17:02:46.182422Z",
     "iopub.status.busy": "2023-10-15T17:02:46.181478Z",
     "iopub.status.idle": "2023-10-15T17:02:47.449702Z",
     "shell.execute_reply": "2023-10-15T17:02:47.448285Z",
     "shell.execute_reply.started": "2023-10-15T17:02:46.182380Z"
    },
    "trusted": true
   },
   "outputs": [],
   "source": [
    "!rm 'total_dataset_v7_backup.pkl'"
   ]
  },
  {
   "cell_type": "code",
   "execution_count": null,
   "metadata": {
    "execution": {
     "iopub.execute_input": "2023-10-15T17:02:56.868393Z",
     "iopub.status.busy": "2023-10-15T17:02:56.867997Z",
     "iopub.status.idle": "2023-10-15T17:02:57.361361Z",
     "shell.execute_reply": "2023-10-15T17:02:57.360083Z",
     "shell.execute_reply.started": "2023-10-15T17:02:56.868356Z"
    },
    "trusted": true
   },
   "outputs": [],
   "source": [
    "gc.collect()"
   ]
  },
  {
   "cell_type": "markdown",
   "metadata": {},
   "source": [
    "## FLEURS"
   ]
  },
  {
   "cell_type": "code",
   "execution_count": null,
   "metadata": {
    "execution": {
     "iopub.execute_input": "2023-10-15T17:03:00.305001Z",
     "iopub.status.busy": "2023-10-15T17:03:00.303866Z",
     "iopub.status.idle": "2023-10-15T17:05:29.427513Z",
     "shell.execute_reply": "2023-10-15T17:05:29.426550Z",
     "shell.execute_reply.started": "2023-10-15T17:03:00.304937Z"
    },
    "trusted": true
   },
   "outputs": [],
   "source": [
    "fleurs_retrieval = load_dataset(\"google/fleurs\", \"en_us\")"
   ]
  },
  {
   "cell_type": "code",
   "execution_count": null,
   "metadata": {
    "execution": {
     "iopub.execute_input": "2023-10-15T17:19:53.454879Z",
     "iopub.status.busy": "2023-10-15T17:19:53.454502Z",
     "iopub.status.idle": "2023-10-15T17:19:54.746149Z",
     "shell.execute_reply": "2023-10-15T17:19:54.744693Z",
     "shell.execute_reply.started": "2023-10-15T17:19:53.454848Z"
    },
    "trusted": true
   },
   "outputs": [],
   "source": [
    "!rm 'total_dataset_hubert_v8.pkl'"
   ]
  },
  {
   "cell_type": "code",
   "execution_count": null,
   "metadata": {
    "execution": {
     "iopub.execute_input": "2023-10-15T17:18:25.959041Z",
     "iopub.status.busy": "2023-10-15T17:18:25.957821Z",
     "iopub.status.idle": "2023-10-15T17:19:41.204941Z",
     "shell.execute_reply": "2023-10-15T17:19:41.203823Z",
     "shell.execute_reply.started": "2023-10-15T17:18:25.958987Z"
    },
    "trusted": true
   },
   "outputs": [],
   "source": [
    "with open('total_dataset_hubert_v8.pkl', 'rb') as f:\n",
    "    total_dataset_v2 = pickle.load(f)\n",
    "with open('total_dataset_v8.pkl', 'wb') as f:\n",
    "    pickle.dump(total_dataset_v2, f)\n",
    "del total_dataset_v2"
   ]
  },
  {
   "cell_type": "code",
   "execution_count": null,
   "metadata": {
    "execution": {
     "iopub.execute_input": "2023-10-15T17:06:39.897062Z",
     "iopub.status.busy": "2023-10-15T17:06:39.896690Z",
     "iopub.status.idle": "2023-10-15T17:06:39.908151Z",
     "shell.execute_reply": "2023-10-15T17:06:39.907030Z",
     "shell.execute_reply.started": "2023-10-15T17:06:39.897031Z"
    },
    "trusted": true
   },
   "outputs": [],
   "source": [
    "def add_hubert_fleurs():\n",
    "    with open('total_dataset_v8.pkl', 'rb') as f:\n",
    "        total_dataset = pickle.load(f)\n",
    "    with open('total_dataset_v8_backup.pkl', 'wb') as f:\n",
    "        pickle.dump(total_dataset, f)\n",
    "    item_indexes = []\n",
    "    audio_pathes = []\n",
    "    split = 'train'\n",
    "    gc.collect()\n",
    "    for i, audio_path in enumerate(total_dataset[split]['audio_path']):\n",
    "        if total_dataset[split]['source'][i] != 'fleurs':\n",
    "            continue\n",
    "        item_indexes.append(i)\n",
    "        audio_pathes.append(total_dataset[split]['audio_path'][i])\n",
    "    print(len(item_indexes))\n",
    "    embeddings = hubert_audio_files(audio_pathes)\n",
    "    all_embeddings = np.concatenate(embeddings, axis=0)\n",
    "    embeddings = [torch.from_numpy(emb) for emb in all_embeddings]\n",
    "    \n",
    "    for i, item_index in enumerate(item_indexes):\n",
    "        total_dataset[split]['hubert-emb'][item_index] = embeddings[i]\n",
    "    \n",
    "    item_indexes = []\n",
    "    audio_pathes = []\n",
    "    split = 'validation'\n",
    "    gc.collect()\n",
    "    for i, audio_path in enumerate(total_dataset[split]['audio_path']):\n",
    "        if total_dataset[split]['source'][i] != 'fleurs':\n",
    "            continue\n",
    "        item_indexes.append(i)\n",
    "        audio_pathes.append(total_dataset[split]['audio_path'][i])\n",
    "    print(len(item_indexes))\n",
    "    embeddings = hubert_audio_files(audio_pathes)\n",
    "    all_embeddings = np.concatenate(embeddings, axis=0)\n",
    "    embeddings = [torch.from_numpy(emb) for emb in all_embeddings]\n",
    "    \n",
    "    for i, item_index in enumerate(item_indexes):\n",
    "        total_dataset[split]['hubert-emb'][item_index] = embeddings[i]\n",
    "    \n",
    "    item_indexes = []\n",
    "    audio_pathes = []\n",
    "    split = 'test'\n",
    "    gc.collect()\n",
    "    for i, audio_path in enumerate(total_dataset[split]['audio_path']):\n",
    "        if total_dataset[split]['source'][i] != 'fleurs':\n",
    "            continue\n",
    "        item_indexes.append(i)\n",
    "        audio_pathes.append(total_dataset[split]['audio_path'][i])\n",
    "    print(len(item_indexes))\n",
    "    embeddings = hubert_audio_files(audio_pathes)\n",
    "    all_embeddings = np.concatenate(embeddings, axis=0)\n",
    "    embeddings = [torch.from_numpy(emb) for emb in all_embeddings]\n",
    "    \n",
    "    for i, item_index in enumerate(item_indexes):\n",
    "        total_dataset[split]['hubert-emb'][item_index] = embeddings[i]\n",
    "\n",
    "        \n",
    "    with open('total_dataset_hubert_v8.pkl', 'wb') as f:\n",
    "        pickle.dump(total_dataset, f)"
   ]
  },
  {
   "cell_type": "code",
   "execution_count": null,
   "metadata": {
    "execution": {
     "iopub.execute_input": "2023-10-15T17:06:39.911757Z",
     "iopub.status.busy": "2023-10-15T17:06:39.911388Z",
     "iopub.status.idle": "2023-10-15T17:15:02.778650Z",
     "shell.execute_reply": "2023-10-15T17:15:02.776916Z",
     "shell.execute_reply.started": "2023-10-15T17:06:39.911713Z"
    },
    "trusted": true
   },
   "outputs": [],
   "source": [
    "add_hubert_fleurs()"
   ]
  },
  {
   "cell_type": "code",
   "execution_count": null,
   "metadata": {
    "execution": {
     "iopub.execute_input": "2023-10-15T17:16:59.334967Z",
     "iopub.status.busy": "2023-10-15T17:16:59.333902Z",
     "iopub.status.idle": "2023-10-15T17:17:00.719353Z",
     "shell.execute_reply": "2023-10-15T17:17:00.717879Z",
     "shell.execute_reply.started": "2023-10-15T17:16:59.334907Z"
    },
    "trusted": true
   },
   "outputs": [],
   "source": [
    "! rm \"total_dataset_v8_backup.pkl\""
   ]
  },
  {
   "cell_type": "code",
   "execution_count": null,
   "metadata": {
    "execution": {
     "iopub.execute_input": "2023-10-15T17:20:53.820585Z",
     "iopub.status.busy": "2023-10-15T17:20:53.820175Z",
     "iopub.status.idle": "2023-10-15T17:21:31.567399Z",
     "shell.execute_reply": "2023-10-15T17:21:31.566272Z",
     "shell.execute_reply.started": "2023-10-15T17:20:53.820553Z"
    },
    "trusted": true
   },
   "outputs": [],
   "source": [
    "gc.collect()\n",
    "with open('total_dataset_v8.pkl', 'rb') as f:\n",
    "    total_dataset_v2 = pickle.load(f)"
   ]
  },
  {
   "cell_type": "code",
   "execution_count": null,
   "metadata": {
    "execution": {
     "iopub.execute_input": "2023-10-15T17:22:52.394528Z",
     "iopub.status.busy": "2023-10-15T17:22:52.394098Z",
     "iopub.status.idle": "2023-10-15T17:22:54.120003Z",
     "shell.execute_reply": "2023-10-15T17:22:54.118825Z",
     "shell.execute_reply.started": "2023-10-15T17:22:52.394490Z"
    },
    "trusted": true
   },
   "outputs": [],
   "source": [
    "c = 0\n",
    "split = 'train'\n",
    "for j, i in enumerate(total_dataset_v2[split]['hubert-emb']):\n",
    "    if i == '' or total_dataset_v2[split]['hubert-emb'][j].shape[0] != 1024:\n",
    "        c += 1\n",
    "print(c)"
   ]
  },
  {
   "cell_type": "code",
   "execution_count": null,
   "metadata": {
    "execution": {
     "iopub.execute_input": "2023-10-15T17:24:28.226016Z",
     "iopub.status.busy": "2023-10-15T17:24:28.225631Z",
     "iopub.status.idle": "2023-10-15T17:24:28.232833Z",
     "shell.execute_reply": "2023-10-15T17:24:28.231732Z",
     "shell.execute_reply.started": "2023-10-15T17:24:28.225984Z"
    },
    "trusted": true
   },
   "outputs": [],
   "source": [
    "total_dataset_v2['validation']['hubert-emb'][0].shape"
   ]
  },
  {
   "cell_type": "code",
   "execution_count": null,
   "metadata": {
    "execution": {
     "iopub.execute_input": "2023-10-15T17:29:42.356776Z",
     "iopub.status.busy": "2023-10-15T17:29:42.356402Z",
     "iopub.status.idle": "2023-10-15T17:29:42.363868Z",
     "shell.execute_reply": "2023-10-15T17:29:42.362773Z",
     "shell.execute_reply.started": "2023-10-15T17:29:42.356746Z"
    },
    "trusted": true
   },
   "outputs": [],
   "source": [
    "len(total_dataset_v2['test']['hubert-emb'])"
   ]
  },
  {
   "cell_type": "code",
   "execution_count": null,
   "metadata": {
    "execution": {
     "iopub.execute_input": "2023-10-15T17:29:42.901089Z",
     "iopub.status.busy": "2023-10-15T17:29:42.899859Z",
     "iopub.status.idle": "2023-10-15T17:29:42.907611Z",
     "shell.execute_reply": "2023-10-15T17:29:42.906537Z",
     "shell.execute_reply.started": "2023-10-15T17:29:42.901043Z"
    },
    "trusted": true
   },
   "outputs": [],
   "source": [
    "len(total_dataset_v2['validation']['hubert-emb'])"
   ]
  },
  {
   "cell_type": "code",
   "execution_count": null,
   "metadata": {
    "execution": {
     "iopub.execute_input": "2023-10-15T17:29:51.029424Z",
     "iopub.status.busy": "2023-10-15T17:29:51.029007Z",
     "iopub.status.idle": "2023-10-15T17:29:51.035409Z",
     "shell.execute_reply": "2023-10-15T17:29:51.034327Z",
     "shell.execute_reply.started": "2023-10-15T17:29:51.029394Z"
    },
    "trusted": true
   },
   "outputs": [],
   "source": [
    "len(total_dataset_v2['train']['hubert-emb'])"
   ]
  },
  {
   "cell_type": "code",
   "execution_count": null,
   "metadata": {
    "execution": {
     "iopub.execute_input": "2023-10-15T17:29:30.045826Z",
     "iopub.status.busy": "2023-10-15T17:29:30.045389Z",
     "iopub.status.idle": "2023-10-15T17:29:30.403971Z",
     "shell.execute_reply": "2023-10-15T17:29:30.402754Z",
     "shell.execute_reply.started": "2023-10-15T17:29:30.045793Z"
    },
    "trusted": true
   },
   "outputs": [],
   "source": [
    "def keep_until_empty(input_list):\n",
    "    output_list = []\n",
    "    for item in input_list:\n",
    "        if item == '':\n",
    "            break\n",
    "        output_list.append(item)\n",
    "    return output_list\n",
    "\n",
    "total_dataset_v2['validation']['hubert-emb'] = keep_until_empty(total_dataset_v2['validation']['hubert-emb'])\n",
    "total_dataset_v2['test']['hubert-emb'] = keep_until_empty(total_dataset_v2['test']['hubert-emb'])"
   ]
  },
  {
   "cell_type": "code",
   "execution_count": null,
   "metadata": {
    "execution": {
     "iopub.execute_input": "2023-10-15T17:30:06.596700Z",
     "iopub.status.busy": "2023-10-15T17:30:06.596332Z",
     "iopub.status.idle": "2023-10-15T17:30:08.530993Z",
     "shell.execute_reply": "2023-10-15T17:30:08.529801Z",
     "shell.execute_reply.started": "2023-10-15T17:30:06.596671Z"
    },
    "trusted": true
   },
   "outputs": [],
   "source": [
    "c = 0\n",
    "split = 'train'\n",
    "for j, i in enumerate(total_dataset_v2[split]['audio']):\n",
    "    if total_dataset_v2[split]['hubert-emb'][j] == '' or total_dataset_v2[split]['hubert-emb'][j].shape[0] != 1024:\n",
    "        c += 1\n",
    "print(c)"
   ]
  },
  {
   "cell_type": "code",
   "execution_count": null,
   "metadata": {
    "execution": {
     "iopub.execute_input": "2023-10-15T17:30:38.676409Z",
     "iopub.status.busy": "2023-10-15T17:30:38.676046Z",
     "iopub.status.idle": "2023-10-15T17:31:11.799893Z",
     "shell.execute_reply": "2023-10-15T17:31:11.798491Z",
     "shell.execute_reply.started": "2023-10-15T17:30:38.676383Z"
    },
    "trusted": true
   },
   "outputs": [],
   "source": [
    "with open('total_dataset_v8.pkl', 'wb') as f:\n",
    "    pickle.dump(total_dataset_v2, f)"
   ]
  },
  {
   "cell_type": "code",
   "execution_count": null,
   "metadata": {
    "execution": {
     "iopub.execute_input": "2023-10-15T17:31:14.893268Z",
     "iopub.status.busy": "2023-10-15T17:31:14.892876Z",
     "iopub.status.idle": "2023-10-15T17:31:14.910293Z",
     "shell.execute_reply": "2023-10-15T17:31:14.909282Z",
     "shell.execute_reply.started": "2023-10-15T17:31:14.893235Z"
    },
    "trusted": true
   },
   "outputs": [],
   "source": [
    "del total_dataset_v2"
   ]
  },
  {
   "cell_type": "code",
   "execution_count": null,
   "metadata": {
    "execution": {
     "iopub.execute_input": "2023-10-15T17:53:05.224171Z",
     "iopub.status.busy": "2023-10-15T17:53:05.223735Z",
     "iopub.status.idle": "2023-10-15T17:53:05.250413Z",
     "shell.execute_reply": "2023-10-15T17:53:05.249430Z",
     "shell.execute_reply.started": "2023-10-15T17:53:05.224137Z"
    },
    "trusted": true
   },
   "outputs": [],
   "source": [
    "from IPython.display import FileLink\n",
    "FileLink('total_dataset_v9.pkl')"
   ]
  },
  {
   "cell_type": "markdown",
   "metadata": {},
   "source": [
    "# Add Roberta Embeddings to Data"
   ]
  },
  {
   "cell_type": "code",
   "execution_count": null,
   "metadata": {
    "execution": {
     "iopub.execute_input": "2023-10-15T17:45:23.122007Z",
     "iopub.status.busy": "2023-10-15T17:45:23.121567Z",
     "iopub.status.idle": "2023-10-15T17:47:07.416642Z",
     "shell.execute_reply": "2023-10-15T17:47:07.415640Z",
     "shell.execute_reply.started": "2023-10-15T17:45:23.121965Z"
    },
    "trusted": true
   },
   "outputs": [],
   "source": [
    "from sentence_transformers import SentenceTransformer\n",
    "sentences = [\"This is an example sentence\", \"Each sentence is converted\"]\n",
    "\n",
    "xlmr_model = SentenceTransformer('sentence-transformers/paraphrase-xlm-r-multilingual-v1').to(device)\n",
    "embeddings = xlmr_model.encode(sentences)\n",
    "\n",
    "gc.collect()"
   ]
  },
  {
   "cell_type": "code",
   "execution_count": null,
   "metadata": {
    "execution": {
     "iopub.execute_input": "2023-10-15T17:47:07.419484Z",
     "iopub.status.busy": "2023-10-15T17:47:07.418362Z",
     "iopub.status.idle": "2023-10-15T17:47:45.574080Z",
     "shell.execute_reply": "2023-10-15T17:47:45.570675Z",
     "shell.execute_reply.started": "2023-10-15T17:47:07.419447Z"
    },
    "trusted": true
   },
   "outputs": [],
   "source": [
    "with open('total_dataset_v8.pkl', 'rb') as f:\n",
    "    total_dataset = pickle.load(f)"
   ]
  },
  {
   "cell_type": "code",
   "execution_count": null,
   "metadata": {
    "execution": {
     "iopub.execute_input": "2023-10-15T17:48:17.410349Z",
     "iopub.status.busy": "2023-10-15T17:48:17.409970Z",
     "iopub.status.idle": "2023-10-15T17:50:13.780171Z",
     "shell.execute_reply": "2023-10-15T17:50:13.779143Z",
     "shell.execute_reply.started": "2023-10-15T17:48:17.410317Z"
    },
    "trusted": true
   },
   "outputs": [],
   "source": [
    "embeddings = xlmr_model.encode(total_dataset['train']['pure-text'])\n",
    "total_dataset['train']['xlmr-emb'] = [torch.from_numpy(emb) for emb in embeddings]\n",
    "\n",
    "embeddings = xlmr_model.encode(total_dataset['validation']['pure-text'])\n",
    "total_dataset['validation']['xlmr-emb'] = [torch.from_numpy(emb) for emb in embeddings]\n",
    "\n",
    "embeddings = xlmr_model.encode(total_dataset['test']['pure-text'])\n",
    "total_dataset['test']['xlmr-emb'] = [torch.from_numpy(emb) for emb in embeddings]"
   ]
  },
  {
   "cell_type": "code",
   "execution_count": null,
   "metadata": {
    "execution": {
     "iopub.execute_input": "2023-10-15T17:51:25.691034Z",
     "iopub.status.busy": "2023-10-15T17:51:25.689840Z",
     "iopub.status.idle": "2023-10-15T17:51:25.698505Z",
     "shell.execute_reply": "2023-10-15T17:51:25.697314Z",
     "shell.execute_reply.started": "2023-10-15T17:51:25.690981Z"
    },
    "trusted": true
   },
   "outputs": [],
   "source": [
    "print(len(total_dataset['validation']['hubert-emb']))\n",
    "print(len(total_dataset['test']['hubert-emb']))\n",
    "print(len(total_dataset['train']['hubert-emb']))\n",
    "print(len(total_dataset['validation']['xlmr-emb']))\n",
    "print(len(total_dataset['test']['xlmr-emb']))\n",
    "print(len(total_dataset['train']['xlmr-emb']))"
   ]
  },
  {
   "cell_type": "code",
   "execution_count": null,
   "metadata": {
    "execution": {
     "iopub.execute_input": "2023-10-15T17:51:57.402000Z",
     "iopub.status.busy": "2023-10-15T17:51:57.401597Z",
     "iopub.status.idle": "2023-10-15T17:51:57.408692Z",
     "shell.execute_reply": "2023-10-15T17:51:57.407552Z",
     "shell.execute_reply.started": "2023-10-15T17:51:57.401938Z"
    },
    "trusted": true
   },
   "outputs": [],
   "source": [
    "total_dataset['validation']['xlmr-emb'][0].shape"
   ]
  },
  {
   "cell_type": "code",
   "execution_count": null,
   "metadata": {
    "execution": {
     "iopub.execute_input": "2023-10-15T17:52:01.677065Z",
     "iopub.status.busy": "2023-10-15T17:52:01.675833Z",
     "iopub.status.idle": "2023-10-15T17:52:44.569119Z",
     "shell.execute_reply": "2023-10-15T17:52:44.568024Z",
     "shell.execute_reply.started": "2023-10-15T17:52:01.677010Z"
    },
    "trusted": true
   },
   "outputs": [],
   "source": [
    "with open('total_dataset_v9.pkl', 'wb') as f:\n",
    "    pickle.dump(total_dataset, f)"
   ]
  },
  {
   "cell_type": "code",
   "execution_count": null,
   "metadata": {},
   "outputs": [],
   "source": []
  }
 ],
 "metadata": {
  "kaggle": {
   "accelerator": "none",
   "dataSources": [
    {
     "datasetId": 1499642,
     "sourceId": 2477879,
     "sourceType": "datasetVersion"
    }
   ],
   "dockerImageVersionId": 30528,
   "isGpuEnabled": false,
   "isInternetEnabled": true,
   "language": "python",
   "sourceType": "notebook"
  },
  "kernelspec": {
   "display_name": "Python 3",
   "language": "python",
   "name": "python3"
  },
  "language_info": {
   "codemirror_mode": {
    "name": "ipython",
    "version": 3
   },
   "file_extension": ".py",
   "mimetype": "text/x-python",
   "name": "python",
   "nbconvert_exporter": "python",
   "pygments_lexer": "ipython3",
   "version": "3.10.12"
  }
 },
 "nbformat": 4,
 "nbformat_minor": 4
}
