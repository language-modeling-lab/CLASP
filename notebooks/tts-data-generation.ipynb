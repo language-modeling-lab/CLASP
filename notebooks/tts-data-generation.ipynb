{
 "cells": [
  {
   "cell_type": "code",
   "execution_count": null,
   "metadata": {
    "_cell_guid": "b1076dfc-b9ad-4769-8c92-a6c4dae69d19",
    "_uuid": "8f2839f25d086af736a60e9eeb907d3b93b6e0e5",
    "execution": {
     "iopub.execute_input": "2023-05-08T11:54:31.888111Z",
     "iopub.status.busy": "2023-05-08T11:54:31.887594Z",
     "iopub.status.idle": "2023-05-08T11:55:04.746363Z",
     "shell.execute_reply": "2023-05-08T11:55:04.745134Z",
     "shell.execute_reply.started": "2023-05-08T11:54:31.888082Z"
    },
    "trusted": true
   },
   "outputs": [],
   "source": [
    "!pip install numpy scipy librosa unidecode inflect librosa\n",
    "!apt-get update\n",
    "!apt-get install -y libsndfile1"
   ]
  },
  {
   "cell_type": "code",
   "execution_count": null,
   "metadata": {
    "execution": {
     "iopub.execute_input": "2023-05-08T11:55:04.749464Z",
     "iopub.status.busy": "2023-05-08T11:55:04.749033Z",
     "iopub.status.idle": "2023-05-08T11:55:08.171559Z",
     "shell.execute_reply": "2023-05-08T11:55:08.170527Z",
     "shell.execute_reply.started": "2023-05-08T11:55:04.749419Z"
    },
    "trusted": true
   },
   "outputs": [],
   "source": [
    "from scipy.io.wavfile import write\n",
    "import torch\n",
    "from IPython.display import Audio\n",
    "import nltk\n",
    "from nltk.corpus import brown\n",
    "import os\n",
    "from tqdm import tqdm\n",
    "import pandas as pd\n",
    "import shutil\n",
    "import json\n",
    "import gc\n",
    "import re\n",
    "from IPython.display import FileLink"
   ]
  },
  {
   "cell_type": "code",
   "execution_count": null,
   "metadata": {
    "execution": {
     "iopub.execute_input": "2023-05-08T11:55:08.173963Z",
     "iopub.status.busy": "2023-05-08T11:55:08.172847Z",
     "iopub.status.idle": "2023-05-08T11:55:08.276868Z",
     "shell.execute_reply": "2023-05-08T11:55:08.275576Z",
     "shell.execute_reply.started": "2023-05-08T11:55:08.173931Z"
    },
    "trusted": true
   },
   "outputs": [],
   "source": [
    "device = torch.device(\"cuda\" if torch.cuda.is_available() else \"cpu\")\n",
    "device"
   ]
  },
  {
   "cell_type": "code",
   "execution_count": null,
   "metadata": {
    "execution": {
     "iopub.execute_input": "2023-05-08T11:55:08.281801Z",
     "iopub.status.busy": "2023-05-08T11:55:08.279992Z",
     "iopub.status.idle": "2023-05-08T11:55:32.675156Z",
     "shell.execute_reply": "2023-05-08T11:55:32.672934Z",
     "shell.execute_reply.started": "2023-05-08T11:55:08.281761Z"
    },
    "trusted": true
   },
   "outputs": [],
   "source": [
    "tacotron2 = torch.hub.load('NVIDIA/DeepLearningExamples:torchhub', 'nvidia_tacotron2', model_math='fp16')\n",
    "tacotron2 = tacotron2.to('cuda')\n",
    "tacotron2.eval()\n",
    "utils = torch.hub.load('NVIDIA/DeepLearningExamples:torchhub', 'nvidia_tts_utils')"
   ]
  },
  {
   "cell_type": "code",
   "execution_count": null,
   "metadata": {
    "execution": {
     "iopub.execute_input": "2023-05-08T11:55:32.677404Z",
     "iopub.status.busy": "2023-05-08T11:55:32.676510Z",
     "iopub.status.idle": "2023-05-08T11:55:32.682855Z",
     "shell.execute_reply": "2023-05-08T11:55:32.681494Z",
     "shell.execute_reply.started": "2023-05-08T11:55:32.677363Z"
    },
    "trusted": true
   },
   "outputs": [],
   "source": [
    "tacotron2.decoder.max_decoder_steps = 3000"
   ]
  },
  {
   "cell_type": "code",
   "execution_count": null,
   "metadata": {
    "execution": {
     "iopub.execute_input": "2023-05-08T11:55:32.685324Z",
     "iopub.status.busy": "2023-05-08T11:55:32.684183Z",
     "iopub.status.idle": "2023-05-08T11:56:02.533040Z",
     "shell.execute_reply": "2023-05-08T11:56:02.531792Z",
     "shell.execute_reply.started": "2023-05-08T11:55:32.685283Z"
    },
    "trusted": true
   },
   "outputs": [],
   "source": [
    "waveglow = torch.hub.load('NVIDIA/DeepLearningExamples:torchhub', 'nvidia_waveglow', model_math='fp16')\n",
    "waveglow = waveglow.remove_weightnorm(waveglow)\n",
    "waveglow = waveglow.to('cuda')\n",
    "waveglow.eval()\n",
    "print('done')"
   ]
  },
  {
   "cell_type": "code",
   "execution_count": null,
   "metadata": {
    "execution": {
     "iopub.execute_input": "2023-05-08T11:56:02.535055Z",
     "iopub.status.busy": "2023-05-08T11:56:02.534672Z",
     "iopub.status.idle": "2023-05-08T11:56:02.542695Z",
     "shell.execute_reply": "2023-05-08T11:56:02.541589Z",
     "shell.execute_reply.started": "2023-05-08T11:56:02.535015Z"
    },
    "trusted": true
   },
   "outputs": [],
   "source": [
    "def tts(text, rate=16000, write_to_file=False, path='audio.wav', return_auido=True):\n",
    "    sequences, lengths = utils.prepare_input_sequence([text])\n",
    "    with torch.no_grad():\n",
    "        mel, _, _ = tacotron2.infer(sequences, lengths)\n",
    "        audio = waveglow.infer(mel)\n",
    "        audio_numpy = audio[0].data.cpu().numpy()\n",
    "    if write_to_file:\n",
    "        write(path, rate, audio_numpy)\n",
    "    if return_auido:\n",
    "        return Audio(audio_numpy, rate=rate)"
   ]
  },
  {
   "cell_type": "code",
   "execution_count": null,
   "metadata": {
    "execution": {
     "iopub.execute_input": "2023-05-07T16:35:22.981618Z",
     "iopub.status.busy": "2023-05-07T16:35:22.981129Z",
     "iopub.status.idle": "2023-05-07T16:35:22.993435Z",
     "shell.execute_reply": "2023-05-07T16:35:22.992356Z",
     "shell.execute_reply.started": "2023-05-07T16:35:22.981575Z"
    },
    "trusted": true
   },
   "outputs": [],
   "source": [
    "def tts2(text, rate=16000, write_to_file=False, path='audio.wav', return_auido=True, threshold=20):\n",
    "    sequences, lengths = utils.prepare_input_sequence([text])\n",
    "    with torch.no_grad():\n",
    "        mel, _, _ = tacotron2.infer(sequences, lengths)\n",
    "        audio = waveglow.infer(mel)\n",
    "        audio_numpy = audio[0].data.cpu().numpy()\n",
    "    if len(audio_numpy) // rate > threshold:\n",
    "        print(f'not accepted because length is {len(audio_numpy) // rate} for path {path}')\n",
    "        return False\n",
    "    if write_to_file:\n",
    "        write(path, rate, audio_numpy)\n",
    "        return True\n",
    "    if return_auido:\n",
    "        return Audio(audio_numpy, rate=rate)"
   ]
  },
  {
   "cell_type": "code",
   "execution_count": null,
   "metadata": {
    "trusted": true
   },
   "outputs": [],
   "source": [
    "os.makedirs('dataset', exist_ok=True)"
   ]
  },
  {
   "cell_type": "code",
   "execution_count": null,
   "metadata": {
    "execution": {
     "iopub.execute_input": "2023-05-07T15:44:27.524727Z",
     "iopub.status.busy": "2023-05-07T15:44:27.523666Z",
     "iopub.status.idle": "2023-05-07T15:44:31.221716Z",
     "shell.execute_reply": "2023-05-07T15:44:31.220627Z",
     "shell.execute_reply.started": "2023-05-07T15:44:27.524684Z"
    },
    "trusted": true
   },
   "outputs": [],
   "source": [
    "nltk.download('brown')\n",
    "\n",
    "sentences = brown.sents()\n",
    "len(sentences)"
   ]
  },
  {
   "cell_type": "code",
   "execution_count": null,
   "metadata": {
    "execution": {
     "iopub.execute_input": "2023-05-07T15:50:15.282020Z",
     "iopub.status.busy": "2023-05-07T15:50:15.281614Z",
     "iopub.status.idle": "2023-05-07T15:50:17.794911Z",
     "shell.execute_reply": "2023-05-07T15:50:17.793611Z",
     "shell.execute_reply.started": "2023-05-07T15:50:15.281982Z"
    },
    "trusted": true
   },
   "outputs": [],
   "source": [
    "MAX_LENGTH_ACCEPTABLE = 47\n",
    "max_length = 0\n",
    "max_sentence = None\n",
    "c = 0\n",
    "for item in sentences:\n",
    "    if len(item) > MAX_LENGTH_ACCEPTABLE:\n",
    "        c += 1\n",
    "    if MAX_LENGTH_ACCEPTABLE + 1 > len(item) > max_length :\n",
    "        max_length = len(item)\n",
    "        max_sentence = item\n",
    "print(len(max_sentence))\n",
    "print(len(sentences) - c)"
   ]
  },
  {
   "cell_type": "code",
   "execution_count": null,
   "metadata": {
    "trusted": true
   },
   "outputs": [],
   "source": [
    "print(' '.join(max_sentence))\n",
    "tts(' '.join(max_sentence), rate=22050)"
   ]
  },
  {
   "cell_type": "code",
   "execution_count": null,
   "metadata": {
    "execution": {
     "iopub.execute_input": "2023-05-07T15:50:28.517775Z",
     "iopub.status.busy": "2023-05-07T15:50:28.516618Z",
     "iopub.status.idle": "2023-05-07T15:50:31.353618Z",
     "shell.execute_reply": "2023-05-07T15:50:31.352370Z",
     "shell.execute_reply.started": "2023-05-07T15:50:28.517719Z"
    },
    "trusted": true
   },
   "outputs": [],
   "source": [
    "accepted_sentences = []\n",
    "unaccepted_sentences = []\n",
    "for item in sentences:\n",
    "    if len(item) <= MAX_LENGTH_ACCEPTABLE:\n",
    "        accepted_sentences.append(item)\n",
    "    else:\n",
    "        unaccepted_sentences.append(item)\n",
    "print(len(accepted_sentences))"
   ]
  },
  {
   "cell_type": "code",
   "execution_count": null,
   "metadata": {
    "execution": {
     "iopub.execute_input": "2023-05-07T15:51:17.174951Z",
     "iopub.status.busy": "2023-05-07T15:51:17.174078Z",
     "iopub.status.idle": "2023-05-07T15:51:17.187680Z",
     "shell.execute_reply": "2023-05-07T15:51:17.186430Z",
     "shell.execute_reply.started": "2023-05-07T15:51:17.174900Z"
    },
    "trusted": true
   },
   "outputs": [],
   "source": [
    "unaccepted_sentences.sort(key=lambda x: len(x))\n",
    "len(unaccepted_sentences[0])"
   ]
  },
  {
   "cell_type": "code",
   "execution_count": null,
   "metadata": {
    "execution": {
     "iopub.execute_input": "2023-05-07T16:02:45.255079Z",
     "iopub.status.busy": "2023-05-07T16:02:45.253842Z",
     "iopub.status.idle": "2023-05-07T16:02:54.217817Z",
     "shell.execute_reply": "2023-05-07T16:02:54.216527Z",
     "shell.execute_reply.started": "2023-05-07T16:02:45.255029Z"
    },
    "trusted": true
   },
   "outputs": [],
   "source": [
    "s = ' '.join(unaccepted_sentences[25])\n",
    "print(len(unaccepted_sentences[25]))\n",
    "print(s)\n",
    "a, b = tts(s, rate=22050)"
   ]
  },
  {
   "cell_type": "code",
   "execution_count": null,
   "metadata": {
    "execution": {
     "iopub.execute_input": "2023-05-07T16:03:05.728484Z",
     "iopub.status.busy": "2023-05-07T16:03:05.728023Z",
     "iopub.status.idle": "2023-05-07T16:03:05.739079Z",
     "shell.execute_reply": "2023-05-07T16:03:05.737362Z",
     "shell.execute_reply.started": "2023-05-07T16:03:05.728442Z"
    },
    "trusted": true
   },
   "outputs": [],
   "source": [
    "len(b) // 22050"
   ]
  },
  {
   "cell_type": "code",
   "execution_count": null,
   "metadata": {
    "trusted": true
   },
   "outputs": [],
   "source": [
    "size = len(accepted_sentences) // 10 + 3 \n",
    "sublists = [accepted_sentences[i:i + size] for i in range(0, len(accepted_sentences), size)]\n",
    "print([len(sublists[i]) for i in range(len(sublists))])"
   ]
  },
  {
   "cell_type": "code",
   "execution_count": null,
   "metadata": {
    "trusted": true
   },
   "outputs": [],
   "source": [
    "meta_data = []\n",
    "localized_meta_data = {}\n",
    "BASIC_PATH = 'dataset'\n",
    "c = 0\n",
    "for i, sublist in enumerate(sublists):\n",
    "    part_id = i + 1\n",
    "    BASIC_PATH_PART = f'{BASIC_PATH}/part{part_id}/audios'\n",
    "    local_data = []\n",
    "    for item in sublist:\n",
    "        c += 1\n",
    "        sentence = ' '.join(item)\n",
    "        sentence = re.sub(r'\\s+([?.!\"])', r'\\1', sentence)\n",
    "        path = f'{BASIC_PATH_PART}/audio_{c}.wav'\n",
    "        local_data.append({'id':c,'file_path': path, 'text': sentence})\n",
    "        meta_data.append({'id':c,'file_path': path, 'text': sentence})\n",
    "    localized_meta_data[f'part{part_id}'] = local_data"
   ]
  },
  {
   "cell_type": "code",
   "execution_count": null,
   "metadata": {
    "execution": {
     "iopub.execute_input": "2023-05-08T11:56:02.545006Z",
     "iopub.status.busy": "2023-05-08T11:56:02.544009Z",
     "iopub.status.idle": "2023-05-08T11:56:02.664313Z",
     "shell.execute_reply": "2023-05-08T11:56:02.663186Z",
     "shell.execute_reply.started": "2023-05-08T11:56:02.544970Z"
    },
    "trusted": true
   },
   "outputs": [],
   "source": [
    "BASIC_PATH = 'dataset'\n",
    "META_DATA_LOCALIZED_PATH = f'{BASIC_PATH}/localized_metadata.json'\n",
    "with open(META_DATA_LOCALIZED_PATH, 'r') as f:\n",
    "    localized_meta_data = json.load(f)"
   ]
  },
  {
   "cell_type": "code",
   "execution_count": null,
   "metadata": {
    "execution": {
     "iopub.execute_input": "2023-05-07T16:26:49.786809Z",
     "iopub.status.busy": "2023-05-07T16:26:49.785937Z",
     "iopub.status.idle": "2023-05-07T16:26:49.898755Z",
     "shell.execute_reply": "2023-05-07T16:26:49.897514Z",
     "shell.execute_reply.started": "2023-05-07T16:26:49.786761Z"
    },
    "trusted": true
   },
   "outputs": [],
   "source": [
    "META_DATA_GLOBAL_PATH = f'{BASIC_PATH}/global_metadata.json'\n",
    "with open(META_DATA_GLOBAL_PATH, 'r') as f:\n",
    "    global_meta_data = json.load(f)"
   ]
  },
  {
   "cell_type": "code",
   "execution_count": null,
   "metadata": {
    "trusted": true
   },
   "outputs": [],
   "source": [
    "with open(f'{BASIC_PATH}/global_metadata.json', 'w') as f:\n",
    "    json.dump(meta_data, f)\n",
    "META_DATA_LOCALIZED_PATH = f'{BASIC_PATH}/localized_metadata.json'\n",
    "with open(META_DATA_LOCALIZED_PATH, 'w') as f:\n",
    "    json.dump(localized_meta_data, f)"
   ]
  },
  {
   "cell_type": "code",
   "execution_count": null,
   "metadata": {
    "trusted": true
   },
   "outputs": [],
   "source": [
    "shutil.rmtree(BASIC_PATH)\n",
    "os.makedirs(BASIC_PATH, exist_ok=True)"
   ]
  },
  {
   "cell_type": "code",
   "execution_count": null,
   "metadata": {
    "execution": {
     "iopub.execute_input": "2023-05-08T11:56:02.666191Z",
     "iopub.status.busy": "2023-05-08T11:56:02.665830Z",
     "iopub.status.idle": "2023-05-08T11:56:02.675493Z",
     "shell.execute_reply": "2023-05-08T11:56:02.674141Z",
     "shell.execute_reply.started": "2023-05-08T11:56:02.666147Z"
    },
    "trusted": true
   },
   "outputs": [],
   "source": [
    "os.listdir(BASIC_PATH)"
   ]
  },
  {
   "cell_type": "code",
   "execution_count": null,
   "metadata": {
    "execution": {
     "iopub.execute_input": "2023-05-08T11:56:02.679825Z",
     "iopub.status.busy": "2023-05-08T11:56:02.679521Z",
     "iopub.status.idle": "2023-05-08T11:56:02.689682Z",
     "shell.execute_reply": "2023-05-08T11:56:02.687658Z",
     "shell.execute_reply.started": "2023-05-08T11:56:02.679798Z"
    },
    "trusted": true
   },
   "outputs": [],
   "source": [
    "def create_audios(part_id, meta_data_localized_path, start_index=None):\n",
    "    with open(meta_data_localized_path, 'r') as f:\n",
    "        meta_data = json.load(f)\n",
    "    meta_data = meta_data[f'part{part_id}']\n",
    "    \n",
    "    os.makedirs(f'{BASIC_PATH}/part{part_id}', exist_ok=True)\n",
    "    BASIC_PATH_PART = f'{BASIC_PATH}/part{part_id}/audios'\n",
    "    os.makedirs(BASIC_PATH_PART, exist_ok=True)\n",
    "    \n",
    "    first_index = meta_data[0]['id']\n",
    "    if start_index is None:\n",
    "        start_index = first_index\n",
    "    \n",
    "    for i in tqdm(range(start_index - first_index, len(meta_data))):\n",
    "        tts(meta_data[i]['text'], rate=22050, write_to_file=True, path=meta_data[i]['file_path'], return_auido=False)\n",
    "        \n",
    "        if i % 20 == 0:\n",
    "            gc.collect()\n",
    "            torch.cuda.empty_cache()\n",
    "            torch.cuda.ipc_collect()"
   ]
  },
  {
   "cell_type": "code",
   "execution_count": null,
   "metadata": {
    "trusted": true
   },
   "outputs": [],
   "source": [
    "create_audios(1, META_DATA_LOCALIZED_PATH, start_index=133)"
   ]
  },
  {
   "cell_type": "code",
   "execution_count": null,
   "metadata": {
    "trusted": true
   },
   "outputs": [],
   "source": [
    "shutil.make_archive('dataset_part1', 'zip', f'{BASIC_PATH}/part1')"
   ]
  },
  {
   "cell_type": "code",
   "execution_count": null,
   "metadata": {
    "trusted": true
   },
   "outputs": [],
   "source": [
    "import tarfile\n",
    "with tarfile.open('dataset_part1.tar.gz', 'w:gz') as tar:\n",
    "    tar.add(f'{BASIC_PATH}/part1', arcname='dataset_part1')"
   ]
  },
  {
   "cell_type": "code",
   "execution_count": null,
   "metadata": {
    "trusted": true
   },
   "outputs": [],
   "source": [
    "os.remove('dataset_part1.tar.gz')"
   ]
  },
  {
   "cell_type": "code",
   "execution_count": null,
   "metadata": {
    "trusted": true
   },
   "outputs": [],
   "source": [
    "FileLink(r'dataset_part1.zip')"
   ]
  },
  {
   "cell_type": "code",
   "execution_count": null,
   "metadata": {
    "trusted": true
   },
   "outputs": [],
   "source": [
    "create_audios(2, META_DATA_LOCALIZED_PATH, start_index=8641)"
   ]
  },
  {
   "cell_type": "code",
   "execution_count": null,
   "metadata": {
    "execution": {
     "iopub.execute_input": "2023-05-07T16:32:07.380309Z",
     "iopub.status.busy": "2023-05-07T16:32:07.379857Z",
     "iopub.status.idle": "2023-05-07T16:32:07.386762Z",
     "shell.execute_reply": "2023-05-07T16:32:07.385369Z",
     "shell.execute_reply.started": "2023-05-07T16:32:07.380248Z"
    },
    "trusted": true
   },
   "outputs": [],
   "source": [
    "# bad_ids = [(9710, 2), (19729, 4), (20309, 4), (26563, 5), (27331, 5), (27334, 5), (27377, 5), (27679, 6)]"
   ]
  },
  {
   "cell_type": "code",
   "execution_count": null,
   "metadata": {
    "execution": {
     "iopub.execute_input": "2023-05-07T16:35:30.399615Z",
     "iopub.status.busy": "2023-05-07T16:35:30.398259Z",
     "iopub.status.idle": "2023-05-07T16:35:30.407604Z",
     "shell.execute_reply": "2023-05-07T16:35:30.406368Z",
     "shell.execute_reply.started": "2023-05-07T16:35:30.399555Z"
    },
    "trusted": true
   },
   "outputs": [],
   "source": [
    "def replace_bad_sentences(ids, start_index_bad_sentences=0):\n",
    "    c = start_index_bad_sentences\n",
    "    for _id, part_id in tqdm(ids):\n",
    "        start_index = localized_meta_data[f'part{part_id}'][0]['id']\n",
    "        final_index = _id - start_index \n",
    "        path = localized_meta_data[f'part{part_id}'][final_index]['file_path']\n",
    "        replaced_sentence =  ' '.join(unaccepted_sentences[c])\n",
    "        is_ok = tts2(replaced_sentence, rate=22050, write_to_file=True, path=path, return_auido=False, threshold=18)\n",
    "        if is_ok:\n",
    "            localized_meta_data[f'part{part_id}'][final_index]['text'] = replaced_sentence\n",
    "            global_meta_data[_id - 1]['text'] = replaced_sentence\n",
    "        else:\n",
    "            print((_id, part_id))\n",
    "        c += 1\n",
    "    print(f'c is {c}')"
   ]
  },
  {
   "cell_type": "code",
   "execution_count": null,
   "metadata": {
    "execution": {
     "iopub.execute_input": "2023-05-07T16:33:16.871532Z",
     "iopub.status.busy": "2023-05-07T16:33:16.870687Z",
     "iopub.status.idle": "2023-05-07T16:34:38.982116Z",
     "shell.execute_reply": "2023-05-07T16:34:38.980801Z",
     "shell.execute_reply.started": "2023-05-07T16:33:16.871476Z"
    },
    "trusted": true
   },
   "outputs": [],
   "source": [
    "replace_bad_sentences(bad_ids, 0)"
   ]
  },
  {
   "cell_type": "code",
   "execution_count": null,
   "metadata": {
    "execution": {
     "iopub.execute_input": "2023-05-07T16:37:40.803175Z",
     "iopub.status.busy": "2023-05-07T16:37:40.802445Z",
     "iopub.status.idle": "2023-05-07T16:37:49.910503Z",
     "shell.execute_reply": "2023-05-07T16:37:49.909390Z",
     "shell.execute_reply.started": "2023-05-07T16:37:40.803134Z"
    },
    "trusted": true
   },
   "outputs": [],
   "source": [
    "bad_ids = [(27377, 5)]\n",
    "replace_bad_sentences(bad_ids, 11)"
   ]
  },
  {
   "cell_type": "code",
   "execution_count": null,
   "metadata": {
    "execution": {
     "iopub.execute_input": "2023-05-07T16:41:39.457576Z",
     "iopub.status.busy": "2023-05-07T16:41:39.456851Z",
     "iopub.status.idle": "2023-05-07T16:41:40.308156Z",
     "shell.execute_reply": "2023-05-07T16:41:40.306407Z",
     "shell.execute_reply.started": "2023-05-07T16:41:39.457530Z"
    },
    "trusted": true
   },
   "outputs": [],
   "source": [
    "with open(f'{BASIC_PATH}/global_metadata.json', 'w') as f:\n",
    "    json.dump(global_meta_data, f)\n",
    "META_DATA_LOCALIZED_PATH = f'{BASIC_PATH}/localized_metadata.json'\n",
    "with open(META_DATA_LOCALIZED_PATH, 'w') as f:\n",
    "    json.dump(localized_meta_data, f)"
   ]
  },
  {
   "cell_type": "code",
   "execution_count": null,
   "metadata": {
    "execution": {
     "iopub.execute_input": "2023-05-07T16:47:47.528967Z",
     "iopub.status.busy": "2023-05-07T16:47:47.528281Z",
     "iopub.status.idle": "2023-05-07T16:50:48.841707Z",
     "shell.execute_reply": "2023-05-07T16:50:48.840370Z",
     "shell.execute_reply.started": "2023-05-07T16:47:47.528916Z"
    },
    "trusted": true
   },
   "outputs": [],
   "source": [
    "shutil.make_archive('dataset_part2', 'zip', f'{BASIC_PATH}/part2')"
   ]
  },
  {
   "cell_type": "code",
   "execution_count": null,
   "metadata": {
    "execution": {
     "iopub.execute_input": "2023-05-07T16:50:48.843941Z",
     "iopub.status.busy": "2023-05-07T16:50:48.843639Z",
     "iopub.status.idle": "2023-05-07T16:50:48.850873Z",
     "shell.execute_reply": "2023-05-07T16:50:48.849844Z",
     "shell.execute_reply.started": "2023-05-07T16:50:48.843910Z"
    },
    "trusted": true
   },
   "outputs": [],
   "source": [
    "# FileLink(r'dataset_part2.zip')"
   ]
  },
  {
   "cell_type": "code",
   "execution_count": null,
   "metadata": {
    "execution": {
     "iopub.execute_input": "2023-05-07T16:52:21.735351Z",
     "iopub.status.busy": "2023-05-07T16:52:21.734275Z",
     "iopub.status.idle": "2023-05-07T16:55:49.547738Z",
     "shell.execute_reply": "2023-05-07T16:55:49.546344Z",
     "shell.execute_reply.started": "2023-05-07T16:52:21.735286Z"
    },
    "trusted": true
   },
   "outputs": [],
   "source": [
    "# shutil.make_archive('dataset_part4', 'zip', f'{BASIC_PATH}/part4')"
   ]
  },
  {
   "cell_type": "code",
   "execution_count": null,
   "metadata": {
    "execution": {
     "iopub.execute_input": "2023-05-07T16:55:49.550424Z",
     "iopub.status.busy": "2023-05-07T16:55:49.549982Z",
     "iopub.status.idle": "2023-05-07T16:55:49.557275Z",
     "shell.execute_reply": "2023-05-07T16:55:49.556099Z",
     "shell.execute_reply.started": "2023-05-07T16:55:49.550379Z"
    },
    "trusted": true
   },
   "outputs": [],
   "source": [
    "# FileLink(r'dataset_part4.zip')"
   ]
  },
  {
   "cell_type": "code",
   "execution_count": null,
   "metadata": {
    "execution": {
     "iopub.execute_input": "2023-05-07T17:00:13.440726Z",
     "iopub.status.busy": "2023-05-07T17:00:13.439737Z",
     "iopub.status.idle": "2023-05-07T17:00:13.537744Z",
     "shell.execute_reply": "2023-05-07T17:00:13.536158Z",
     "shell.execute_reply.started": "2023-05-07T17:00:13.440680Z"
    },
    "trusted": true
   },
   "outputs": [],
   "source": [
    "# os.remove('dataset_part2.zip')"
   ]
  },
  {
   "cell_type": "code",
   "execution_count": null,
   "metadata": {
    "execution": {
     "iopub.execute_input": "2023-05-07T17:11:53.725047Z",
     "iopub.status.busy": "2023-05-07T17:11:53.724624Z",
     "iopub.status.idle": "2023-05-07T17:11:54.153709Z",
     "shell.execute_reply": "2023-05-07T17:11:54.152108Z",
     "shell.execute_reply.started": "2023-05-07T17:11:53.725008Z"
    },
    "trusted": true
   },
   "outputs": [],
   "source": [
    "# os.remove('dataset_part6.zip')"
   ]
  },
  {
   "cell_type": "code",
   "execution_count": null,
   "metadata": {
    "execution": {
     "iopub.execute_input": "2023-05-07T17:00:31.250453Z",
     "iopub.status.busy": "2023-05-07T17:00:31.249667Z",
     "iopub.status.idle": "2023-05-07T17:03:53.082144Z",
     "shell.execute_reply": "2023-05-07T17:03:53.081100Z",
     "shell.execute_reply.started": "2023-05-07T17:00:31.250409Z"
    },
    "trusted": true
   },
   "outputs": [],
   "source": [
    "# shutil.make_archive('dataset_part5', 'zip', f'{BASIC_PATH}/part5')"
   ]
  },
  {
   "cell_type": "code",
   "execution_count": null,
   "metadata": {
    "execution": {
     "iopub.execute_input": "2023-05-07T17:03:53.090981Z",
     "iopub.status.busy": "2023-05-07T17:03:53.090601Z",
     "iopub.status.idle": "2023-05-07T17:03:53.105268Z",
     "shell.execute_reply": "2023-05-07T17:03:53.104126Z",
     "shell.execute_reply.started": "2023-05-07T17:03:53.090941Z"
    },
    "trusted": true
   },
   "outputs": [],
   "source": [
    "# FileLink(r'dataset_part5.zip')"
   ]
  },
  {
   "cell_type": "code",
   "execution_count": null,
   "metadata": {
    "execution": {
     "iopub.execute_input": "2023-05-07T17:11:58.284439Z",
     "iopub.status.busy": "2023-05-07T17:11:58.283191Z",
     "iopub.status.idle": "2023-05-07T17:15:35.337448Z",
     "shell.execute_reply": "2023-05-07T17:15:35.336343Z",
     "shell.execute_reply.started": "2023-05-07T17:11:58.284366Z"
    },
    "trusted": true
   },
   "outputs": [],
   "source": [
    "# shutil.make_archive('dataset_part6', 'zip', f'{BASIC_PATH}/part6')"
   ]
  },
  {
   "cell_type": "code",
   "execution_count": null,
   "metadata": {
    "execution": {
     "iopub.execute_input": "2023-05-07T17:15:35.339821Z",
     "iopub.status.busy": "2023-05-07T17:15:35.339516Z",
     "iopub.status.idle": "2023-05-07T17:15:35.350005Z",
     "shell.execute_reply": "2023-05-07T17:15:35.348924Z",
     "shell.execute_reply.started": "2023-05-07T17:15:35.339791Z"
    },
    "trusted": true
   },
   "outputs": [],
   "source": [
    "# FileLink(r'dataset_part6.zip')"
   ]
  },
  {
   "cell_type": "code",
   "execution_count": null,
   "metadata": {
    "execution": {
     "iopub.execute_input": "2023-05-07T17:16:34.854613Z",
     "iopub.status.busy": "2023-05-07T17:16:34.853579Z",
     "iopub.status.idle": "2023-05-07T17:16:35.560070Z",
     "shell.execute_reply": "2023-05-07T17:16:35.558898Z",
     "shell.execute_reply.started": "2023-05-07T17:16:34.854567Z"
    },
    "trusted": true
   },
   "outputs": [],
   "source": [
    "# shutil.rmtree('dataset/part2')\n",
    "# shutil.rmtree('dataset/part4')\n",
    "# shutil.rmtree('dataset/part5')"
   ]
  },
  {
   "cell_type": "code",
   "execution_count": null,
   "metadata": {
    "trusted": true
   },
   "outputs": [],
   "source": [
    "# create_audios(3, META_DATA_LOCALIZED_PATH)"
   ]
  },
  {
   "cell_type": "code",
   "execution_count": null,
   "metadata": {
    "execution": {
     "iopub.execute_input": "2023-05-07T17:27:29.328106Z",
     "iopub.status.busy": "2023-05-07T17:27:29.326840Z",
     "iopub.status.idle": "2023-05-07T17:27:29.786115Z",
     "shell.execute_reply": "2023-05-07T17:27:29.784742Z",
     "shell.execute_reply.started": "2023-05-07T17:27:29.328045Z"
    },
    "trusted": true
   },
   "outputs": [],
   "source": [
    "# os.remove('dataset_part6.zip')"
   ]
  },
  {
   "cell_type": "code",
   "execution_count": null,
   "metadata": {
    "trusted": true
   },
   "outputs": [],
   "source": [
    "# shutil.make_archive('dataset_part3', 'zip', f'{BASIC_PATH}/part3')"
   ]
  },
  {
   "cell_type": "code",
   "execution_count": null,
   "metadata": {
    "trusted": true
   },
   "outputs": [],
   "source": [
    "# FileLink(r'dataset_part3.zip')"
   ]
  },
  {
   "cell_type": "code",
   "execution_count": null,
   "metadata": {
    "trusted": true
   },
   "outputs": [],
   "source": [
    "# part_id = 5\n",
    "# start_index = localized_meta_data[f'part{part_id}'][0]['id']\n",
    "# final_index = 22080 - start_index \n",
    "\n",
    "# print(localized_meta_data[f'part{part_id}'][final_index])\n",
    "# _id = localized_meta_data[f'part{part_id}'][final_index]['id']\n",
    "# Audio(filename=f'{BASIC_PATH}/part{part_id}/audios/audio_{_id}.wav')"
   ]
  },
  {
   "cell_type": "code",
   "execution_count": null,
   "metadata": {
    "trusted": true
   },
   "outputs": [],
   "source": [
    "# create_audios(4, META_DATA_LOCALIZED_PATH, 20310)"
   ]
  },
  {
   "cell_type": "code",
   "execution_count": null,
   "metadata": {
    "trusted": true
   },
   "outputs": [],
   "source": [
    "# os.remove('dataset_part3.zip')"
   ]
  },
  {
   "cell_type": "code",
   "execution_count": null,
   "metadata": {
    "trusted": true
   },
   "outputs": [],
   "source": [
    "# create_audios(5, META_DATA_LOCALIZED_PATH, 27378)"
   ]
  },
  {
   "cell_type": "code",
   "execution_count": null,
   "metadata": {
    "trusted": true
   },
   "outputs": [],
   "source": [
    "# create_audios(6, META_DATA_LOCALIZED_PATH, 27680)"
   ]
  },
  {
   "cell_type": "code",
   "execution_count": null,
   "metadata": {
    "execution": {
     "iopub.execute_input": "2023-05-07T16:45:15.294759Z",
     "iopub.status.busy": "2023-05-07T16:45:15.294320Z",
     "iopub.status.idle": "2023-05-07T16:45:15.540656Z",
     "shell.execute_reply": "2023-05-07T16:45:15.539494Z",
     "shell.execute_reply.started": "2023-05-07T16:45:15.294721Z"
    },
    "trusted": true
   },
   "outputs": [],
   "source": [
    "# shutil.rmtree('dataset/part3')"
   ]
  },
  {
   "cell_type": "code",
   "execution_count": null,
   "metadata": {
    "execution": {
     "iopub.execute_input": "2023-05-07T21:07:56.685093Z",
     "iopub.status.busy": "2023-05-07T21:07:56.684333Z",
     "iopub.status.idle": "2023-05-07T23:53:57.302072Z",
     "shell.execute_reply": "2023-05-07T23:53:57.300839Z",
     "shell.execute_reply.started": "2023-05-07T21:07:56.685049Z"
    },
    "trusted": true
   },
   "outputs": [],
   "source": [
    "# create_audios(7, META_DATA_LOCALIZED_PATH, 35321)"
   ]
  },
  {
   "cell_type": "code",
   "execution_count": null,
   "metadata": {
    "execution": {
     "iopub.execute_input": "2023-05-08T00:09:59.800074Z",
     "iopub.status.busy": "2023-05-08T00:09:59.799328Z",
     "iopub.status.idle": "2023-05-08T03:55:20.600401Z",
     "shell.execute_reply": "2023-05-08T03:55:20.598328Z",
     "shell.execute_reply.started": "2023-05-08T00:09:59.800031Z"
    },
    "trusted": true
   },
   "outputs": [],
   "source": [
    "# create_audios(8, META_DATA_LOCALIZED_PATH)"
   ]
  },
  {
   "cell_type": "code",
   "execution_count": null,
   "metadata": {
    "execution": {
     "iopub.execute_input": "2023-05-08T03:55:20.604755Z",
     "iopub.status.busy": "2023-05-08T03:55:20.604412Z",
     "iopub.status.idle": "2023-05-08T07:44:22.457491Z",
     "shell.execute_reply": "2023-05-08T07:44:22.456286Z",
     "shell.execute_reply.started": "2023-05-08T03:55:20.604722Z"
    },
    "trusted": true
   },
   "outputs": [],
   "source": [
    "# create_audios(9, META_DATA_LOCALIZED_PATH)"
   ]
  },
  {
   "cell_type": "code",
   "execution_count": null,
   "metadata": {
    "execution": {
     "iopub.execute_input": "2023-05-08T11:57:36.260555Z",
     "iopub.status.busy": "2023-05-08T11:57:36.259480Z",
     "iopub.status.idle": "2023-05-08T14:51:17.807012Z",
     "shell.execute_reply": "2023-05-08T14:51:17.805842Z",
     "shell.execute_reply.started": "2023-05-08T11:57:36.260500Z"
    },
    "trusted": true
   },
   "outputs": [],
   "source": [
    "create_audios(10, META_DATA_LOCALIZED_PATH, 51165)"
   ]
  },
  {
   "cell_type": "code",
   "execution_count": null,
   "metadata": {
    "execution": {
     "iopub.execute_input": "2023-05-08T14:53:43.514182Z",
     "iopub.status.busy": "2023-05-08T14:53:43.513016Z",
     "iopub.status.idle": "2023-05-08T14:56:34.208163Z",
     "shell.execute_reply": "2023-05-08T14:56:34.207122Z",
     "shell.execute_reply.started": "2023-05-08T14:53:43.514132Z"
    },
    "trusted": true
   },
   "outputs": [],
   "source": [
    "shutil.make_archive('dataset_part7', 'zip', f'{BASIC_PATH}/part7')"
   ]
  },
  {
   "cell_type": "code",
   "execution_count": null,
   "metadata": {
    "execution": {
     "iopub.execute_input": "2023-05-08T14:56:34.210728Z",
     "iopub.status.busy": "2023-05-08T14:56:34.210320Z",
     "iopub.status.idle": "2023-05-08T14:56:34.217556Z",
     "shell.execute_reply": "2023-05-08T14:56:34.216461Z",
     "shell.execute_reply.started": "2023-05-08T14:56:34.210687Z"
    },
    "trusted": true
   },
   "outputs": [],
   "source": [
    "FileLink(r'dataset_part7.zip')"
   ]
  },
  {
   "cell_type": "code",
   "execution_count": null,
   "metadata": {
    "execution": {
     "iopub.execute_input": "2023-05-08T14:57:43.560647Z",
     "iopub.status.busy": "2023-05-08T14:57:43.559484Z",
     "iopub.status.idle": "2023-05-08T14:59:47.934210Z",
     "shell.execute_reply": "2023-05-08T14:59:47.932958Z",
     "shell.execute_reply.started": "2023-05-08T14:57:43.560595Z"
    },
    "trusted": true
   },
   "outputs": [],
   "source": [
    "shutil.make_archive('dataset_part8', 'zip', f'{BASIC_PATH}/part8')"
   ]
  },
  {
   "cell_type": "code",
   "execution_count": null,
   "metadata": {
    "execution": {
     "iopub.execute_input": "2023-05-08T14:59:47.936856Z",
     "iopub.status.busy": "2023-05-08T14:59:47.936421Z",
     "iopub.status.idle": "2023-05-08T14:59:47.946494Z",
     "shell.execute_reply": "2023-05-08T14:59:47.945196Z",
     "shell.execute_reply.started": "2023-05-08T14:59:47.936815Z"
    },
    "trusted": true
   },
   "outputs": [],
   "source": [
    "FileLink(r'dataset_part8.zip')"
   ]
  },
  {
   "cell_type": "code",
   "execution_count": null,
   "metadata": {
    "execution": {
     "iopub.execute_input": "2023-05-08T15:06:49.860156Z",
     "iopub.status.busy": "2023-05-08T15:06:49.857763Z",
     "iopub.status.idle": "2023-05-08T15:09:04.001770Z",
     "shell.execute_reply": "2023-05-08T15:09:03.997611Z",
     "shell.execute_reply.started": "2023-05-08T15:06:49.860116Z"
    },
    "trusted": true
   },
   "outputs": [],
   "source": [
    "shutil.make_archive('dataset_part10', 'zip', f'{BASIC_PATH}/part10')\n",
    "FileLink(r'dataset_part10.zip')"
   ]
  },
  {
   "cell_type": "code",
   "execution_count": null,
   "metadata": {},
   "outputs": [],
   "source": [
    "\n",
    "# for extract\n",
    "import zipfile\n",
    "with zipfile.ZipFile('example.zip', 'r') as zip_ref:\n",
    "    zip_ref.extractall('target_dir')"
   ]
  },
  {
   "cell_type": "markdown",
   "metadata": {},
   "source": [
    "# Dataset Histogram"
   ]
  },
  {
   "cell_type": "code",
   "execution_count": null,
   "metadata": {},
   "outputs": [],
   "source": [
    "import nltk\n",
    "from nltk.corpus import brown\n",
    "categories = brown.categories()\n",
    "sentences = [len(brown.sents(categories=cat)) for cat in categories]\n",
    "print(dict(zip(categories, sentences)))\n"
   ]
  },
  {
   "cell_type": "code",
   "execution_count": null,
   "metadata": {},
   "outputs": [],
   "source": [
    "import matplotlib.pyplot as plt\n",
    "plt.bar(categories, sentences)\n",
    "plt.xticks(rotation=90)\n",
    "plt.xlabel('Category')\n",
    "plt.ylabel('Number of sentences')\n",
    "plt.show()"
   ]
  }
 ],
 "metadata": {
  "kaggle": {
   "accelerator": "nvidiaTeslaT4",
   "dataSources": [],
   "dockerImageVersionId": 30461,
   "isGpuEnabled": true,
   "isInternetEnabled": true,
   "language": "python",
   "sourceType": "notebook"
  },
  "kernelspec": {
   "display_name": "Python 3",
   "language": "python",
   "name": "python3"
  },
  "language_info": {
   "codemirror_mode": {
    "name": "ipython",
    "version": 3
   },
   "file_extension": ".py",
   "mimetype": "text/x-python",
   "name": "python",
   "nbconvert_exporter": "python",
   "pygments_lexer": "ipython3",
   "version": "3.7.12"
  }
 },
 "nbformat": 4,
 "nbformat_minor": 4
}
